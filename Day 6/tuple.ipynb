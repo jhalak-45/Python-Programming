{
 "cells": [
  {
   "cell_type": "markdown",
   "id": "1ea911f5-f338-4a45-a993-9f4dc3eb9a03",
   "metadata": {},
   "source": [
    "## tuple in python\n",
    "- replication/duplicate allow\n",
    "- immutable (cannot chage value)\n",
    "- used small bracket i.e ()"
   ]
  },
  {
   "cell_type": "code",
   "execution_count": 1,
   "id": "4459a517-5c13-4b24-a288-23decfd51964",
   "metadata": {},
   "outputs": [
    {
     "name": "stdout",
     "output_type": "stream",
     "text": [
      "('Ramesh', 'Mahesh', 'Krishna', 'Ram')\n"
     ]
    }
   ],
   "source": [
    "tuples=(\"Ramesh\",\"Mahesh\",\"Krishna\",\"Ram\")\n",
    "print(tuples)\n"
   ]
  },
  {
   "cell_type": "code",
   "execution_count": 2,
   "id": "db34d527-99fe-45e9-a6d7-6f78c1a32c69",
   "metadata": {},
   "outputs": [
    {
     "name": "stdout",
     "output_type": "stream",
     "text": [
      "<class 'tuple'>\n"
     ]
    }
   ],
   "source": [
    "print(type(tuples))"
   ]
  },
  {
   "cell_type": "code",
   "execution_count": 3,
   "id": "17a3ed7d-eab4-4b52-b160-fd48895ba013",
   "metadata": {},
   "outputs": [
    {
     "name": "stdout",
     "output_type": "stream",
     "text": [
      "Ramesh\n",
      "Mahesh\n",
      "Krishna\n",
      "Ram\n"
     ]
    }
   ],
   "source": [
    "for i in tuples:\n",
    "    print(i)"
   ]
  },
  {
   "cell_type": "code",
   "execution_count": 4,
   "id": "ed5574fc-c57b-4fde-b6ec-5a3e638d2b8b",
   "metadata": {},
   "outputs": [
    {
     "name": "stdout",
     "output_type": "stream",
     "text": [
      "Ramesh\n"
     ]
    }
   ],
   "source": [
    "print(tuples[0])"
   ]
  },
  {
   "cell_type": "code",
   "execution_count": 7,
   "id": "f4cf1b5a-a3a1-469c-bc2a-2f8751ad0ea9",
   "metadata": {},
   "outputs": [],
   "source": [
    "# tuples[0]=\"Rakesh\"  # this doesn't allow in tuples due to immutable"
   ]
  },
  {
   "cell_type": "code",
   "execution_count": 9,
   "id": "c768b2a5-f2ca-43fd-89b8-77384bc78fbb",
   "metadata": {},
   "outputs": [
    {
     "name": "stdout",
     "output_type": "stream",
     "text": [
      "['Ramesh', 'Mahesh', 'Krishna', 'Ram']\n"
     ]
    }
   ],
   "source": [
    "names=list(tuples) #convert in list\n",
    "print(names)"
   ]
  },
  {
   "cell_type": "code",
   "execution_count": 10,
   "id": "c6f2141c-b583-40d3-aa75-d5f78cbd3613",
   "metadata": {},
   "outputs": [
    {
     "name": "stdout",
     "output_type": "stream",
     "text": [
      "Sita\n",
      "60\n",
      "80.9\n",
      "(4+6j)\n",
      "True\n",
      "False\n"
     ]
    }
   ],
   "source": [
    "name=(\"Sita\",60,80.9,4+6j,True,False)\n",
    "for n in name:\n",
    "    print(n)"
   ]
  },
  {
   "cell_type": "code",
   "execution_count": 13,
   "id": "38af5d9b-5f0e-4891-807d-521632e4cae9",
   "metadata": {},
   "outputs": [
    {
     "name": "stdout",
     "output_type": "stream",
     "text": [
      "('Sita', 60)\n",
      "('Sita', 60, 80.9, (4+6j), True, False)\n"
     ]
    }
   ],
   "source": [
    "print(name[0:2])\n",
    "print(name[:])"
   ]
  },
  {
   "cell_type": "code",
   "execution_count": 17,
   "id": "f0431d7f-f5e5-431c-8a7a-b66187359748",
   "metadata": {},
   "outputs": [
    {
     "name": "stdout",
     "output_type": "stream",
     "text": [
      "(60, 80.9, (4+6j), True)\n"
     ]
    }
   ],
   "source": [
    "print(name[1:5])"
   ]
  },
  {
   "cell_type": "code",
   "execution_count": 19,
   "id": "3d29eafb-e880-4b1b-b283-9a214012ea76",
   "metadata": {},
   "outputs": [
    {
     "name": "stdout",
     "output_type": "stream",
     "text": [
      "('Sita', 60, 80.9, (4+6j), True)\n"
     ]
    }
   ],
   "source": [
    "print(name[:5])"
   ]
  },
  {
   "cell_type": "code",
   "execution_count": 20,
   "id": "b260da64-80b3-400e-b225-dde179fd898c",
   "metadata": {},
   "outputs": [
    {
     "name": "stdout",
     "output_type": "stream",
     "text": [
      "(80.9, (4+6j), True, False)\n"
     ]
    }
   ],
   "source": [
    "print(name[2:])"
   ]
  },
  {
   "cell_type": "code",
   "execution_count": 27,
   "id": "d20c22fe-1303-4d29-b2a2-f6725003189b",
   "metadata": {},
   "outputs": [
    {
     "data": {
      "text/plain": [
       "5"
      ]
     },
     "execution_count": 27,
     "metadata": {},
     "output_type": "execute_result"
    }
   ],
   "source": [
    "num=(2,1,69,45,89)\n",
    "len(num)"
   ]
  },
  {
   "attachments": {
    "7a99eb18-08b4-4ed7-8adc-7c9df8079efd.png": {
     "image/png": "[encoded data removed]"
    }
   },
   "cell_type": "markdown",
   "id": "a7b8ce8b-ab05-44d2-8d7d-84ec88849534",
   "metadata": {},
   "source": [
    "![image.png](attachment:7a99eb18-08b4-4ed7-8adc-7c9df8079efd.png)\n"
   ]
  },
  {
   "cell_type": "code",
   "execution_count": 30,
   "id": "07887a7c-602b-4747-9ed9-35b901db941f",
   "metadata": {},
   "outputs": [
    {
     "data": {
      "text/plain": [
       "89"
      ]
     },
     "execution_count": 30,
     "metadata": {},
     "output_type": "execute_result"
    }
   ],
   "source": [
    "max(num)"
   ]
  },
  {
   "cell_type": "code",
   "execution_count": 31,
   "id": "5463565a-205d-4e66-b6ff-292fee699d51",
   "metadata": {},
   "outputs": [
    {
     "data": {
      "text/plain": [
       "1"
      ]
     },
     "execution_count": 31,
     "metadata": {},
     "output_type": "execute_result"
    }
   ],
   "source": [
    "min(num)\n"
   ]
  },
  {
   "cell_type": "code",
   "execution_count": 36,
   "id": "87958396-c816-4c2b-9674-970139fa86c9",
   "metadata": {},
   "outputs": [
    {
     "data": {
      "text/plain": [
       "4"
      ]
     },
     "execution_count": 36,
     "metadata": {},
     "output_type": "execute_result"
    }
   ],
   "source": [
    "num.index(89)"
   ]
  },
  {
   "cell_type": "code",
   "execution_count": 37,
   "id": "b0bbbc30-c8e7-4a0e-bb1c-5619483756e7",
   "metadata": {},
   "outputs": [
    {
     "data": {
      "text/plain": [
       "206"
      ]
     },
     "execution_count": 37,
     "metadata": {},
     "output_type": "execute_result"
    }
   ],
   "source": [
    "sum(num)"
   ]
  },
  {
   "cell_type": "code",
   "execution_count": 41,
   "id": "072b783c-eac6-4387-85fa-45c096c9ed7d",
   "metadata": {},
   "outputs": [
    {
     "name": "stdout",
     "output_type": "stream",
     "text": [
      "['Ramesh', 'Mahesh', 'Krishna', 'Ram']\n"
     ]
    }
   ],
   "source": [
    "list1=list(names)\n",
    "print(list1)"
   ]
  },
  {
   "cell_type": "code",
   "execution_count": 42,
   "id": "6ad638c8-2e25-4016-a046-98ec0e06846b",
   "metadata": {},
   "outputs": [],
   "source": [
    "list1.append(\"Ram Krishna\")"
   ]
  },
  {
   "cell_type": "code",
   "execution_count": 43,
   "id": "5f53657d-7f0d-4b5c-82ff-216b6610db49",
   "metadata": {},
   "outputs": [
    {
     "name": "stdout",
     "output_type": "stream",
     "text": [
      "['Ramesh', 'Mahesh', 'Krishna', 'Ram', 'Ram Krishna']\n"
     ]
    }
   ],
   "source": [
    "print(list1)"
   ]
  },
  {
   "cell_type": "code",
   "execution_count": 48,
   "id": "b57bbab9-e004-4bb6-bde7-c2e31681282e",
   "metadata": {},
   "outputs": [
    {
     "data": {
      "text/plain": [
       "tuple"
      ]
     },
     "execution_count": 48,
     "metadata": {},
     "output_type": "execute_result"
    }
   ],
   "source": [
    "t=(5,)\n",
    "type(t)"
   ]
  },
  {
   "cell_type": "code",
   "execution_count": 53,
   "id": "2beb0934-487a-4ee1-b978-6af7efaf42b9",
   "metadata": {},
   "outputs": [
    {
     "name": "stdout",
     "output_type": "stream",
     "text": [
      "('Ramesh', 'Mahesh', 'Krishna', 'Ram', 'Ram Krishna')\n"
     ]
    }
   ],
   "source": [
    "list2=tuple(list1)\n",
    "print(list2)"
   ]
  },
  {
   "cell_type": "code",
   "execution_count": 54,
   "id": "ad98a422-4941-49a7-8b6f-08ac2528474e",
   "metadata": {},
   "outputs": [
    {
     "name": "stdout",
     "output_type": "stream",
     "text": [
      "{'Ram', 'Ramesh', 'Ram Krishna', 'Krishna', 'Mahesh'}\n"
     ]
    }
   ],
   "source": [
    "list2=set(list1)\n",
    "print(list2)"
   ]
  },
  {
   "cell_type": "code",
   "execution_count": 56,
   "id": "006c4729-446a-4ed3-8705-6d45ce2128c7",
   "metadata": {},
   "outputs": [
    {
     "name": "stdout",
     "output_type": "stream",
     "text": [
      "Ram\n",
      "Ramesh\n",
      "Ram Krishna\n",
      "Krishna\n",
      "Mahesh\n"
     ]
    }
   ],
   "source": [
    "for i in list2:\n",
    "    print(i)"
   ]
  },
  {
   "cell_type": "code",
   "execution_count": 67,
   "id": "02ca200c-d77e-48c4-b3f7-7ae390d9a14c",
   "metadata": {},
   "outputs": [
    {
     "name": "stdout",
     "output_type": "stream",
     "text": [
      "Ram\n",
      "Ramesh\n",
      "['Ram Krishna', 'Krishna', 'Mahesh']\n"
     ]
    }
   ],
   "source": [
    "n1,n2,*n3=list2\n",
    "print(n1)\n",
    "print(n2)\n",
    "print(n3)\n"
   ]
  },
  {
   "cell_type": "code",
   "execution_count": 75,
   "id": "0655ee9d-58f2-4b18-aa7b-d05c1693acc8",
   "metadata": {},
   "outputs": [
    {
     "name": "stdout",
     "output_type": "stream",
     "text": [
      "{'Ramesh', 'Ram Krishna', 'Krishna', 'Ram', 'Mahesh'}\n"
     ]
    }
   ],
   "source": [
    "name=list2.copy()\n",
    "print(name)\n"
   ]
  }
 ],
 "metadata": {
  "kernelspec": {
   "display_name": "Python 3 (ipykernel)",
   "language": "python",
   "name": "python3"
  },
  "language_info": {
   "codemirror_mode": {
    "name": "ipython",
    "version": 3
   },
   "file_extension": ".py",
   "mimetype": "text/x-python",
   "name": "python",
   "nbconvert_exporter": "python",
   "pygments_lexer": "ipython3",
   "version": "3.12.6"
  },
  "widgets": {
   "application/vnd.jupyter.widget-state+json": {
    "state": {},
    "version_major": 2,
    "version_minor": 0
   }
  }
 },
 "nbformat": 4,
 "nbformat_minor": 5
}
