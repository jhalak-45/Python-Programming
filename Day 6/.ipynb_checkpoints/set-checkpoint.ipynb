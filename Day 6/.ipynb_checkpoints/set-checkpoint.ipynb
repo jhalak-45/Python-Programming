{
 "cells": [
  {
   "cell_type": "markdown",
   "id": "f7966225-3f78-4530-b5ba-9677751ffd79",
   "metadata": {},
   "source": [
    "## set in python\n",
    "- replication/duplicate not allow\n",
    "- immutable (cannot chage value)\n",
    "- used curly bracket i.e {}"
   ]
  },
  {
   "cell_type": "code",
   "execution_count": 2,
   "id": "8e4f4056-3de4-4837-9f7a-98058feeeccb",
   "metadata": {},
   "outputs": [
    {
     "name": "stdout",
     "output_type": "stream",
     "text": [
      "{'Ramesh', 'Hari', 'Ram', 'Sita'}\n",
      "<class 'set'>\n"
     ]
    }
   ],
   "source": [
    "names={\"Hari\",\"Sita\",\"Ram\",\"Ramesh\"}\n",
    "print(names)"
   ]
  },
  {
   "cell_type": "code",
   "execution_count": 3,
   "id": "3d572737-1ed4-4a49-95b9-b228b12cf13f",
   "metadata": {},
   "outputs": [
    {
     "name": "stdout",
     "output_type": "stream",
     "text": [
      "<class 'set'>\n"
     ]
    }
   ],
   "source": [
    "print(type(names))"
   ]
  },
  {
   "cell_type": "code",
   "execution_count": 5,
   "id": "81f05d3b-ff8c-4ced-98e4-d423e7e117ab",
   "metadata": {},
   "outputs": [
    {
     "data": {
      "text/plain": [
       "'Ramesh'"
      ]
     },
     "execution_count": 5,
     "metadata": {},
     "output_type": "execute_result"
    }
   ],
   "source": [
    "names.pop()"
   ]
  },
  {
   "cell_type": "code",
   "execution_count": 12,
   "id": "c175a776-5ae6-405f-a9b0-217be5a9c01c",
   "metadata": {},
   "outputs": [
    {
     "name": "stdout",
     "output_type": "stream",
     "text": [
      "{'Hari', 'Ram', 'Sita'}\n"
     ]
    }
   ],
   "source": [
    "print(names)"
   ]
  },
  {
   "cell_type": "code",
   "execution_count": 16,
   "id": "7c1399b7-0a5c-446d-b448-c93d26d3c7c7",
   "metadata": {},
   "outputs": [
    {
     "data": {
      "text/plain": [
       "True"
      ]
     },
     "execution_count": 16,
     "metadata": {},
     "output_type": "execute_result"
    }
   ],
   "source": [
    "\"Ram\"  in names"
   ]
  },
  {
   "cell_type": "code",
   "execution_count": 18,
   "id": "0fcd5e7a-228d-458c-a2db-273bb2fdc1da",
   "metadata": {},
   "outputs": [
    {
     "data": {
      "text/plain": [
       "True"
      ]
     },
     "execution_count": 18,
     "metadata": {},
     "output_type": "execute_result"
    }
   ],
   "source": [
    "\"Harish\" not in names"
   ]
  },
  {
   "cell_type": "code",
   "execution_count": 19,
   "id": "eb3f3397-ddcd-4d93-9e09-ee472436250c",
   "metadata": {},
   "outputs": [
    {
     "name": "stdout",
     "output_type": "stream",
     "text": [
      "Hari\n",
      "Ram\n",
      "Sita\n"
     ]
    }
   ],
   "source": [
    "for i in names:\n",
    "    print(i)"
   ]
  },
  {
   "cell_type": "markdown",
   "id": "58fa7ead-6196-46bf-b616-c60c7ec2fba5",
   "metadata": {},
   "source": []
  },
  {
   "cell_type": "code",
   "execution_count": 20,
   "id": "2b5bc2a5-cec7-4fc1-95a7-224aec2ee242",
   "metadata": {},
   "outputs": [
    {
     "name": "stdout",
     "output_type": "stream",
     "text": [
      "{'X', 'Hari', 'Ramesh', 'Y', 'Krishna', 'Ram'}\n"
     ]
    }
   ],
   "source": [
    "name1={\"Ram\",\"Hari\",\"Krishna\",\"Ramesh\"}\n",
    "name2={\"X\",\"Y\",\"Hari\"}\n",
    "print(name1.union(name2))"
   ]
  },
  {
   "cell_type": "code",
   "execution_count": 21,
   "id": "8d100b17-0495-441d-99b4-a29b560dae8e",
   "metadata": {},
   "outputs": [
    {
     "name": "stdout",
     "output_type": "stream",
     "text": [
      "{'Hari'}\n"
     ]
    }
   ],
   "source": [
    "print(name1.intersection(name2))\n"
   ]
  },
  {
   "cell_type": "code",
   "execution_count": 23,
   "id": "8efe1dfe-1590-488e-b06c-1d76a9f19281",
   "metadata": {},
   "outputs": [
    {
     "data": {
      "text/plain": [
       "4"
      ]
     },
     "execution_count": 23,
     "metadata": {},
     "output_type": "execute_result"
    }
   ],
   "source": [
    "len(name1)"
   ]
  },
  {
   "cell_type": "code",
   "execution_count": 25,
   "id": "52592734-9664-4a9b-b45a-a3001515e27c",
   "metadata": {},
   "outputs": [
    {
     "name": "stdout",
     "output_type": "stream",
     "text": [
      "{'Ram', 'Ramc', 'Hari', 'Ramesh', 'Krishna'}\n"
     ]
    }
   ],
   "source": [
    "name1.add(\"Ramc\")\n",
    "print(name1)"
   ]
  },
  {
   "cell_type": "code",
   "execution_count": 46,
   "id": "ed2edda3-6074-471f-ad45-bf9a77138901",
   "metadata": {},
   "outputs": [
    {
     "name": "stdout",
     "output_type": "stream",
     "text": [
      "Grapes\n",
      "Peaches\n",
      "Apple\n",
      "Banana\n",
      "Mango\n"
     ]
    }
   ],
   "source": [
    "fruits={\"Mango\",\"Apple\",\"Banana\",\"Grapes\",\"Peaches\"}\n",
    "for i in fruits:\n",
    "    print(i)"
   ]
  },
  {
   "cell_type": "code",
   "execution_count": 31,
   "id": "2833b58a-4eab-4c41-82aa-2ae70cc0c779",
   "metadata": {},
   "outputs": [
    {
     "name": "stdout",
     "output_type": "stream",
     "text": [
      "{'Grapes', 'Peaches', 'Apple', 'Banana', 'Mango'}\n"
     ]
    }
   ],
   "source": [
    "print(fruits)"
   ]
  },
  {
   "cell_type": "code",
   "execution_count": 32,
   "id": "782bba91-2b1a-4e03-b6f8-08090de8b334",
   "metadata": {},
   "outputs": [
    {
     "data": {
      "text/plain": [
       "'Grapes'"
      ]
     },
     "execution_count": 32,
     "metadata": {},
     "output_type": "execute_result"
    }
   ],
   "source": [
    "fruits.pop()"
   ]
  },
  {
   "cell_type": "code",
   "execution_count": 34,
   "id": "3c36a480-29fc-4c18-9ec6-a09d4e4275b0",
   "metadata": {},
   "outputs": [
    {
     "name": "stdout",
     "output_type": "stream",
     "text": [
      "{'Peaches', 'Apple', 'Banana', 'Mango', 'Kela'}\n"
     ]
    }
   ],
   "source": [
    "fruits.add(\"Kela\")\n",
    "print(fruits)"
   ]
  },
  {
   "cell_type": "code",
   "execution_count": 48,
   "id": "3e791392-3b97-4e70-8970-59bf559ddde2",
   "metadata": {},
   "outputs": [
    {
     "name": "stdout",
     "output_type": "stream",
     "text": [
      "{'e', 'a', 'd', 'c', 'b'}\n"
     ]
    }
   ],
   "source": [
    "x1={'a','b','c','d'}\n",
    "x2={'b','c','d','e'}\n",
    "\n",
    "s=x1.union(x2)\n",
    "print(s)"
   ]
  },
  {
   "cell_type": "code",
   "execution_count": 49,
   "id": "1290bc76-2550-48be-9c24-da7d52630164",
   "metadata": {},
   "outputs": [
    {
     "name": "stdout",
     "output_type": "stream",
     "text": [
      "{'d', 'c', 'b', 'e'}\n"
     ]
    }
   ],
   "source": [
    "s2=x1.union(x2)\n",
    "print(x2)"
   ]
  },
  {
   "cell_type": "code",
   "execution_count": 51,
   "id": "10bb9627-bf4e-4258-8690-015d5acfed3d",
   "metadata": {},
   "outputs": [
    {
     "name": "stdout",
     "output_type": "stream",
     "text": [
      "{'a'}\n"
     ]
    }
   ],
   "source": [
    "s3=x1.difference(x2)\n",
    "print(s3)"
   ]
  },
  {
   "cell_type": "code",
   "execution_count": 53,
   "id": "8167f9a0-f5ac-4de0-940b-6c0b6def2ff2",
   "metadata": {},
   "outputs": [
    {
     "name": "stdout",
     "output_type": "stream",
     "text": [
      "{'e'}\n"
     ]
    }
   ],
   "source": [
    "s4=x1.symmetric_difference(s2)\n",
    "print(s4)"
   ]
  },
  {
   "cell_type": "code",
   "execution_count": 58,
   "id": "08cb5fcf-ff40-4fdc-be16-925b3819ca5e",
   "metadata": {},
   "outputs": [
    {
     "data": {
      "text/plain": [
       "False"
      ]
     },
     "execution_count": 58,
     "metadata": {},
     "output_type": "execute_result"
    }
   ],
   "source": [
    "x2.issubset(x1)"
   ]
  },
  {
   "cell_type": "code",
   "execution_count": 60,
   "id": "d83dd0c9-bd10-49b4-9192-5814323997b2",
   "metadata": {},
   "outputs": [
    {
     "data": {
      "text/plain": [
       "True"
      ]
     },
     "execution_count": 60,
     "metadata": {},
     "output_type": "execute_result"
    }
   ],
   "source": [
    "x1.issubset(x1)"
   ]
  },
  {
   "cell_type": "code",
   "execution_count": 63,
   "id": "b0c6bf61-4002-45cc-a863-494413e67314",
   "metadata": {},
   "outputs": [
    {
     "data": {
      "text/plain": [
       "True"
      ]
     },
     "execution_count": 63,
     "metadata": {},
     "output_type": "execute_result"
    }
   ],
   "source": [
    "x2.issubset(x2)"
   ]
  },
  {
   "attachments": {
    "0e2838e6-631d-4564-aa7b-666c855cdb93.png": {
     "image/png": "[encoded data removed]"
    }
   },
   "cell_type": "markdown",
   "id": "29b78349-e0d0-405a-a4b7-6aa879d4390b",
   "metadata": {},
   "source": [
    "![image.png](attachment:0e2838e6-631d-4564-aa7b-666c855cdb93.png)\n"
   ]
  }
 ],
 "metadata": {
  "kernelspec": {
   "display_name": "Python 3 (ipykernel)",
   "language": "python",
   "name": "python3"
  },
  "language_info": {
   "codemirror_mode": {
    "name": "ipython",
    "version": 3
   },
   "file_extension": ".py",
   "mimetype": "text/x-python",
   "name": "python",
   "nbconvert_exporter": "python",
   "pygments_lexer": "ipython3",
   "version": "3.12.6"
  },
  "widgets": {
   "application/vnd.jupyter.widget-state+json": {
    "state": {},
    "version_major": 2,
    "version_minor": 0
   }
  }
 },
 "nbformat": 4,
 "nbformat_minor": 5
}
