{
 "cells": [
  {
   "cell_type": "markdown",
   "id": "7bb8fc24-950f-4499-8bae-340c2a1a425d",
   "metadata": {},
   "source": [
    "## List in python\n",
    "- replication/duplicate allow\n",
    "- mutable(can be change the value)\n",
    "- used big bracket i.e []"
   ]
  },
  {
   "cell_type": "code",
   "execution_count": 38,
   "id": "50197ca1-7dc2-475e-9a14-31c7035e892b",
   "metadata": {},
   "outputs": [
    {
     "name": "stdout",
     "output_type": "stream",
     "text": [
      "<class 'list'>\n",
      "Ram\n",
      "Shyam\n",
      "Hari\n",
      "Krishna\n",
      "Madai\n",
      "Jagat\n"
     ]
    }
   ],
   "source": [
    "names =[\"Ram\",\"Shyam\",\"Hari\",\"Krishna\",\"Madai\",\"Jagat\"]\n",
    "print(type(names))\n",
    "for n in names:\n",
    "    print(n)\n",
    "\n"
   ]
  },
  {
   "cell_type": "code",
   "execution_count": 45,
   "id": "97120764-4806-4c41-9fb4-cf73970c03f0",
   "metadata": {},
   "outputs": [
    {
     "name": "stdout",
     "output_type": "stream",
     "text": [
      "List after change value of index 0\n",
      "Sita Hari Krishna Krish Madai Jagat "
     ]
    }
   ],
   "source": [
    "names[0]=\"Sita\"\n",
    "print(\"List after change value of index 0\")\n",
    "for n in names:\n",
    "    print(n,end=\" \")"
   ]
  },
  {
   "cell_type": "code",
   "execution_count": 46,
   "id": "81fb29b5-50cc-44aa-8c67-f531e206cf5e",
   "metadata": {},
   "outputs": [
    {
     "name": "stdout",
     "output_type": "stream",
     "text": [
      "List after change append Ramesh \n",
      "Sita Hari Krishna Krish Madai Jagat Ramesh "
     ]
    }
   ],
   "source": [
    "names.append(\"Ramesh\")\n",
    "print(\"List after change append Ramesh \")\n",
    "for n in names:\n",
    "    print(n,end=\" \")\n"
   ]
  },
  {
   "cell_type": "code",
   "execution_count": 47,
   "id": "ba01779b-11d2-4ad6-a354-48d915451993",
   "metadata": {},
   "outputs": [
    {
     "name": "stdout",
     "output_type": "stream",
     "text": [
      "List after pop()\n",
      "Sita Hari Krishna Krish Madai Jagat "
     ]
    }
   ],
   "source": [
    "names.pop()\n",
    "print(\"List after pop()\")\n",
    "for n in names:\n",
    "    print(n,end=\" \")"
   ]
  },
  {
   "cell_type": "code",
   "execution_count": 48,
   "id": "1f9c50bd-5fd2-4cd3-a58d-71b8939ee6ed",
   "metadata": {},
   "outputs": [
    {
     "name": "stdout",
     "output_type": "stream",
     "text": [
      "List after insert Krish in index 4\n",
      "Sita Hari Krishna Krish Krish Madai Jagat "
     ]
    }
   ],
   "source": [
    "names.insert(4,\"Krish\")\n",
    "print(\"List after insert Krish in index 4\")\n",
    "for n in names:\n",
    "    print(n,end=\" \")"
   ]
  },
  {
   "cell_type": "code",
   "execution_count": 49,
   "id": "164a02cb-c250-41be-80b7-9db47dc0c516",
   "metadata": {},
   "outputs": [
    {
     "name": "stdout",
     "output_type": "stream",
     "text": [
      "List after remove Sita\n",
      "Hari Krishna Krish Krish Madai Jagat "
     ]
    }
   ],
   "source": [
    "names.remove(\"Sita\")\n",
    "print(\"List after remove Sita\")\n",
    "for n in names:\n",
    "    print(n,end=\" \")"
   ]
  },
  {
   "cell_type": "code",
   "execution_count": 97,
   "id": "670e7be0-5e90-4ae2-b4e2-93e824eb65e6",
   "metadata": {},
   "outputs": [
    {
     "name": "stdout",
     "output_type": "stream",
     "text": [
      "['Hari', 'Jagat', 'Krish', 'Krish', 'Krishna', 'Madai']\n"
     ]
    }
   ],
   "source": [
    "names.sort()\n",
    "print(names)"
   ]
  },
  {
   "cell_type": "code",
   "execution_count": 95,
   "id": "d26c75ce-2e25-438e-9c95-4e27a56b58f5",
   "metadata": {},
   "outputs": [
    {
     "data": {
      "text/plain": [
       "2"
      ]
     },
     "execution_count": 95,
     "metadata": {},
     "output_type": "execute_result"
    }
   ],
   "source": [
    "names.index(\"Krish\")\n",
    "# it returns index of krish"
   ]
  },
  {
   "cell_type": "code",
   "execution_count": null,
   "id": "de3b3b7b-1341-4a27-994b-427bad612cb0",
   "metadata": {},
   "outputs": [],
   "source": []
  },
  {
   "cell_type": "code",
   "execution_count": 94,
   "id": "af041ae8-8a3d-46a0-9d44-cbdc415b4aa1",
   "metadata": {},
   "outputs": [
    {
     "name": "stdout",
     "output_type": "stream",
     "text": [
      "['Hari', 'Jagat', 'Krish', 'Krish', 'Krishna', 'Madai']\n"
     ]
    }
   ],
   "source": [
    "print(names)"
   ]
  },
  {
   "cell_type": "code",
   "execution_count": 67,
   "id": "6ea11549-18b4-4fb7-9e3c-3ea3efdfd749",
   "metadata": {},
   "outputs": [
    {
     "name": "stdout",
     "output_type": "stream",
     "text": [
      "Jagat\n"
     ]
    }
   ],
   "source": [
    "print(names[-1])"
   ]
  },
  {
   "cell_type": "code",
   "execution_count": 70,
   "id": "5eb0cace-1dae-4518-b53e-5d480e6312a2",
   "metadata": {},
   "outputs": [
    {
     "name": "stdout",
     "output_type": "stream",
     "text": [
      "['Krish', 'Krish']\n"
     ]
    }
   ],
   "source": [
    "print(names[2:4])"
   ]
  },
  {
   "cell_type": "code",
   "execution_count": 72,
   "id": "0f5497a2-1121-409a-a649-0282999635da",
   "metadata": {},
   "outputs": [
    {
     "name": "stdout",
     "output_type": "stream",
     "text": [
      "['Hari', 'Krishna', 'Krish', 'Krish', 'Madai', 'Jagat']\n"
     ]
    }
   ],
   "source": [
    "print(names[:])"
   ]
  },
  {
   "cell_type": "code",
   "execution_count": 77,
   "id": "0de07a08-c96f-4a6d-9433-a200bf55fae8",
   "metadata": {},
   "outputs": [
    {
     "name": "stdout",
     "output_type": "stream",
     "text": [
      "['Hari', 'Krishna', 'Krish', 'Krish', 'Madai']\n"
     ]
    }
   ],
   "source": [
    "print(names[:5])"
   ]
  },
  {
   "cell_type": "code",
   "execution_count": 83,
   "id": "461b6c0f-7683-43f7-96c5-c913163efe7e",
   "metadata": {},
   "outputs": [
    {
     "name": "stdout",
     "output_type": "stream",
     "text": [
      "['Krishna', 'Krish']\n"
     ]
    }
   ],
   "source": [
    "print(names[1:3])"
   ]
  },
  {
   "cell_type": "code",
   "execution_count": 85,
   "id": "1762a602-392c-4e1f-b6f0-b9d9863064e4",
   "metadata": {},
   "outputs": [
    {
     "name": "stdout",
     "output_type": "stream",
     "text": [
      "['Krishna']\n"
     ]
    }
   ],
   "source": [
    "print(names[1:3:5])"
   ]
  },
  {
   "cell_type": "code",
   "execution_count": 91,
   "id": "16ff3666-f41a-4f23-97e0-701cd518fe88",
   "metadata": {},
   "outputs": [
    {
     "name": "stdout",
     "output_type": "stream",
     "text": [
      "['Ramesh', 50, 50.5, True, (5+3j)]\n",
      "<class 'list'>\n",
      "Ramesh\n",
      "50\n",
      "50.5\n",
      "True\n",
      "(5+3j)\n"
     ]
    }
   ],
   "source": [
    "list1=[\"Ramesh\",50,50.5,True,5+3j]\n",
    "print(list1)\n",
    "print(type(list1))\n",
    "for l in list1:\n",
    "    print(l)"
   ]
  },
  {
   "cell_type": "code",
   "execution_count": 107,
   "id": "5622ad78-a4d4-4df9-a7f4-2eabca7803a6",
   "metadata": {},
   "outputs": [
    {
     "name": "stdout",
     "output_type": "stream",
     "text": [
      "34\n",
      "50\n",
      "60\n",
      "90\n",
      "123\n"
     ]
    }
   ],
   "source": [
    "list2=[50,60,34,123,90]\n",
    "list2.sort()\n",
    "for l in list2:\n",
    "    print(l)"
   ]
  },
  {
   "cell_type": "code",
   "execution_count": 108,
   "id": "05d19413-0883-4370-94f6-aababa8c73da",
   "metadata": {},
   "outputs": [
    {
     "data": {
      "text/plain": [
       "34"
      ]
     },
     "execution_count": 108,
     "metadata": {},
     "output_type": "execute_result"
    }
   ],
   "source": [
    "list2.pop(0)\n"
   ]
  },
  {
   "cell_type": "code",
   "execution_count": 110,
   "id": "fe287b77-1287-4710-95a8-a3ec711b753e",
   "metadata": {},
   "outputs": [],
   "source": [
    "list2.clear()"
   ]
  },
  {
   "cell_type": "code",
   "execution_count": 112,
   "id": "4eebbae2-5f3d-4e1e-96b8-64e39c5c6613",
   "metadata": {},
   "outputs": [
    {
     "name": "stdout",
     "output_type": "stream",
     "text": [
      "[]\n"
     ]
    }
   ],
   "source": [
    "print(list2)"
   ]
  },
  {
   "cell_type": "code",
   "execution_count": 117,
   "id": "7a666d5c-1a3e-45c3-beea-0930addc87c0",
   "metadata": {},
   "outputs": [
    {
     "name": "stdout",
     "output_type": "stream",
     "text": [
      "[30, 30]\n"
     ]
    }
   ],
   "source": [
    "list2.insert(0,30)\n",
    "print(list2)"
   ]
  },
  {
   "cell_type": "markdown",
   "id": "418e5b49-6f82-4a19-a9be-bf5228de3160",
   "metadata": {},
   "source": [
    "## excercise"
   ]
  },
  {
   "cell_type": "code",
   "execution_count": 143,
   "id": "4121cd00-32c6-4564-8497-56ee12f66825",
   "metadata": {},
   "outputs": [],
   "source": [
    "cities=[\"Pokhara\",\"KTM\",\"Chitwan\",\"Dhangadhi\"]"
   ]
  },
  {
   "cell_type": "code",
   "execution_count": 144,
   "id": "58dd1d57-7327-482d-9a52-3bc82a1e4acf",
   "metadata": {
    "scrolled": true
   },
   "outputs": [
    {
     "name": "stdout",
     "output_type": "stream",
     "text": [
      "['Pokhara', 'KTM', 'Chitwan', 'Dhangadhi', 'Nepalgunj']\n"
     ]
    }
   ],
   "source": [
    "\n",
    "cities.append(\"Nepalgunj\")\n",
    "print(cities)"
   ]
  },
  {
   "cell_type": "code",
   "execution_count": 145,
   "id": "d0602af0-8979-4fbb-9e4d-0458c7dc47b8",
   "metadata": {},
   "outputs": [
    {
     "name": "stdout",
     "output_type": "stream",
     "text": [
      "['Dang', 'Pokhara', 'KTM', 'Chitwan', 'Dhangadhi', 'Nepalgunj']\n"
     ]
    }
   ],
   "source": [
    "cities.insert(0,\"Dang\")\n",
    "print(cities)"
   ]
  },
  {
   "cell_type": "code",
   "execution_count": 146,
   "id": "376ffdcc-1755-4d75-95db-c33367689e53",
   "metadata": {},
   "outputs": [
    {
     "name": "stdout",
     "output_type": "stream",
     "text": [
      "['Pokhara', 'KTM', 'Chitwan', 'Dhangadhi', 'Nepalgunj']\n"
     ]
    }
   ],
   "source": [
    "cities.remove(\"Dang\")\n",
    "print(cities)"
   ]
  },
  {
   "cell_type": "code",
   "execution_count": 148,
   "id": "e47a3078-79cd-49e9-8d0a-e6a6b8563a9e",
   "metadata": {},
   "outputs": [
    {
     "name": "stdout",
     "output_type": "stream",
     "text": [
      "['Pokhara', 'KTM', 'Chitwan']\n"
     ]
    }
   ],
   "source": [
    "cities.pop()\n",
    "print(cities)"
   ]
  },
  {
   "cell_type": "code",
   "execution_count": 149,
   "id": "62d6023d-4aac-4395-aaf5-9ca32dc19bdd",
   "metadata": {},
   "outputs": [
    {
     "name": "stdout",
     "output_type": "stream",
     "text": [
      "['KTM', 'Chitwan']\n"
     ]
    }
   ],
   "source": [
    "del(cities[0])\n",
    "print(cities)"
   ]
  },
  {
   "cell_type": "code",
   "execution_count": 150,
   "id": "74cb8933-835b-417d-83fb-a7443d8535df",
   "metadata": {},
   "outputs": [
    {
     "name": "stdout",
     "output_type": "stream",
     "text": [
      "[]\n"
     ]
    }
   ],
   "source": [
    "cities.clear()\n",
    "print(cities)"
   ]
  },
  {
   "cell_type": "code",
   "execution_count": 158,
   "id": "ad67c297-2da8-4e83-a903-90dbd0d5a26f",
   "metadata": {},
   "outputs": [
    {
     "name": "stdout",
     "output_type": "stream",
     "text": [
      "[50, 60, 79, 90]\n",
      "[90, 79, 60, 50]\n",
      "True\n",
      "False\n"
     ]
    }
   ],
   "source": [
    "nums=[60,79,50,90]\n",
    "nums.sort()\n",
    "print(nums)\n",
    "nums.sort(reverse=True)\n",
    "print(nums)\n",
    "\n",
    "print(50 in nums)\n",
    "print(50 not in nums)\n"
   ]
  },
  {
   "cell_type": "code",
   "execution_count": 153,
   "id": "4f153e2e-3ff5-45f9-93b1-c0efba2c0423",
   "metadata": {},
   "outputs": [
    {
     "data": {
      "text/plain": [
       "279"
      ]
     },
     "execution_count": 153,
     "metadata": {},
     "output_type": "execute_result"
    }
   ],
   "source": [
    "sum(nums)"
   ]
  },
  {
   "cell_type": "code",
   "execution_count": 160,
   "id": "b63a4f4f-6315-4ad9-9b51-2c916835f63c",
   "metadata": {},
   "outputs": [
    {
     "name": "stdout",
     "output_type": "stream",
     "text": [
      "['Hari', 'Jagat', 'Krish', 'Krish', 'Krishna', 'Madai']\n"
     ]
    }
   ],
   "source": [
    "data=names.copy()\n",
    "print(data)"
   ]
  },
  {
   "cell_type": "code",
   "execution_count": 162,
   "id": "b6ad51a0-abff-4d02-8d12-9bfff82cd823",
   "metadata": {},
   "outputs": [
    {
     "name": "stdout",
     "output_type": "stream",
     "text": [
      "['Hari', 'Jagat', 'Krish', 'Krish', 'Krishna', 'Madai', 'Hari', 'Jagat', 'Krish', 'Krish', 'Krishna', 'Madai']\n"
     ]
    }
   ],
   "source": [
    "x=data+names\n",
    "print(x)"
   ]
  },
  {
   "cell_type": "code",
   "execution_count": 174,
   "id": "e2fb2ebd-9ba2-4b97-ac18-95cbc59dd9ae",
   "metadata": {},
   "outputs": [
    {
     "name": "stdout",
     "output_type": "stream",
     "text": [
      "[5, 6, 7, 5, 6, 7]\n",
      "[]\n",
      "[0, 1, 2]\n"
     ]
    }
   ],
   "source": [
    "x=[5,6,7]\n",
    "y=x*2\n",
    "print(y)\n",
    "y.clear()\n",
    "print(y)\n"
   ]
  },
  {
   "cell_type": "code",
   "execution_count": 175,
   "id": "5126b216-c86b-409d-ae5c-0a50cf67818a",
   "metadata": {},
   "outputs": [
    {
     "name": "stdout",
     "output_type": "stream",
     "text": [
      "[0, 1, 2, 0, 1, 2, 3, 4, 5, 6, 7, 8, 9]\n"
     ]
    }
   ],
   "source": [
    "for i in range(10):\n",
    "    y.append(i)\n",
    "print(y)"
   ]
  },
  {
   "cell_type": "code",
   "execution_count": 188,
   "id": "e4f9ce4a-351e-4226-8422-c608b453f2f0",
   "metadata": {},
   "outputs": [
    {
     "name": "stdout",
     "output_type": "stream",
     "text": [
      "['Everest', 'Engineering', 'College', 'Sanepa', 'Lalitpur', 'Nepal']\n"
     ]
    }
   ],
   "source": [
    "strs=\"Everest Engineering College Sanepa Lalitpur Nepal\"\n",
    "wds=strs.split()\n",
    "print(wds)\n"
   ]
  },
  {
   "cell_type": "code",
   "execution_count": 189,
   "id": "c509d8af-c7be-4040-8bb6-e0789d60f0d5",
   "metadata": {},
   "outputs": [
    {
     "name": "stdout",
     "output_type": "stream",
     "text": [
      "['College', 'Engineering', 'Everest', 'Lalitpur', 'Nepal', 'Sanepa']\n"
     ]
    }
   ],
   "source": [
    "wds.sort()\n",
    "print(wds)"
   ]
  }
 ],
 "metadata": {
  "kernelspec": {
   "display_name": "Python 3 (ipykernel)",
   "language": "python",
   "name": "python3"
  },
  "language_info": {
   "codemirror_mode": {
    "name": "ipython",
    "version": 3
   },
   "file_extension": ".py",
   "mimetype": "text/x-python",
   "name": "python",
   "nbconvert_exporter": "python",
   "pygments_lexer": "ipython3",
   "version": "3.12.6"
  },
  "widgets": {
   "application/vnd.jupyter.widget-state+json": {
    "state": {},
    "version_major": 2,
    "version_minor": 0
   }
  }
 },
 "nbformat": 4,
 "nbformat_minor": 5
}
