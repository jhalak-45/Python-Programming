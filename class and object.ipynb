{
 "cells": [
  {
   "cell_type": "code",
   "execution_count": null,
   "id": "3db7c785-f8f6-4d62-84d5-b54368591d0a",
   "metadata": {},
   "outputs": [
    {
     "ename": "",
     "evalue": "",
     "output_type": "error",
     "traceback": [
      "\u001b[1;31mRunning cells with 'Python 3.12.6' requires the ipykernel package.\n",
      "\u001b[1;31mRun the following command to install 'ipykernel' into the Python environment. \n",
      "\u001b[1;31mCommand: 'd:/Python/python.exe -m pip install ipykernel -U --user --force-reinstall'"
     ]
    }
   ],
   "source": [
    "class Person:\n",
    "    def __init__(self): #constructor\n",
    "        self.age = None\n",
    "        self.name = None\n",
    "    \n",
    "    def setdata(self,n, a):\n",
    "        self.name = n\n",
    "        self.age = a\n",
    "    def printdata(self):\n",
    "        print(f\"Name: {self.name}\")\n",
    "        print(f\"Age: {self.age}\")\n",
    "\n",
    "p1 = Person()\n",
    "p1.setdata(\"Ram\", 45)\n",
    "p1.printdata()\n"
   ]
  },
  {
   "cell_type": "code",
   "execution_count": 2,
   "id": "5e14de29-ae51-4717-939e-1b30fe8e0598",
   "metadata": {},
   "outputs": [
    {
     "name": "stdout",
     "output_type": "stream",
     "text": [
      "Enter name for person 1:  5\n",
      "Enter age for person 1:  4\n",
      "Enter name for person 2:  4\n",
      "Enter age for person 2:  4\n",
      "Enter name for person 3:  4\n",
      "Enter age for person 3:  4\n"
     ]
    },
    {
     "name": "stdout",
     "output_type": "stream",
     "text": [
      "Name: 5, Age: 4\n",
      "Name: 4, Age: 4\n",
      "Name: 4, Age: 4\n"
     ]
    }
   ],
   "source": [
    "class Person:\n",
    "    def __init__(self, name, age):\n",
    "        self.name = name\n",
    "        self.age = age\n",
    "    \n",
    "    def printdata(self):\n",
    "        print(f\"Name: {self.name}, Age: {self.age}\")\n",
    "\n",
    "# List to hold Person objects\n",
    "people = []\n",
    "\n",
    "# Creating objects in a loop\n",
    "for i in range(3):  # Adjust the range as needed\n",
    "    name = input(f\"Enter name for person {i+1}: \")\n",
    "    age = int(input(f\"Enter age for person {i+1}: \"))\n",
    "    people.append(Person(name, age))\n",
    "\n",
    "# Print data for each person in the array\n",
    "for person in people:\n",
    "    person.printdata()\n"
   ]
  },
  {
   "cell_type": "code",
   "execution_count": null,
   "id": "e37f7e5e-0214-49a4-ad9d-12638062c46e",
   "metadata": {},
   "outputs": [],
   "source": []
  }
 ],
 "metadata": {
  "kernelspec": {
   "display_name": "Python 3",
   "language": "python",
   "name": "python3"
  },
  "language_info": {
   "codemirror_mode": {
    "name": "ipython",
    "version": 3
   },
   "file_extension": ".py",
   "mimetype": "text/x-python",
   "name": "python",
   "nbconvert_exporter": "python",
   "pygments_lexer": "ipython3",
   "version": "3.12.6"
  }
 },
 "nbformat": 4,
 "nbformat_minor": 5
}
