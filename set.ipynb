{
 "cells": [
  {
   "cell_type": "markdown",
   "id": "768203e3-e56a-4b1a-8717-30dbba165ed5",
   "metadata": {},
   "source": [
    "\n",
    "## Methods in sets\n",
    "1. add()\t \tAdds an element to the set\n",
    "2. clear()\t \tRemoves all the elements from the set\n",
    "3. copy()\t \tReturns a copy of the set\n",
    "4. difference()\t-\tReturns a set containing the difference between two or more sets\n",
    "5. difference_update()\t-=\tRemoves the items in this set that are also included in another, specified set\n",
    "- discard()\t \tRemove the specified item\n",
    "- intersection()\t&\tReturns a set, that is the intersection of two other sets\n",
    "- intersection_update()\t&=\tRemoves the items in this set that are not present in other, specified set(s)\n",
    "- isdisjoint()\t \tReturns whether two sets have a intersection or not\n",
    "- issubset()\t<=\tReturns whether another set contains this set or not\n",
    "- issuperset()\t>=\tReturns whether this set contains another set or not\n",
    "- pop()\t \tRemoves an element from the set\n",
    "- remove()\t \tRemoves the specified element\n",
    "- symmetric_difference()\t^\tReturns a set with the symmetric differences of two sets\n",
    "- symmetric_difference_update()\t^=\tInserts the symmetric differences from this set and another\n",
    "- union()\t|\tReturn a set containing the union of sets\n",
    "- update()\t|=\tUpdate the set with the union of this set and others"
   ]
  },
  {
   "cell_type": "code",
   "execution_count": 1,
   "id": "d0139b33-ab3c-4e7f-a9a7-2a0afe9e0c36",
   "metadata": {},
   "outputs": [
    {
     "name": "stdout",
     "output_type": "stream",
     "text": [
      "After add(5): {1, 2, 3, 4, 5}\n",
      "Copy of set_a: {1, 2, 3, 4, 5}\n",
      "Difference (set_a - set_b): {1, 2}\n",
      "After difference_update(set_b): {1, 2}\n",
      "After discard(2): {1, 3, 4}\n",
      "Intersection (set_a & set_b): {3, 4}\n",
      "After intersection_update(set_b): {3, 4}\n",
      "Is set_a disjoint with set_b? False\n",
      "Is {1, 2} a subset of set_a? True\n",
      "Is set_a a superset of {1, 2}? True\n",
      "Removed element (pop): 1\n",
      "After pop(): {2, 3, 4}\n",
      "After remove(3): {2, 4}\n",
      "Symmetric Difference (set_a ^ set_b): {2, 3, 5, 6}\n",
      "After symmetric_difference_update(set_b): {2, 3, 5, 6}\n",
      "Union (set_a | set_b): {1, 2, 3, 4, 5, 6}\n",
      "After update(set_b): {1, 2, 3, 4, 5, 6}\n"
     ]
    }
   ],
   "source": [
    "# Creating two sets\n",
    "set_a = {1, 2, 3, 4}\n",
    "set_b = {3, 4, 5, 6}\n",
    "\n",
    "# 1. add()\n",
    "set_a.add(5)\n",
    "print(\"After add(5):\", set_a)\n",
    "\n",
    "# 2. clear()\n",
    "# set_a.clear()\n",
    "# print(\"After clear():\", set_a)\n",
    "\n",
    "# 3. copy()\n",
    "set_c = set_a.copy()\n",
    "print(\"Copy of set_a:\", set_c)\n",
    "\n",
    "# 4. difference()\n",
    "diff = set_a.difference(set_b)\n",
    "print(\"Difference (set_a - set_b):\", diff)\n",
    "\n",
    "# 5. difference_update()\n",
    "set_a.difference_update(set_b)\n",
    "print(\"After difference_update(set_b):\", set_a)\n",
    "\n",
    "# Resetting set_a for further examples\n",
    "set_a = {1, 2, 3, 4}\n",
    "\n",
    "# 6. discard()\n",
    "set_a.discard(2)\n",
    "print(\"After discard(2):\", set_a)\n",
    "\n",
    "# 7. intersection()\n",
    "intersection = set_a.intersection(set_b)\n",
    "print(\"Intersection (set_a & set_b):\", intersection)\n",
    "\n",
    "# 8. intersection_update()\n",
    "set_a.intersection_update(set_b)\n",
    "print(\"After intersection_update(set_b):\", set_a)\n",
    "\n",
    "# Resetting set_a for further examples\n",
    "set_a = {1, 2, 3, 4}\n",
    "\n",
    "# 9. isdisjoint()\n",
    "disjoint_result = set_a.isdisjoint(set_b)\n",
    "print(\"Is set_a disjoint with set_b?\", disjoint_result)\n",
    "\n",
    "# 10. issubset()\n",
    "subset_result = {1, 2}.issubset(set_a)\n",
    "print(\"Is {1, 2} a subset of set_a?\", subset_result)\n",
    "\n",
    "# 11. issuperset()\n",
    "superset_result = set_a.issuperset({1, 2})\n",
    "print(\"Is set_a a superset of {1, 2}?\", superset_result)\n",
    "\n",
    "# 12. pop()\n",
    "removed_element = set_a.pop()  # Removes and returns an arbitrary element\n",
    "print(\"Removed element (pop):\", removed_element)\n",
    "print(\"After pop():\", set_a)\n",
    "\n",
    "# 13. remove()\n",
    "set_a.remove(3)\n",
    "print(\"After remove(3):\", set_a)\n",
    "\n",
    "# 14. symmetric_difference()\n",
    "sym_diff = set_a.symmetric_difference(set_b)\n",
    "print(\"Symmetric Difference (set_a ^ set_b):\", sym_diff)\n",
    "\n",
    "# 15. symmetric_difference_update()\n",
    "set_a.symmetric_difference_update(set_b)\n",
    "print(\"After symmetric_difference_update(set_b):\", set_a)\n",
    "\n",
    "# Resetting set_a for further examples\n",
    "set_a = {1, 2, 3}\n",
    "\n",
    "# 16. union()\n",
    "union_set = set_a.union(set_b)\n",
    "print(\"Union (set_a | set_b):\", union_set)\n",
    "\n",
    "# 17. update()\n",
    "set_a.update(set_b)\n",
    "print(\"After update(set_b):\", set_a)\n"
   ]
  },
  {
   "cell_type": "code",
   "execution_count": 14,
   "id": "2ee4b55c-8546-4d30-bd11-5440b3bce5e6",
   "metadata": {},
   "outputs": [
    {
     "name": "stdin",
     "output_type": "stream",
     "text": [
      "Enter path: D:\\Download Files and Folders\\x.csv\n",
      "Destationation path: D:\\Download Files and Folders\\m.json\n"
     ]
    },
    {
     "name": "stdout",
     "output_type": "stream",
     "text": [
      "Converted D:\\Download Files and Folders\\x.csv to D:\\Download Files and Folders\\m.json\n"
     ]
    }
   ],
   "source": [
    "import csv\n",
    "import json\n",
    "\n",
    "# Define the CSV file path and JSON file path\n",
    "csv_file_path =input(\"Enter path:\")  # Replace with your CSV file path\n",
    "json_file_path =input(\"Destationation path:\")  # Replace with your desired JSON file path\n",
    "\n",
    "# Read the CSV file\n",
    "with open(csv_file_path, mode='r', encoding='utf-8') as csv_file:\n",
    "    csv_reader = csv.DictReader(csv_file)  # Read as a dictionary\n",
    "    data = list(csv_reader)  # Convert to a list of dictionaries\n",
    "\n",
    "# Convert the list of dictionaries to JSON and write to a file\n",
    "with open(json_file_path, mode='w', encoding='utf-8') as json_file:\n",
    "    json.dump(data, json_file, indent=4)  # Write JSON with pretty print\n",
    "\n",
    "print(f'Converted {csv_file_path} to {json_file_path}')\n"
   ]
  }
 ],
 "metadata": {
  "kernelspec": {
   "display_name": "Python 3 (ipykernel)",
   "language": "python",
   "name": "python3"
  },
  "language_info": {
   "codemirror_mode": {
    "name": "ipython",
    "version": 3
   },
   "file_extension": ".py",
   "mimetype": "text/x-python",
   "name": "python",
   "nbconvert_exporter": "python",
   "pygments_lexer": "ipython3",
   "version": "3.12.6"
  }
 },
 "nbformat": 4,
 "nbformat_minor": 5
}
