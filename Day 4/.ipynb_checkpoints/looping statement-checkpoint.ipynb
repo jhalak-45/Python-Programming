{
 "cells": [
  {
   "cell_type": "markdown",
   "id": "b04d9022-a4c2-4cd7-9c42-0aa2a5b4c18e",
   "metadata": {},
   "source": [
    "## For loop"
   ]
  },
  {
   "cell_type": "code",
   "execution_count": 28,
   "id": "9a0a6205-53c1-451c-b140-19db74dbd085",
   "metadata": {},
   "outputs": [
    {
     "name": "stdout",
     "output_type": "stream",
     "text": [
      "Apple\n",
      "Banana\n",
      "Orange\n",
      "Mango\n"
     ]
    }
   ],
   "source": [
    "fruits=[\"Apple\",\"Banana\",\"Orange\",\"Mango\"]\n",
    "for i in fruits:\n",
    "    print(i)\n",
    "    "
   ]
  },
  {
   "cell_type": "code",
   "execution_count": 30,
   "id": "42cd4a29-cdc0-46b9-9df0-2c1182241dac",
   "metadata": {},
   "outputs": [
    {
     "name": "stdout",
     "output_type": "stream",
     "text": [
      "Apple\n",
      "Banana\n",
      "Orange\n",
      "Mango\n"
     ]
    }
   ],
   "source": [
    "fruits=[\"Apple\",\"Banana\",\"Orange\",\"Mango\"]\n",
    "for i in range(0,len(fruits)):\n",
    "    print(fruits[i])\n",
    "    "
   ]
  },
  {
   "cell_type": "code",
   "execution_count": 31,
   "id": "a5f3edad-ac18-41ca-84ed-81825aeeb4c1",
   "metadata": {},
   "outputs": [
    {
     "name": "stdout",
     "output_type": "stream",
     "text": [
      "0\n",
      "1\n",
      "2\n",
      "3\n",
      "4\n",
      "5\n",
      "6\n",
      "7\n",
      "8\n",
      "9\n"
     ]
    }
   ],
   "source": [
    "for n in range(0,10):\n",
    "    print(n)"
   ]
  },
  {
   "cell_type": "code",
   "execution_count": 32,
   "id": "85f6231b-c762-406f-9a31-f24d2967df9b",
   "metadata": {},
   "outputs": [
    {
     "name": "stdout",
     "output_type": "stream",
     "text": [
      "9\n",
      "8\n",
      "7\n",
      "6\n",
      "5\n",
      "4\n",
      "3\n",
      "2\n",
      "1\n",
      "0\n"
     ]
    }
   ],
   "source": [
    "for n in range(0,10):\n",
    "    print(9-n)"
   ]
  },
  {
   "cell_type": "code",
   "execution_count": 34,
   "id": "ca5b8a41-2243-44c6-b827-2327d301f591",
   "metadata": {},
   "outputs": [
    {
     "name": "stdout",
     "output_type": "stream",
     "text": [
      "9\n",
      "8\n",
      "7\n",
      "6\n",
      "5\n",
      "4\n",
      "3\n",
      "2\n",
      "1\n",
      "0\n"
     ]
    }
   ],
   "source": [
    "for n in reversed(range(0,10)):\n",
    "    print(n)"
   ]
  },
  {
   "cell_type": "code",
   "execution_count": 25,
   "id": "63a0a58c-ef74-49b7-aa1f-8e104f41133f",
   "metadata": {},
   "outputs": [
    {
     "name": "stdout",
     "output_type": "stream",
     "text": [
      "Apple Banana Orange Mango "
     ]
    }
   ],
   "source": [
    "fruits=[\"Apple\",\"Banana\",\"Orange\",\"Mango\"]\n",
    "for i in range(len(fruits)):\n",
    "    print(fruits[i],end=\" \")\n",
    "    "
   ]
  },
  {
   "cell_type": "markdown",
   "id": "88551d73-df1e-43f2-abf5-9de5b9e7e4bc",
   "metadata": {},
   "source": [
    "## while loop"
   ]
  },
  {
   "cell_type": "code",
   "execution_count": 40,
   "id": "86291c5d-9ab8-45aa-9ee9-8aa3ee23429a",
   "metadata": {},
   "outputs": [
    {
     "name": "stdout",
     "output_type": "stream",
     "text": [
      "0\n",
      "1\n",
      "2\n",
      "3\n",
      "4\n",
      "5\n",
      "6\n",
      "7\n",
      "8\n",
      "9\n"
     ]
    }
   ],
   "source": [
    "i=0\n",
    "while i<10:\n",
    "    print(i)\n",
    "    i=i+1"
   ]
  },
  {
   "cell_type": "markdown",
   "id": "13d36713-93f1-48f7-91cb-ae04c204f922",
   "metadata": {},
   "source": [
    "## nested for loop"
   ]
  },
  {
   "cell_type": "code",
   "execution_count": 27,
   "id": "4a0f183a-4ccd-4c91-bbfc-b48816085f56",
   "metadata": {},
   "outputs": [
    {
     "name": "stdout",
     "output_type": "stream",
     "text": [
      "\n",
      "0 \n",
      "0 1 \n",
      "0 1 2 \n",
      "0 1 2 3 \n"
     ]
    }
   ],
   "source": [
    "for i in range(5):\n",
    "    for j in range(i):\n",
    "        print(j,end=\" \")\n",
    "    print()"
   ]
  },
  {
   "cell_type": "code",
   "execution_count": 35,
   "id": "418da0c7-faac-47a7-b3fa-b45558557bdc",
   "metadata": {},
   "outputs": [
    {
     "name": "stdout",
     "output_type": "stream",
     "text": [
      "\n",
      "* \n",
      "* * \n",
      "* * * \n",
      "* * * * \n"
     ]
    }
   ],
   "source": [
    "for i in range(5):\n",
    "    for j in range(i):\n",
    "        print(\"*\",end=\" \")\n",
    "    print()"
   ]
  },
  {
   "cell_type": "code",
   "execution_count": 37,
   "id": "33abc4d8-9b83-4d4b-b042-92ed9c42f6bc",
   "metadata": {},
   "outputs": [
    {
     "name": "stdout",
     "output_type": "stream",
     "text": [
      "0 1 2 3 \n",
      "0 1 2 \n",
      "0 1 \n",
      "0 \n",
      "\n"
     ]
    }
   ],
   "source": [
    "for i in range(5):\n",
    "    for j in range(4-i):\n",
    "        print(j,end=\" \")\n",
    "    print()"
   ]
  },
  {
   "cell_type": "code",
   "execution_count": 41,
   "id": "c38fc5b8-ba54-41b9-aee7-e79cd62652ce",
   "metadata": {},
   "outputs": [
    {
     "name": "stdout",
     "output_type": "stream",
     "text": [
      "* * * * \n",
      "* * * \n",
      "* * \n",
      "* \n",
      "\n"
     ]
    }
   ],
   "source": [
    "for i in range(5):\n",
    "    for j in range(4-i):\n",
    "        print('*',end=\" \")\n",
    "    print()"
   ]
  },
  {
   "cell_type": "markdown",
   "id": "5279d182-4965-43ca-9931-388af1e0f00a",
   "metadata": {},
   "source": [
    "## break , continue and pass statements"
   ]
  },
  {
   "cell_type": "markdown",
   "id": "985cd5a0-1d9d-45c5-8cd1-0471490ed1a8",
   "metadata": {},
   "source": [
    "### 1. continue "
   ]
  },
  {
   "cell_type": "code",
   "execution_count": 44,
   "id": "2a7f2088-4918-435d-980a-7a8e6eeb5414",
   "metadata": {},
   "outputs": [
    {
     "name": "stdout",
     "output_type": "stream",
     "text": [
      "R\n",
      "a\n",
      "e\n",
      "s\n",
      "h\n"
     ]
    }
   ],
   "source": [
    "name=\"Ramesh\"\n",
    "for n in name:\n",
    "    if n=='m':\n",
    "        continue\n",
    "    print(n)"
   ]
  },
  {
   "cell_type": "markdown",
   "id": "e3f83a24-99af-4799-a308-170c70a571d6",
   "metadata": {},
   "source": [
    "### 2. break statement"
   ]
  },
  {
   "cell_type": "code",
   "execution_count": 45,
   "id": "c6a61215-f42a-4e65-aadd-abf62b9d7797",
   "metadata": {},
   "outputs": [
    {
     "name": "stdout",
     "output_type": "stream",
     "text": [
      "R\n",
      "a\n"
     ]
    }
   ],
   "source": [
    "name=\"Ramesh\"\n",
    "for n in name:\n",
    "    if n=='m':\n",
    "        break\n",
    "    print(n)"
   ]
  },
  {
   "cell_type": "markdown",
   "id": "4dada4da-748d-4052-9ac3-57772280708b",
   "metadata": {},
   "source": [
    "### 3. pass statement"
   ]
  },
  {
   "cell_type": "code",
   "execution_count": 58,
   "id": "d90b0733-e8c1-4ea0-99da-56d3278dbbff",
   "metadata": {},
   "outputs": [
    {
     "name": "stdout",
     "output_type": "stream",
     "text": [
      "h\n"
     ]
    }
   ],
   "source": [
    "name=\"Ramesh\"\n",
    "for n in name:\n",
    "    if n==\"m\":\n",
    "        pass\n",
    "print(n)"
   ]
  },
  {
   "cell_type": "code",
   "execution_count": 53,
   "id": "b2dd57bb-5b3e-4730-826f-f67fb12b406a",
   "metadata": {},
   "outputs": [
    {
     "name": "stdout",
     "output_type": "stream",
     "text": [
      "R\n",
      "a\n",
      "m\n",
      "e\n",
      "s\n",
      "h\n"
     ]
    }
   ],
   "source": [
    "name=\"Ramesh\"\n",
    "for n in name:\n",
    "    pass\n",
    "    print(n)"
   ]
  },
  {
   "cell_type": "code",
   "execution_count": 61,
   "id": "4d6cd386-7d0f-4301-a04e-1f1be8a7befe",
   "metadata": {},
   "outputs": [
    {
     "name": "stdout",
     "output_type": "stream",
     "text": [
      "N\n"
     ]
    }
   ],
   "source": [
    "name=\"SUKUMARAN\"\n",
    "for n in name:\n",
    "    pass\n",
    "print(n)"
   ]
  },
  {
   "cell_type": "markdown",
   "id": "e158f50e-f3d0-4af6-b6d6-677c7dbb89db",
   "metadata": {},
   "source": [
    "## 1. Multiplication table of given integer"
   ]
  },
  {
   "cell_type": "code",
   "execution_count": 65,
   "id": "ee2dbf32-c52c-4f62-ad68-026680167561",
   "metadata": {},
   "outputs": [
    {
     "name": "stdin",
     "output_type": "stream",
     "text": [
      "Enter any number: 8\n"
     ]
    },
    {
     "name": "stdout",
     "output_type": "stream",
     "text": [
      "8 * 0 = 0\n",
      "8 * 1 = 8\n",
      "8 * 2 = 16\n",
      "8 * 3 = 24\n",
      "8 * 4 = 32\n",
      "8 * 5 = 40\n",
      "8 * 6 = 48\n",
      "8 * 7 = 56\n",
      "8 * 8 = 64\n",
      "8 * 9 = 72\n",
      "8 * 10 = 80\n"
     ]
    }
   ],
   "source": [
    "n=int(input(\"Enter any number:\"))\n",
    "            \n",
    "for i in range(0,11):\n",
    "    print(f\"{n} * {i} = {n*i}\")"
   ]
  },
  {
   "cell_type": "code",
   "execution_count": 70,
   "id": "67381685-3136-4182-ba8d-3103cc0cbc78",
   "metadata": {},
   "outputs": [
    {
     "name": "stdin",
     "output_type": "stream",
     "text": [
      "Enter any number: 7\n"
     ]
    },
    {
     "name": "stdout",
     "output_type": "stream",
     "text": [
      "7 * 1 = 7\n",
      "7 * 2 = 14\n",
      "7 * 3 = 21\n",
      "7 * 4 = 28\n",
      "7 * 5 = 35\n",
      "7 * 6 = 42\n",
      "7 * 7 = 49\n",
      "7 * 8 = 56\n",
      "7 * 9 = 63\n",
      "7 * 10 = 70\n"
     ]
    }
   ],
   "source": [
    "n=int(input(\"Enter any number:\"))\n",
    "            \n",
    "for i in range(10):\n",
    "    print(f\"{n} * {i+1} = {n*(i+1)}\")"
   ]
  },
  {
   "cell_type": "markdown",
   "id": "057464b2-120c-4572-9814-418e6b0f2590",
   "metadata": {},
   "source": [
    "## Count digit"
   ]
  },
  {
   "cell_type": "code",
   "execution_count": 3,
   "id": "739d97bc-270e-4811-b3a8-ba4d78cfcd71",
   "metadata": {},
   "outputs": [
    {
     "name": "stdout",
     "output_type": "stream",
     "text": [
      "7\n"
     ]
    }
   ],
   "source": [
    "num=7898080\n",
    "count=0\n",
    "while num>0:\n",
    "    count=count+1\n",
    "    num=num//10\n",
    "print(count)\n",
    "    \n"
   ]
  },
  {
   "cell_type": "markdown",
   "id": "c646bdad-4d4f-4621-a738-06a7049d1b35",
   "metadata": {},
   "source": [
    "## count chaacter "
   ]
  },
  {
   "cell_type": "code",
   "execution_count": 4,
   "id": "5879f433-8a18-457b-8b78-f35cfe99724e",
   "metadata": {},
   "outputs": [
    {
     "name": "stdout",
     "output_type": "stream",
     "text": [
      "14\n"
     ]
    }
   ],
   "source": [
    "name=\"Ramesh bahadur\"\n",
    "\n",
    "count=0\n",
    "for i in name:\n",
    "    count=count+1\n",
    "print(count)\n"
   ]
  },
  {
   "cell_type": "markdown",
   "id": "abaecd43-9bac-4305-818b-3cd5c3463cc2",
   "metadata": {},
   "source": [
    "## 2. Fibonacci series"
   ]
  },
  {
   "cell_type": "code",
   "execution_count": 33,
   "id": "1bd2ca4a-b78b-4588-af5f-ec9047b8f417",
   "metadata": {},
   "outputs": [
    {
     "name": "stdout",
     "output_type": "stream",
     "text": [
      "0\n",
      "1\n",
      "1\n",
      "2\n",
      "3\n",
      "5\n",
      "8\n",
      "13\n",
      "21\n",
      "34\n"
     ]
    }
   ],
   "source": [
    "a=0\n",
    "b=1\n",
    "c=a+b\n",
    "print(a)\n",
    "print(b)\n",
    "print(c)\n",
    "for i in range(0,7):\n",
    "    a=b\n",
    "    b=c\n",
    "    c=a+b\n",
    "    print(c)\n",
    "    "
   ]
  },
  {
   "cell_type": "code",
   "execution_count": 3,
   "id": "4afda604-dce0-499f-8335-9647c704d7e1",
   "metadata": {},
   "outputs": [
    {
     "name": "stdout",
     "output_type": "stream",
     "text": [
      "0\n",
      "1\n",
      "1\n",
      "2\n",
      "3\n",
      "5\n",
      "8\n",
      "13\n",
      "21\n",
      "34\n"
     ]
    }
   ],
   "source": [
    "a=-1\n",
    "b=1\n",
    "c=a+b\n",
    "for i in range(0,10):\n",
    "    c=a+b\n",
    "    a=b\n",
    "    b=c\n",
    "    print(c)\n",
    "# it is efficient and good approch\n",
    "\n",
    "    "
   ]
  }
 ],
 "metadata": {
  "kernelspec": {
   "display_name": "Python 3 (ipykernel)",
   "language": "python",
   "name": "python3"
  },
  "language_info": {
   "codemirror_mode": {
    "name": "ipython",
    "version": 3
   },
   "file_extension": ".py",
   "mimetype": "text/x-python",
   "name": "python",
   "nbconvert_exporter": "python",
   "pygments_lexer": "ipython3",
   "version": "3.12.6"
  }
 },
 "nbformat": 4,
 "nbformat_minor": 5
}
