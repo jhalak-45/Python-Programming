{
 "cells": [
  {
   "cell_type": "code",
   "execution_count": 8,
   "id": "c73d6d64-6d73-4539-920b-58e0076f7993",
   "metadata": {},
   "outputs": [
    {
     "name": "stdout",
     "output_type": "stream",
     "text": [
      "<class 'int'>\n",
      "<class 'str'>\n",
      "<class 'float'>\n",
      "<class 'complex'>\n",
      "<class 'bool'>\n"
     ]
    }
   ],
   "source": [
    "age=50  #integer type\n",
    "name=\"Ram Bahadur\" #string type\n",
    "salary=50000.50 #float\n",
    "comp=5+10j  #complex type\n",
    "boolean=True  #boolen\n",
    "\n",
    "print(type(age))\n",
    "print(type(name))\n",
    "print(type(salary))\n",
    "print(type(comp))\n",
    "print(type(boolean))\n",
    "\n"
   ]
  },
  {
   "cell_type": "code",
   "execution_count": 9,
   "id": "f32e043c-86cf-4654-9945-a946c8632151",
   "metadata": {},
   "outputs": [
    {
     "name": "stdin",
     "output_type": "stream",
     "text": [
      "Enter your address bajhang\n"
     ]
    },
    {
     "name": "stdout",
     "output_type": "stream",
     "text": [
      " your address is: bajhang \n"
     ]
    }
   ],
   "source": [
    "address=input(\"Enter your address\")\n",
    "print(f\" your address is: {address} \")"
   ]
  },
  {
   "cell_type": "code",
   "execution_count": null,
   "id": "c5a9f79d-69af-4229-8e94-ac68259a8982",
   "metadata": {},
   "outputs": [],
   "source": []
  },
  {
   "cell_type": "code",
   "execution_count": null,
   "id": "0b167d4f-3536-4238-9cd3-67b2ccbd87e1",
   "metadata": {},
   "outputs": [],
   "source": []
  }
 ],
 "metadata": {
  "kernelspec": {
   "display_name": "Python 3 (ipykernel)",
   "language": "python",
   "name": "python3"
  },
  "language_info": {
   "codemirror_mode": {
    "name": "ipython",
    "version": 3
   },
   "file_extension": ".py",
   "mimetype": "text/x-python",
   "name": "python",
   "nbconvert_exporter": "python",
   "pygments_lexer": "ipython3",
   "version": "3.12.6"
  }
 },
 "nbformat": 4,
 "nbformat_minor": 5
}
