{
 "cells": [
  {
   "cell_type": "markdown",
   "id": "6d94a6cf-2128-4671-bf51-377a1a372a92",
   "metadata": {},
   "source": [
    "Implicit Type conversion "
   ]
  },
  {
   "cell_type": "code",
   "execution_count": 12,
   "id": "584b2a09-4749-41e6-9772-1f89299c66bc",
   "metadata": {},
   "outputs": [
    {
     "name": "stdout",
     "output_type": "stream",
     "text": [
      "15.6\n"
     ]
    }
   ],
   "source": [
    "# <!-- implicit Type conversion -->\n",
    "x=5\n",
    "y=10.6\n",
    "z=x+y\n",
    "print(x+y)\n"
   ]
  },
  {
   "cell_type": "markdown",
   "id": "18c3a46e-037e-444f-9fe8-53de9cb33009",
   "metadata": {},
   "source": [
    "# Explicit Conversion\n"
   ]
  },
  {
   "cell_type": "code",
   "execution_count": 13,
   "id": "44a84d0d-67e8-47a7-bf81-0cbf05eafba4",
   "metadata": {},
   "outputs": [
    {
     "name": "stdout",
     "output_type": "stream",
     "text": [
      "100.9\n",
      "<class 'float'>\n",
      "11\n",
      "<class 'int'>\n"
     ]
    }
   ],
   "source": [
    "num1=50\n",
    "num2=float(num1)\n",
    "num3=50.9\n",
    "sum=num2+num3\n",
    "print(sum)\n",
    "print(type(sum))\n",
    "a=5.6\n",
    "b=6\n",
    "sum=int(a)+b\n",
    "print(sum)\n",
    "print(type(sum))"
   ]
  }
 ],
 "metadata": {
  "kernelspec": {
   "display_name": "Python 3 (ipykernel)",
   "language": "python",
   "name": "python3"
  },
  "language_info": {
   "codemirror_mode": {
    "name": "ipython",
    "version": 3
   },
   "file_extension": ".py",
   "mimetype": "text/x-python",
   "name": "python",
   "nbconvert_exporter": "python",
   "pygments_lexer": "ipython3",
   "version": "3.12.6"
  }
 },
 "nbformat": 4,
 "nbformat_minor": 5
}
