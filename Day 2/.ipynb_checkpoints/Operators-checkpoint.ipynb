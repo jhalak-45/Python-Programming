{
 "cells": [
  {
   "cell_type": "markdown",
   "id": "7871cf9f-6d84-4bd8-ae61-2c90229ea4f7",
   "metadata": {},
   "source": [
    "Operators\n"
   ]
  },
  {
   "cell_type": "code",
   "execution_count": 5,
   "id": "dda43fac-6a13-4a82-ab2b-ee1c1d1e5c15",
   "metadata": {},
   "outputs": [
    {
     "name": "stdout",
     "output_type": "stream",
     "text": [
      "sum: 11\n",
      "multiplication:  30\n",
      "division:  0.8333333333333334\n",
      "Reminder:  5\n",
      "floor value:  0\n",
      "power value: 15625\n"
     ]
    }
   ],
   "source": [
    "#arthematic operators \n",
    "num1=5\n",
    "num2=6\n",
    "sum=num1+num2\n",
    "div=num1/num2\n",
    "mul=num1*num2\n",
    "rem=num1%num2\n",
    "floor =num1//num2\n",
    "power=num1**num2\n",
    "\n",
    "print(\"sum:\",sum)\n",
    "print(\"multiplication: \",mul)\n",
    "print(\"division: \",div)\n",
    "print(\"Reminder: \",rem)\n",
    "print(\"floor value: \",floor)\n",
    "print(\"power value:\",power)\n",
    "\n",
    "\n"
   ]
  },
  {
   "cell_type": "code",
   "execution_count": 35,
   "id": "e2354397-1b1c-4b68-bbd4-2ce25239a271",
   "metadata": {},
   "outputs": [
    {
     "name": "stdout",
     "output_type": "stream",
     "text": [
      "True\n",
      "False\n",
      "False\n",
      "False\n",
      "True\n",
      "True\n",
      "False\n"
     ]
    }
   ],
   "source": [
    "# logical operators\n",
    "a=5\n",
    "b=6\n",
    "bool1=True\n",
    "bool2=False\n",
    "print(bool1 or bool2)\n",
    "print(bool1 and bool2)\n",
    "print(not(bool1))\n",
    "\n",
    "print(a>b)#it returns false  because a is not greater than b\n",
    "print(b>a) #it returns true because b is greater a\n",
    "\n",
    "print(a>b or b>a) #it returns true because in or one conditin is true the result is also true\n",
    "print(a>b and b>a) #it returns false, because in  and if both condition are satisties true it returns true othewise it returns false \n"
   ]
  },
  {
   "cell_type": "code",
   "execution_count": 34,
   "id": "1033e0b5-9b8d-4a46-90d4-6db184977fb7",
   "metadata": {},
   "outputs": [
    {
     "name": "stdout",
     "output_type": "stream",
     "text": [
      "0\n",
      "13\n",
      "-6\n",
      "-9\n",
      "13\n",
      "32\n",
      "2\n"
     ]
    }
   ],
   "source": [
    "# Bitwise operator\n",
    "num1=5\n",
    "num2=8\n",
    "print(num1 & num2)#logical &\n",
    "print(num1 | num2)#logical OR \n",
    "print(~num1) #logical not\n",
    "print(~num2) #logical not\n",
    "print(num1^num2) #logical XOR\n",
    "print(num2<<2) #left shift , multiply by first 2 and then 2 again so 32\n",
    "print(num1>>1)#right shift , divide by 2 one time and it returns floor value\n"
   ]
  },
  {
   "cell_type": "code",
   "execution_count": 44,
   "id": "ac85513d-78d7-47d2-bfbc-739227ffc745",
   "metadata": {},
   "outputs": [
    {
     "name": "stdout",
     "output_type": "stream",
     "text": [
      "False\n",
      "False\n",
      "True\n",
      "True\n",
      "True\n",
      "False\n",
      "True\n"
     ]
    }
   ],
   "source": [
    "#comparision operators\n",
    "num1=5\n",
    "num2=6\n",
    "\n",
    "print(num1==num2) #if both numbers are equal then return true otherwise false\n",
    "print(num1>num2)  #if first num is greater than second then it reurns  true otherwise false\n",
    "print(num1<num2)  #if  first num is smaller than second number then it returns true otherwise false\n",
    "print(num1<=num1)\n",
    "print(num1<=num2)\n",
    "print(num1>=num2)\n",
    "print(num1!=num2)\n"
   ]
  },
  {
   "cell_type": "code",
   "execution_count": 64,
   "id": "1260d6f1-c667-4a65-9e92-9c23ebfcbffd",
   "metadata": {},
   "outputs": [
    {
     "name": "stdout",
     "output_type": "stream",
     "text": [
      "15\n",
      "5\n",
      "50\n",
      "5.0\n",
      "5.0\n",
      "9765625.0\n",
      "4\n",
      "4\n",
      "3\n"
     ]
    }
   ],
   "source": [
    "# Assignment operator\n",
    "# =,+=,*=,/=,%=\n",
    "\n",
    "num1=5\n",
    "num2=10\n",
    "\n",
    "num1 += num2#num1=num1+num2\n",
    "print(num1)\n",
    "\n",
    "num1-=num2#num1=num1-num2\n",
    "print(num1)\n",
    "\n",
    "num1*=num2#num1=num1*num2\n",
    "print(num1)\n",
    "num1/=num2 #num1=num1/num2\n",
    "print(num1)\n",
    "\n",
    "num1%=num2 #num1=num1%num2\n",
    "print(num1)\n",
    "\n",
    "num1**=num2 #num1=num1**num2\n",
    "print(num1)\n",
    "\n",
    "a=5\n",
    "b=4\n",
    "a&=b\n",
    "print(a)\n",
    "b|=a\n",
    "print(b)\n",
    "\n",
    "a=5\n",
    "b=6\n",
    "a^=b#a=a^b\n",
    "print(a)\n",
    "\n",
    "\n",
    "\n"
   ]
  },
  {
   "cell_type": "code",
   "execution_count": 76,
   "id": "e8706fb8-0f24-4d07-b28c-6567373fe7e3",
   "metadata": {},
   "outputs": [
    {
     "name": "stdout",
     "output_type": "stream",
     "text": [
      "True\n",
      "False\n",
      "True\n",
      "False\n",
      "True\n",
      "False\n",
      "True\n",
      "False\n"
     ]
    }
   ],
   "source": [
    "#Special types of  Operators \n",
    "# is , is not are identity operators\n",
    "# in , not in are membership operators\n",
    "x=[\"Ram\",\"laxman\",\"hari\"]\n",
    "y=x; #returns true because the copy of list is copied in y\n",
    "print(x is y)\n",
    "z=[\"Ram\",\"laxman\",\"hari\"]\n",
    "print(z is x)#returns false because the list is initialized in z\n",
    "print(x is not z) #true\n",
    "print(x is not y) #false because the x is copied in y\n",
    "\n",
    "name=\"Ramesh Bahadur\"\n",
    "print(\"Ram\" in name)\n",
    "print(\"Hari\" in name)\n",
    "print(\"Hitesh\" not in name) \n",
    "print(\"Ramesh\" not in name) "
   ]
  }
 ],
 "metadata": {
  "kernelspec": {
   "display_name": "Python 3 (ipykernel)",
   "language": "python",
   "name": "python3"
  },
  "language_info": {
   "codemirror_mode": {
    "name": "ipython",
    "version": 3
   },
   "file_extension": ".py",
   "mimetype": "text/x-python",
   "name": "python",
   "nbconvert_exporter": "python",
   "pygments_lexer": "ipython3",
   "version": "3.12.6"
  }
 },
 "nbformat": 4,
 "nbformat_minor": 5
}
