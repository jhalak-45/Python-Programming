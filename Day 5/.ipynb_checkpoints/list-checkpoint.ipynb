{
 "cells": [
  {
   "cell_type": "markdown",
   "id": "33d122d7-8ab5-4acf-a571-69b5f526c6c5",
   "metadata": {},
   "source": [
    "## Method\tDescription\n",
    "1. append()\tAdds an element at the end of the list\n",
    "2. clear()\tRemoves all the elements from the list\n",
    "3. copy()\tReturns a copy of the list\n",
    "4. count()\tReturns the number of elements with the specified value\n",
    "5. extend()\tAdd the elements of a list (or any iterable), to the end of the current list\n",
    "6. index()\tReturns the index of the first element with the specified value\n",
    "7. insert()\tAdds an element at the specified position\n",
    "8. pop()\tRemoves the element at the specified position\n",
    "9. remove()\tRemoves the first item with the specified value\n",
    "10. reverse()\tReverses the order of the list\n",
    "11. sort()\tSorts the list"
   ]
  },
  {
   "cell_type": "code",
   "execution_count": 5,
   "id": "2a1fc9b7-859d-46d5-8497-5fc8a82545df",
   "metadata": {},
   "outputs": [
    {
     "name": "stdout",
     "output_type": "stream",
     "text": [
      "[98, 90, 80, 70, 56, 3, 56, 88]\n"
     ]
    },
    {
     "data": {
      "text/plain": [
       "8"
      ]
     },
     "execution_count": 5,
     "metadata": {},
     "output_type": "execute_result"
    }
   ],
   "source": [
    "# list\n",
    "marks=[98,90,80,70,56,3,56,88]\n",
    "print(marks)\n",
    "len(marks)"
   ]
  },
  {
   "cell_type": "code",
   "execution_count": 6,
   "id": "b027be99-a964-4a14-9475-855dfc3f73c4",
   "metadata": {},
   "outputs": [
    {
     "name": "stdout",
     "output_type": "stream",
     "text": [
      "[98, 90, 80, 70, 56, 3, 56, 88, 89]\n"
     ]
    },
    {
     "data": {
      "text/plain": [
       "9"
      ]
     },
     "execution_count": 6,
     "metadata": {},
     "output_type": "execute_result"
    }
   ],
   "source": [
    "marks.append(89)\n",
    "print(marks)\n",
    "len(marks)\n"
   ]
  },
  {
   "cell_type": "code",
   "execution_count": 8,
   "id": "1a8a9e5c-efe4-4ec9-b868-326714b79f91",
   "metadata": {},
   "outputs": [
    {
     "name": "stdout",
     "output_type": "stream",
     "text": [
      "[3, 56, 56, 70, 80, 88, 89, 90, 98]\n"
     ]
    }
   ],
   "source": [
    "marks.sort()\n",
    "print(marks)"
   ]
  },
  {
   "cell_type": "code",
   "execution_count": 23,
   "id": "bbb56e11-8739-4463-8498-fa5bd0b29ae4",
   "metadata": {},
   "outputs": [
    {
     "name": "stdout",
     "output_type": "stream",
     "text": [
      "[98, 90, 89, 88, 86, 86, 86, 86, 86, 80, 70, 56, 56, 3]\n"
     ]
    }
   ],
   "source": [
    "marks.sort(reverse = True)\n",
    "print(marks)\n"
   ]
  },
  {
   "cell_type": "code",
   "execution_count": 25,
   "id": "b33abcc8-8de5-4598-8db5-e757326a5073",
   "metadata": {},
   "outputs": [
    {
     "name": "stdout",
     "output_type": "stream",
     "text": [
      "[76, 98, 90, 89, 88, 86, 86, 86, 86, 86, 80, 70, 56, 56, 3]\n"
     ]
    }
   ],
   "source": [
    "marks.insert(0,76)\n",
    "print(marks)"
   ]
  },
  {
   "cell_type": "code",
   "execution_count": 27,
   "id": "a803adf1-d8d8-4625-aee7-3fa1b33eeb06",
   "metadata": {},
   "outputs": [
    {
     "name": "stdout",
     "output_type": "stream",
     "text": [
      "[76, 98, 90, 89, 88, 86, 86, 86, 80, 70, 56, 56, 3]\n"
     ]
    }
   ],
   "source": [
    "marks.remove(86)\n",
    "print(marks)"
   ]
  },
  {
   "cell_type": "code",
   "execution_count": 30,
   "id": "45996556-4078-4085-97f6-8c96914c4aa6",
   "metadata": {},
   "outputs": [
    {
     "name": "stdout",
     "output_type": "stream",
     "text": [
      "[76, 98, 90, 89, 88, 86, 86, 86, 80, 70]\n"
     ]
    }
   ],
   "source": [
    "marks.pop()\n",
    "print(marks)"
   ]
  },
  {
   "cell_type": "code",
   "execution_count": 42,
   "id": "fc391a71-c117-4001-8756-adf22929dd87",
   "metadata": {},
   "outputs": [
    {
     "name": "stdout",
     "output_type": "stream",
     "text": [
      "[70, 80, 86, 86, 86, 88, 89, 90, 98, 76]\n"
     ]
    }
   ],
   "source": [
    "marks.reverse()\n",
    "print(marks)"
   ]
  },
  {
   "cell_type": "code",
   "execution_count": 45,
   "id": "2cb96731-57c5-4032-b217-6d85192493ac",
   "metadata": {},
   "outputs": [
    {
     "name": "stdout",
     "output_type": "stream",
     "text": [
      "[70, 80, 86, 86, 86, 88, 89, 90, 98, 76, 880, 990, 880, 990, 880, 990]\n"
     ]
    }
   ],
   "source": [
    "marks.extend([880,990])\n",
    "print(marks)"
   ]
  },
  {
   "cell_type": "code",
   "execution_count": 52,
   "id": "e1c602a8-86df-46bc-affa-2cdb7ee1703d",
   "metadata": {},
   "outputs": [
    {
     "name": "stdout",
     "output_type": "stream",
     "text": [
      "[]\n"
     ]
    }
   ],
   "source": [
    "marks.clear()\n",
    "print(marks)"
   ]
  },
  {
   "cell_type": "code",
   "execution_count": 53,
   "id": "7d5a31ae-8f9a-4ff6-8ee8-2ce58ae89a1d",
   "metadata": {},
   "outputs": [
    {
     "name": "stdout",
     "output_type": "stream",
     "text": [
      "[90, 78, 60, 67]\n"
     ]
    }
   ],
   "source": [
    "m=[90,78,60,67]\n",
    "marks.extend(m)\n",
    "print(marks)\n"
   ]
  },
  {
   "cell_type": "code",
   "execution_count": 54,
   "id": "a5ebf592-14cb-497a-a673-c59e22c654c7",
   "metadata": {},
   "outputs": [
    {
     "data": {
      "text/plain": [
       "1"
      ]
     },
     "execution_count": 54,
     "metadata": {},
     "output_type": "execute_result"
    }
   ],
   "source": [
    "marks.count(60)"
   ]
  },
  {
   "cell_type": "code",
   "execution_count": 55,
   "id": "0ea66a63-bb8a-4694-95a5-2aae1952f334",
   "metadata": {},
   "outputs": [
    {
     "name": "stdout",
     "output_type": "stream",
     "text": [
      "[90, 78, 60, 67]\n"
     ]
    }
   ],
   "source": [
    "x=marks.copy()\n",
    "print(x)"
   ]
  },
  {
   "cell_type": "code",
   "execution_count": 57,
   "id": "bcb1118e-8a67-428a-90d8-77f67f110176",
   "metadata": {},
   "outputs": [
    {
     "data": {
      "text/plain": [
       "2"
      ]
     },
     "execution_count": 57,
     "metadata": {},
     "output_type": "execute_result"
    }
   ],
   "source": [
    "marks.index(60)"
   ]
  },
  {
   "cell_type": "markdown",
   "id": "aa7b8032-089c-440b-a38c-4817b47490ae",
   "metadata": {},
   "source": [
    "# extra "
   ]
  },
  {
   "cell_type": "code",
   "execution_count": 74,
   "id": "22e2695a-6b58-4da7-8251-f62fa2302c78",
   "metadata": {},
   "outputs": [
    {
     "name": "stdout",
     "output_type": "stream",
     "text": [
      "[90, 78, 60, 89]\n"
     ]
    }
   ],
   "source": [
    "marks[3]=89\n",
    "print(marks)"
   ]
  },
  {
   "cell_type": "code",
   "execution_count": 58,
   "id": "aeb67972-799f-4b4e-8f89-bb782e83f78c",
   "metadata": {},
   "outputs": [
    {
     "name": "stdout",
     "output_type": "stream",
     "text": [
      "[78, 60, 67]\n"
     ]
    }
   ],
   "source": [
    "print(marks[1:])"
   ]
  },
  {
   "cell_type": "code",
   "execution_count": 59,
   "id": "515806d7-3776-4a8d-bc0b-97e37f61ce05",
   "metadata": {},
   "outputs": [
    {
     "name": "stdout",
     "output_type": "stream",
     "text": [
      "[78, 60]\n"
     ]
    }
   ],
   "source": [
    "print(marks[1:3])"
   ]
  },
  {
   "cell_type": "code",
   "execution_count": 62,
   "id": "c8c55a58-ab67-4210-8ee2-03a77f255b6c",
   "metadata": {},
   "outputs": [
    {
     "name": "stdout",
     "output_type": "stream",
     "text": [
      "[90, 78, 60, 67]\n"
     ]
    }
   ],
   "source": [
    "print(marks[:4])"
   ]
  },
  {
   "cell_type": "code",
   "execution_count": 63,
   "id": "21ff07eb-bb65-4115-af32-d1a685866061",
   "metadata": {},
   "outputs": [
    {
     "name": "stdout",
     "output_type": "stream",
     "text": [
      "[78]\n"
     ]
    }
   ],
   "source": [
    "print(marks[1:2])"
   ]
  },
  {
   "cell_type": "code",
   "execution_count": 64,
   "id": "b1e69fde-e74f-4909-8e95-e52e1df066f6",
   "metadata": {},
   "outputs": [
    {
     "name": "stdout",
     "output_type": "stream",
     "text": [
      "[90, 78, 60, 67]\n"
     ]
    }
   ],
   "source": [
    "print(marks[:])"
   ]
  },
  {
   "cell_type": "code",
   "execution_count": 70,
   "id": "9c76f092-8cbd-4312-98d4-ae6e29bae909",
   "metadata": {},
   "outputs": [
    {
     "name": "stdout",
     "output_type": "stream",
     "text": [
      "[90, 78]\n"
     ]
    }
   ],
   "source": [
    "print(marks[0:2:1])"
   ]
  },
  {
   "cell_type": "code",
   "execution_count": 71,
   "id": "c3f79f90-0081-4838-a2a5-5018ac80e80b",
   "metadata": {},
   "outputs": [
    {
     "name": "stdout",
     "output_type": "stream",
     "text": [
      "[90, 78]\n"
     ]
    }
   ],
   "source": [
    "print(marks[0:2])"
   ]
  },
  {
   "cell_type": "code",
   "execution_count": 72,
   "id": "d68d32fb-daf2-4011-b2e3-4bbe25279525",
   "metadata": {},
   "outputs": [
    {
     "name": "stdout",
     "output_type": "stream",
     "text": [
      "90\n",
      "78\n",
      "60\n",
      "67\n"
     ]
    }
   ],
   "source": [
    "for i in range(len(marks)):\n",
    "    print(marks[i])"
   ]
  },
  {
   "cell_type": "code",
   "execution_count": null,
   "id": "d281281b-6caf-4670-b376-b816db890f68",
   "metadata": {},
   "outputs": [],
   "source": [
    "sum=0\n",
    "for i in range(len(marks)):\n",
    "    sum=sum+marks[i]\n",
    "print(sum)\n"
   ]
  },
  {
   "cell_type": "code",
   "execution_count": 87,
   "id": "1881a2a4-239f-454a-ba69-bcfca8d31afd",
   "metadata": {},
   "outputs": [
    {
     "name": "stdout",
     "output_type": "stream",
     "text": [
      "<class 'list'>\n"
     ]
    }
   ],
   "source": [
    "print(type(marks))\n"
   ]
  }
 ],
 "metadata": {
  "kernelspec": {
   "display_name": "Python 3 (ipykernel)",
   "language": "python",
   "name": "python3"
  },
  "language_info": {
   "codemirror_mode": {
    "name": "ipython",
    "version": 3
   },
   "file_extension": ".py",
   "mimetype": "text/x-python",
   "name": "python",
   "nbconvert_exporter": "python",
   "pygments_lexer": "ipython3",
   "version": "3.12.6"
  }
 },
 "nbformat": 4,
 "nbformat_minor": 5
}
