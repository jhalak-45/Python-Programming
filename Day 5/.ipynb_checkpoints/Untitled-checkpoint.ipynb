{
 "cells": [
  {
   "cell_type": "markdown",
   "id": "7e775279-f5fa-4efc-8135-370320d3d372",
   "metadata": {},
   "source": [
    "## tuple in python\n",
    "- replication/duplicate allow\n",
    "- immutable (cannot chage value)\n",
    "- used small bracket i.e ()"
   ]
  },
  {
   "cell_type": "code",
   "execution_count": null,
   "id": "0de91d7d-5bde-466d-855a-a7ef004c2151",
   "metadata": {},
   "outputs": [],
   "source": []
  }
 ],
 "metadata": {
  "kernelspec": {
   "display_name": "Python 3 (ipykernel)",
   "language": "python",
   "name": "python3"
  },
  "language_info": {
   "codemirror_mode": {
    "name": "ipython",
    "version": 3
   },
   "file_extension": ".py",
   "mimetype": "text/x-python",
   "name": "python",
   "nbconvert_exporter": "python",
   "pygments_lexer": "ipython3",
   "version": "3.12.6"
  },
  "widgets": {
   "application/vnd.jupyter.widget-state+json": {
    "state": {},
    "version_major": 2,
    "version_minor": 0
   }
  }
 },
 "nbformat": 4,
 "nbformat_minor": 5
}
