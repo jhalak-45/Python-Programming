{
 "cells": [
  {
   "cell_type": "markdown",
   "id": "0f60a402-b21a-4b37-8820-95549f9bc174",
   "metadata": {},
   "source": [
    "# Functions in python"
   ]
  },
  {
   "cell_type": "markdown",
   "id": "c0b235f8-94f3-4c47-a335-73c784cb89c3",
   "metadata": {},
   "source": [
    "## 1. No passing arguments and no return type\n"
   ]
  },
  {
   "cell_type": "code",
   "execution_count": 5,
   "id": "b4d85664-183d-4982-953e-3be2d2697ace",
   "metadata": {},
   "outputs": [
    {
     "name": "stdout",
     "output_type": "stream",
     "text": [
      "Hello Nepal\n"
     ]
    }
   ],
   "source": [
    "def myfun():\n",
    "    print(\"Hello Nepal\")\n",
    "myfun()"
   ]
  },
  {
   "cell_type": "markdown",
   "id": "f50ac82b-8b2f-4742-9dc5-4be55372b935",
   "metadata": {},
   "source": [
    "## 2. Passing arguments and no return type\n"
   ]
  },
  {
   "cell_type": "code",
   "execution_count": 6,
   "id": "294c0865-8e71-4aa6-891f-d5414714ab00",
   "metadata": {},
   "outputs": [
    {
     "name": "stdout",
     "output_type": "stream",
     "text": [
      "Hi,Ram Dhami\n"
     ]
    }
   ],
   "source": [
    "def myfun(name):\n",
    "    print(f\"Hi,{name}\")\n",
    "myfun(\"Ram Dhami\")"
   ]
  },
  {
   "cell_type": "markdown",
   "id": "8f1ee503-ee2f-47cf-8ff8-80f04887eff6",
   "metadata": {},
   "source": [
    "## 3. No arguments and return type\n"
   ]
  },
  {
   "cell_type": "code",
   "execution_count": 3,
   "id": "76beb958-774f-404d-973c-5cff421a6b6c",
   "metadata": {},
   "outputs": [
    {
     "name": "stdout",
     "output_type": "stream",
     "text": [
      "name: Ram\n"
     ]
    }
   ],
   "source": [
    "def myfunc():\n",
    "    return \"Ram\"\n",
    "name=myfunc()\n",
    "print(\"name:\",name)"
   ]
  },
  {
   "cell_type": "markdown",
   "id": "70c22566-e809-41ce-aa1b-ee4e43ea6b57",
   "metadata": {},
   "source": [
    "## 4. Passing arguments and return type\n"
   ]
  },
  {
   "cell_type": "code",
   "execution_count": 10,
   "id": "10b55bf1-f05d-4448-a009-d35a6016654e",
   "metadata": {},
   "outputs": [
    {
     "name": "stdout",
     "output_type": "stream",
     "text": [
      "Hello, Ram Dhami\n"
     ]
    }
   ],
   "source": [
    "def myfunc(name):\n",
    "    return name\n",
    "n=myfunc(\"Ram Dhami\")\n",
    "print(\"Hello,\",n)"
   ]
  },
  {
   "cell_type": "markdown",
   "id": "c0eb7be3-5ea0-4428-9597-d62e517667e1",
   "metadata": {},
   "source": [
    "## Passing variable as a Refrence\n"
   ]
  },
  {
   "cell_type": "code",
   "execution_count": 18,
   "id": "4c4b1a6a-ffbd-4af2-a3c9-9e98b669a93f",
   "metadata": {},
   "outputs": [
    {
     "name": "stdout",
     "output_type": "stream",
     "text": [
      "30\n"
     ]
    }
   ],
   "source": [
    "def fun(a,b):\n",
    "    print(a*b)\n",
    "fun(a=5,b=6)"
   ]
  },
  {
   "cell_type": "markdown",
   "id": "66a71a41-bcd0-4b3e-b11f-acf14323135c",
   "metadata": {},
   "source": [
    "## Default parameter"
   ]
  },
  {
   "cell_type": "code",
   "execution_count": 21,
   "id": "8a6d3a3d-35f3-44d0-8aee-ef4e1867d6fd",
   "metadata": {},
   "outputs": [
    {
     "name": "stdout",
     "output_type": "stream",
     "text": [
      "Name:Hari and age: 30\n",
      "Name:Ram and age: 60\n"
     ]
    }
   ],
   "source": [
    "def fun1(name=\"Hari\",age=30):\n",
    "    print(f\"Name:{name} and age: {age}\")\n",
    "fun1()\n",
    "fun1(\"Ram\",60)\n"
   ]
  },
  {
   "cell_type": "markdown",
   "id": "b8284a04-3959-48a2-8a0d-962c97c3eddb",
   "metadata": {},
   "source": [
    "## Return multiple arguments:"
   ]
  },
  {
   "cell_type": "code",
   "execution_count": 36,
   "id": "2b8704d9-0342-42b7-924b-6ef4a6164f11",
   "metadata": {
    "scrolled": true
   },
   "outputs": [
    {
     "name": "stdout",
     "output_type": "stream",
     "text": [
      "Name:Ram\n",
      "Age:56 \n",
      "Phone:98494061\n",
      "Salary:55000.5\n"
     ]
    }
   ],
   "source": [
    "def myfunc(name,age,phone,salary):\n",
    "    return name,age,phone,salary\n",
    "name,age,phone,salary=myfunc(\"Ram\",56,98494061,55000.500)\n",
    "\n",
    "print(f\"Name:{name}\\nAge:{age} \\nPhone:{phone}\\nSalary:{salary}\")"
   ]
  },
  {
   "cell_type": "markdown",
   "id": "11752b32-6c57-48e8-b01d-853e61f3ea1d",
   "metadata": {},
   "source": [
    "## Return multiple arguments as tuple:"
   ]
  },
  {
   "cell_type": "code",
   "execution_count": 48,
   "id": "52230e7c-9488-4271-a075-00e15a927103",
   "metadata": {},
   "outputs": [
    {
     "name": "stdout",
     "output_type": "stream",
     "text": [
      "Name:Ram\n",
      "Age:56 \n",
      "Phone:98494061\n",
      "Salary:55000.5\n",
      "4\n",
      "<class 'tuple'>\n"
     ]
    }
   ],
   "source": [
    "def myfunc(name,age,phone,salary):\n",
    "    return name,age,phone,salary\n",
    "    \n",
    "data=myfunc(\"Ram\",56,98494061,55000.500)\n",
    "\n",
    "print(f\"Name:{data[0]}\\nAge:{data[1]} \\nPhone:{data[2]}\\nSalary:{data[3]}\")\n",
    "\n",
    "print(len(data))\n",
    "print(type(data))\n",
    "\n"
   ]
  },
  {
   "cell_type": "markdown",
   "id": "24fdff66-39a8-43c5-a3aa-38961bb71668",
   "metadata": {},
   "source": [
    "## Passing list in a function as argument"
   ]
  },
  {
   "cell_type": "code",
   "execution_count": 49,
   "id": "d7413721-7868-4468-ac97-534af649e56f",
   "metadata": {},
   "outputs": [
    {
     "name": "stdout",
     "output_type": "stream",
     "text": [
      "Apple\n",
      "Banana\n",
      "Orange\n",
      "Mango\n",
      "Dragon\n"
     ]
    }
   ],
   "source": [
    "def myfun(fruits):\n",
    "    for f in fruits:\n",
    "        print(f)\n",
    "fruits=[\"Apple\",\"Banana\",\"Orange\",\"Mango\",\"Dragon\"]\n",
    "myfun(fruits)"
   ]
  },
  {
   "cell_type": "code",
   "execution_count": 50,
   "id": "558939f4-5e13-4dad-9dee-c9def9773822",
   "metadata": {},
   "outputs": [],
   "source": [
    "def fun():\n",
    "    pass\n",
    "fun()"
   ]
  },
  {
   "cell_type": "markdown",
   "id": "6db16ac0-7d59-4f1c-86c3-0b1ffef1d438",
   "metadata": {},
   "source": [
    "# Excercise:"
   ]
  },
  {
   "cell_type": "markdown",
   "id": "43efce29-94ae-41a3-98fc-3246ab386c71",
   "metadata": {},
   "source": [
    "## Calculate slope of line"
   ]
  },
  {
   "cell_type": "code",
   "execution_count": null,
   "id": "31ab3412-2b92-437b-ae66-8adafce6e21c",
   "metadata": {},
   "outputs": [],
   "source": [
    "def slope(x1,y1,x2,y2):\n",
    "    return (y2-y1)/(x2-x1)\n",
    "m=slope(5,6,7,8)\n",
    "print(f\"slope: {m}\")"
   ]
  },
  {
   "cell_type": "code",
   "execution_count": null,
   "id": "2385f47b-8926-4cf7-b2f8-fad4b644da98",
   "metadata": {},
   "outputs": [
    {
     "name": "stdout",
     "output_type": "stream",
     "text": [
      "slope: 1.0\n"
     ]
    }
   ],
   "source": []
  },
  {
   "cell_type": "markdown",
   "id": "63211702-e002-4d67-bffd-96b950cbe164",
   "metadata": {},
   "source": [
    "##  Slope of a line using lambda function"
   ]
  },
  {
   "cell_type": "code",
   "execution_count": 63,
   "id": "087326f3-f3ee-441a-817a-96b7f3b3d954",
   "metadata": {},
   "outputs": [
    {
     "name": "stdout",
     "output_type": "stream",
     "text": [
      "slope: 1.0\n"
     ]
    },
    {
     "data": {
      "text/plain": [
       "function"
      ]
     },
     "execution_count": 63,
     "metadata": {},
     "output_type": "execute_result"
    }
   ],
   "source": [
    "slope = lambda x1,y1,x2,y2:(y2-y1)/(x2-x1)\n",
    "print(f\"slope: {slope(5,6,7,8)}\")\n",
    "type(slope)"
   ]
  },
  {
   "cell_type": "markdown",
   "id": "3246b216-4096-4089-9df8-a1ddb8b09b06",
   "metadata": {},
   "source": [
    "##  Average of two numbers using lambda function"
   ]
  },
  {
   "cell_type": "code",
   "execution_count": 66,
   "id": "6d946ca5-4d09-4595-a124-f1300b2dd0fb",
   "metadata": {
    "scrolled": true
   },
   "outputs": [
    {
     "name": "stdout",
     "output_type": "stream",
     "text": [
      "Average: 30.0\n"
     ]
    }
   ],
   "source": [
    "avg= lambda a,b:(a+b)/2\n",
    "print(f\"Average: {avg(10,50)}\")"
   ]
  },
  {
   "cell_type": "markdown",
   "id": "afec8219-1b99-4768-b69a-1867d4b6420e",
   "metadata": {},
   "source": [
    "## Area of Rectangle"
   ]
  },
  {
   "cell_type": "code",
   "execution_count": 67,
   "id": "39ddbbe1-9591-4f36-8b00-b2e90f6a7a0c",
   "metadata": {
    "scrolled": true
   },
   "outputs": [
    {
     "name": "stdout",
     "output_type": "stream",
     "text": [
      "42\n"
     ]
    }
   ],
   "source": [
    "def myfun(l,b):\n",
    "    return l*b\n",
    "area=myfun(6,7)\n",
    "print(area)"
   ]
  },
  {
   "cell_type": "markdown",
   "id": "2b233dad-2ff3-4b8c-8b0f-6b6048d3138c",
   "metadata": {},
   "source": [
    "## Area of circle"
   ]
  },
  {
   "cell_type": "code",
   "execution_count": 77,
   "id": "6cb7cdbe-0668-4a73-9713-f3f85675085a",
   "metadata": {},
   "outputs": [
    {
     "name": "stdout",
     "output_type": "stream",
     "text": [
      "113.04\n"
     ]
    }
   ],
   "source": [
    "PI=3.14\n",
    "def area(r):\n",
    "    return PI*r**2\n",
    "area=area(6)\n",
    "print(area)\n"
   ]
  },
  {
   "cell_type": "markdown",
   "id": "0dd22fa4-cb10-49da-87be-8127fef899c2",
   "metadata": {},
   "source": [
    "## Factorial using recursion"
   ]
  },
  {
   "cell_type": "code",
   "execution_count": 84,
   "id": "137f144c-b250-41de-9778-f1e795b2726a",
   "metadata": {},
   "outputs": [
    {
     "name": "stdout",
     "output_type": "stream",
     "text": [
      "120\n"
     ]
    }
   ],
   "source": [
    "def fact(n):\n",
    "    if n==0:\n",
    "        return 1\n",
    "    else:\n",
    "        return n*fact(n-1)\n",
    "print(fact(5))\n"
   ]
  },
  {
   "cell_type": "markdown",
   "id": "0630b224-902e-4d2c-8127-a79788d3e398",
   "metadata": {},
   "source": [
    "## check palindrome number"
   ]
  },
  {
   "cell_type": "code",
   "execution_count": 12,
   "id": "951a8be9-703d-4eae-a7f0-8b9c563b4bd6",
   "metadata": {},
   "outputs": [
    {
     "name": "stdout",
     "output_type": "stream",
     "text": [
      "It is not a palindrome\n"
     ]
    }
   ],
   "source": [
    "def check_palindrome(n):\n",
    "    num1 = n \n",
    "    reverse = 0  \n",
    "    while n > 0:\n",
    "        digit = n % 10  \n",
    "        reverse = reverse * 10 + digit  \n",
    "        n = n//10 \n",
    "\n",
    "    if num1 == reverse:\n",
    "        print(\"It is a palindrome\")\n",
    "    else:\n",
    "        print(\"It is not a palindrome\")\n",
    "\n",
    "check_palindrome()\n"
   ]
  },
  {
   "cell_type": "code",
   "execution_count": 19,
   "id": "30b78b99-45ce-418a-a5d5-1e530b50f2fd",
   "metadata": {},
   "outputs": [
    {
     "name": "stdout",
     "output_type": "stream",
     "text": [
      "It is a palindrome\n"
     ]
    }
   ],
   "source": [
    "def checkpalindrome(n):\n",
    "    num1 = n \n",
    "    reverse = 0  \n",
    "    while n > 0:\n",
    "        digit = n % 10  \n",
    "        reverse = reverse * 10 + digit  \n",
    "        n = n//10 \n",
    "    if num1 == reverse:\n",
    "        print(\"It is a palindrome\")\n",
    "    else:\n",
    "        print(\"It is not a palindrome\")\n",
    "\n",
    "checkpalindrome(898)"
   ]
  }
 ],
 "metadata": {
  "kernelspec": {
   "display_name": "Python 3 (ipykernel)",
   "language": "python",
   "name": "python3"
  },
  "language_info": {
   "codemirror_mode": {
    "name": "ipython",
    "version": 3
   },
   "file_extension": ".py",
   "mimetype": "text/x-python",
   "name": "python",
   "nbconvert_exporter": "python",
   "pygments_lexer": "ipython3",
   "version": "3.12.6"
  },
  "widgets": {
   "application/vnd.jupyter.widget-state+json": {
    "state": {},
    "version_major": 2,
    "version_minor": 0
   }
  }
 },
 "nbformat": 4,
 "nbformat_minor": 5
}
