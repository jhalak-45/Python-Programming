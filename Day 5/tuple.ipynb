{
 "cells": [
  {
   "cell_type": "code",
   "execution_count": 1,
   "id": "02c8424b-f664-4e7e-b184-2256b32ff9aa",
   "metadata": {},
   "outputs": [
    {
     "name": "stdout",
     "output_type": "stream",
     "text": [
      "(50, 70, 89, 99)\n"
     ]
    }
   ],
   "source": [
    "marks=(50,70,89,99)\n",
    "print(marks)"
   ]
  },
  {
   "cell_type": "code",
   "execution_count": 2,
   "id": "7e748624-8a90-4c77-ab28-dbc226318969",
   "metadata": {},
   "outputs": [
    {
     "name": "stdout",
     "output_type": "stream",
     "text": [
      "<class 'tuple'>\n"
     ]
    }
   ],
   "source": [
    "print(type(marks))"
   ]
  },
  {
   "cell_type": "code",
   "execution_count": 3,
   "id": "3470230d-f3bc-40b4-b583-8465bde957b5",
   "metadata": {},
   "outputs": [
    {
     "name": "stdout",
     "output_type": "stream",
     "text": [
      "<class 'str'>\n"
     ]
    }
   ],
   "source": [
    "name=(\"RAM\")\n",
    "print(type(name))"
   ]
  },
  {
   "cell_type": "code",
   "execution_count": 4,
   "id": "40d07274-0c0b-46fb-8433-4e930aaa7932",
   "metadata": {},
   "outputs": [
    {
     "name": "stdout",
     "output_type": "stream",
     "text": [
      "<class 'tuple'>\n"
     ]
    }
   ],
   "source": [
    "name=(\"RAM\",)\n",
    "print(type(name))"
   ]
  },
  {
   "cell_type": "code",
   "execution_count": 8,
   "id": "c39898f5-fc12-4027-b165-0e0bd8f6e887",
   "metadata": {},
   "outputs": [
    {
     "name": "stdout",
     "output_type": "stream",
     "text": [
      "(70,)\n"
     ]
    }
   ],
   "source": [
    "print(marks[1:2])"
   ]
  },
  {
   "cell_type": "code",
   "execution_count": 9,
   "id": "6bc06503-6d03-4515-b181-67a8374d0ca1",
   "metadata": {},
   "outputs": [
    {
     "name": "stdout",
     "output_type": "stream",
     "text": [
      "(50, 70)\n"
     ]
    }
   ],
   "source": [
    "print(marks[:2])"
   ]
  },
  {
   "cell_type": "code",
   "execution_count": 10,
   "id": "5b39c1d0-7293-4ac4-a402-ec9ec93b12c2",
   "metadata": {},
   "outputs": [
    {
     "name": "stdout",
     "output_type": "stream",
     "text": [
      "(50, 70, 89)\n"
     ]
    }
   ],
   "source": [
    "print(marks[0:3])"
   ]
  },
  {
   "cell_type": "code",
   "execution_count": 12,
   "id": "b1277d3c-170f-4cab-9bb4-0b99a9a34798",
   "metadata": {},
   "outputs": [
    {
     "name": "stdout",
     "output_type": "stream",
     "text": [
      "(50, 70, 89, 99)\n"
     ]
    }
   ],
   "source": [
    "print(marks[:4])"
   ]
  },
  {
   "cell_type": "code",
   "execution_count": 13,
   "id": "978d5696-e73e-42f1-8f76-1a0ae83128f2",
   "metadata": {},
   "outputs": [
    {
     "name": "stdout",
     "output_type": "stream",
     "text": [
      "(50, 70, 89, 99)\n"
     ]
    }
   ],
   "source": [
    "print(marks[:])"
   ]
  },
  {
   "cell_type": "code",
   "execution_count": 14,
   "id": "f0afd600-66b6-48b2-9ce5-1402357fdf76",
   "metadata": {},
   "outputs": [
    {
     "name": "stdout",
     "output_type": "stream",
     "text": [
      "(50,)\n"
     ]
    }
   ],
   "source": [
    "print(marks[0:1:2])"
   ]
  },
  {
   "cell_type": "code",
   "execution_count": 28,
   "id": "21fa1c17-b356-4da9-9d9e-8803b300cdf0",
   "metadata": {},
   "outputs": [
    {
     "name": "stdout",
     "output_type": "stream",
     "text": [
      "(70, 89)\n"
     ]
    }
   ],
   "source": [
    "print(marks[-3:-1])"
   ]
  },
  {
   "cell_type": "code",
   "execution_count": 20,
   "id": "25bfb107-c93e-47eb-a7c8-1b8f9a47ff74",
   "metadata": {},
   "outputs": [],
   "source": [
    "# marks[0]=4 tuples are not mutable\n",
    "# print(marks)"
   ]
  },
  {
   "cell_type": "code",
   "execution_count": 24,
   "id": "0d5082b8-b05e-442e-8d7b-752e64fee39f",
   "metadata": {},
   "outputs": [
    {
     "name": "stdout",
     "output_type": "stream",
     "text": [
      "[50, 70, 89, 99]\n"
     ]
    },
    {
     "data": {
      "text/plain": [
       "list"
      ]
     },
     "execution_count": 24,
     "metadata": {},
     "output_type": "execute_result"
    }
   ],
   "source": [
    "x=list(marks)\n",
    "print(x)\n",
    "type(x)"
   ]
  },
  {
   "cell_type": "code",
   "execution_count": 36,
   "id": "5a7a8189-53ef-4dec-a64b-475e6562501b",
   "metadata": {},
   "outputs": [
    {
     "name": "stdout",
     "output_type": "stream",
     "text": [
      "89\n"
     ]
    }
   ],
   "source": [
    "print(marks[2])"
   ]
  },
  {
   "cell_type": "code",
   "execution_count": 26,
   "id": "e3c252d4-0a1a-4a04-a52a-a6f7e6d70c71",
   "metadata": {},
   "outputs": [
    {
     "name": "stdout",
     "output_type": "stream",
     "text": [
      "99\n"
     ]
    }
   ],
   "source": [
    "print(marks[-1])"
   ]
  },
  {
   "cell_type": "code",
   "execution_count": 29,
   "id": "dfdaf22e-c0cc-49bc-b079-4ba328e05eea",
   "metadata": {},
   "outputs": [
    {
     "name": "stdout",
     "output_type": "stream",
     "text": [
      "('a', 'b', 'c', 1, 2, 3)\n"
     ]
    }
   ],
   "source": [
    "tuple1 = (\"a\", \"b\" , \"c\")\n",
    "tuple2 = (1, 2, 3)\n",
    "\n",
    "tuple3 = tuple1 + tuple2\n",
    "print(tuple3)"
   ]
  },
  {
   "cell_type": "code",
   "execution_count": 30,
   "id": "ffb8c476-954d-4b92-a993-22265871051d",
   "metadata": {},
   "outputs": [
    {
     "name": "stdout",
     "output_type": "stream",
     "text": [
      "('apple', 'banana', 'cherry', 'apple', 'banana', 'cherry')\n"
     ]
    }
   ],
   "source": [
    "fruits = (\"apple\", \"banana\", \"cherry\")\n",
    "mytuple = fruits * 2\n",
    "\n",
    "print(mytuple)"
   ]
  },
  {
   "cell_type": "markdown",
   "id": "f3df9830-9896-4ac6-80b4-a280f17aa248",
   "metadata": {},
   "source": [
    "## methods in tuple\n",
    "1. count()\tReturns the number of times a specified value occurs in a tuple\n",
    "2. index()\tSearches the tuple for a specified value and returns the position of where it was found"
   ]
  },
  {
   "cell_type": "code",
   "execution_count": 33,
   "id": "ad4aef9c-832e-4386-8665-d4caafce99f4",
   "metadata": {},
   "outputs": [
    {
     "data": {
      "text/plain": [
       "1"
      ]
     },
     "execution_count": 33,
     "metadata": {},
     "output_type": "execute_result"
    }
   ],
   "source": [
    "mytuple.index('banana')"
   ]
  },
  {
   "cell_type": "code",
   "execution_count": 34,
   "id": "96275c82-d438-400f-85e4-2d44ed5d5e96",
   "metadata": {},
   "outputs": [
    {
     "data": {
      "text/plain": [
       "2"
      ]
     },
     "execution_count": 34,
     "metadata": {},
     "output_type": "execute_result"
    }
   ],
   "source": [
    "mytuple.count('apple')"
   ]
  },
  {
   "cell_type": "code",
   "execution_count": 37,
   "id": "0d226d33-90a2-4728-96dd-f0c31357c3f3",
   "metadata": {},
   "outputs": [
    {
     "name": "stdout",
     "output_type": "stream",
     "text": [
      "(1, 2, 1, 2, 1, 2)\n"
     ]
    }
   ],
   "source": [
    "t = (1, 2)\n",
    "print(t * 3)  # Output: (1, 2, 1, 2, 1, 2)"
   ]
  },
  {
   "cell_type": "code",
   "execution_count": 38,
   "id": "ccd5f32e-a938-4e4f-9007-89adb2136b32",
   "metadata": {},
   "outputs": [
    {
     "name": "stdout",
     "output_type": "stream",
     "text": [
      "True\n",
      "True\n"
     ]
    }
   ],
   "source": [
    "t = (1, 2, 3)\n",
    "print(2 in t)  # Output: True\n",
    "print(5 not in t)  # Output: True\n"
   ]
  },
  {
   "cell_type": "code",
   "execution_count": 39,
   "id": "cf797c84-07e4-42f7-a805-a858c85f3251",
   "metadata": {},
   "outputs": [
    {
     "name": "stdout",
     "output_type": "stream",
     "text": [
      "4\n"
     ]
    }
   ],
   "source": [
    "t = (1, 2, 3, 4)\n",
    "print(len(t))  # Output: 4\n"
   ]
  },
  {
   "cell_type": "code",
   "execution_count": 41,
   "id": "e9849087-a440-499c-a5d2-1adc0f873b2c",
   "metadata": {},
   "outputs": [
    {
     "name": "stdout",
     "output_type": "stream",
     "text": [
      "a=1, b=2, c=3\n"
     ]
    }
   ],
   "source": [
    "t = (1, 2, 3)\n",
    "a, b, c = t\n",
    "print(f\"a={a}, b={ b}, c={ c}\")  # Output: 1 2 3\n"
   ]
  },
  {
   "cell_type": "code",
   "execution_count": 42,
   "id": "60164653-d3ca-4f49-902c-e59a51a18b82",
   "metadata": {},
   "outputs": [
    {
     "name": "stdout",
     "output_type": "stream",
     "text": [
      "(4, 3, 2, 1)\n"
     ]
    }
   ],
   "source": [
    "mytuple = (1, 2, 3, 4)\n",
    "reversed_tuple = mytuple[::-1]\n",
    "print(reversed_tuple)  # Output: (4, 3, 2, 1)\n"
   ]
  },
  {
   "cell_type": "code",
   "execution_count": 47,
   "id": "37435d3b-6880-46fd-a264-3007fcf6d98a",
   "metadata": {},
   "outputs": [
    {
     "name": "stdout",
     "output_type": "stream",
     "text": [
      "(1, 2, 3, 4)\n"
     ]
    }
   ],
   "source": [
    "mytuple = (3, 1, 4, 2)\n",
    "sorted_tuple = tuple(sorted(mytuple))\n",
    "print(sorted_tuple)  \n"
   ]
  },
  {
   "cell_type": "code",
   "execution_count": 53,
   "id": "e17cefd9-725d-4d35-879a-e4b8c8a80a7b",
   "metadata": {},
   "outputs": [
    {
     "name": "stdout",
     "output_type": "stream",
     "text": [
      "('apple', 'banana', 'grapes', 'mango')\n"
     ]
    }
   ],
   "source": [
    "fruits= ('mango','banana','grapes','apple')\n",
    "sorted_fruits=tuple(sorted(fruits))\n",
    "print(sorted_fruits)"
   ]
  },
  {
   "cell_type": "code",
   "execution_count": 54,
   "id": "46800d20-4372-48d5-865e-361297fd1482",
   "metadata": {},
   "outputs": [
    {
     "name": "stdout",
     "output_type": "stream",
     "text": [
      "mango\n",
      "banana\n",
      "grapes\n",
      "apple\n"
     ]
    }
   ],
   "source": [
    "for i in range(len(fruits)):\n",
    "    print(fruits[i])"
   ]
  },
  {
   "cell_type": "code",
   "execution_count": 55,
   "id": "92415268-858b-41fe-b7e8-f067cceba249",
   "metadata": {},
   "outputs": [
    {
     "name": "stdout",
     "output_type": "stream",
     "text": [
      "('mango', 'banana', 'grapes', 'apple', 'mango', 'banana', 'grapes', 'apple', 'mango', 'banana', 'grapes', 'apple')\n"
     ]
    }
   ],
   "source": [
    "fruits=fruits*3\n",
    "print(fruits)"
   ]
  },
  {
   "cell_type": "code",
   "execution_count": 56,
   "id": "fba05bc7-f8b2-48e1-89af-b0cf16736c6e",
   "metadata": {},
   "outputs": [
    {
     "name": "stdout",
     "output_type": "stream",
     "text": [
      "3\n"
     ]
    }
   ],
   "source": [
    "print(fruits.count('banana'))"
   ]
  },
  {
   "cell_type": "code",
   "execution_count": 58,
   "id": "474f6ef5-7241-4732-866e-82857d72e1cf",
   "metadata": {},
   "outputs": [
    {
     "data": {
      "text/plain": [
       "tuple"
      ]
     },
     "execution_count": 58,
     "metadata": {},
     "output_type": "execute_result"
    }
   ],
   "source": [
    "name=()\n",
    "type(name)"
   ]
  },
  {
   "cell_type": "code",
   "execution_count": 60,
   "id": "e2888ac4-1905-4b62-a027-068782ca8b69",
   "metadata": {},
   "outputs": [
    {
     "data": {
      "text/plain": [
       "tuple"
      ]
     },
     "execution_count": 60,
     "metadata": {},
     "output_type": "execute_result"
    }
   ],
   "source": [
    "name=tuple()\n",
    "type(name)"
   ]
  },
  {
   "cell_type": "code",
   "execution_count": 88,
   "id": "5e61d895-4d46-4faf-b03c-e918bdaf1641",
   "metadata": {},
   "outputs": [
    {
     "name": "stdout",
     "output_type": "stream",
     "text": [
      "Name: Ram\n",
      "Age: 45\n"
     ]
    }
   ],
   "source": [
    "class Person:\n",
    "    def __init__(self): #constructor\n",
    "        self.age = None\n",
    "        self.name = None\n",
    "    \n",
    "    def setdata(self,n, a):\n",
    "        self.name = n\n",
    "        self.age = a\n",
    "    def printdata(self):\n",
    "        print(f\"Name: {self.name}\")\n",
    "        print(f\"Age: {self.age}\")\n",
    "\n",
    "p1 = Person()\n",
    "p1.setdata(\"Ram\", 45)\n",
    "p1.printdata()\n"
   ]
  }
 ],
 "metadata": {
  "kernelspec": {
   "display_name": "Python 3 (ipykernel)",
   "language": "python",
   "name": "python3"
  },
  "language_info": {
   "codemirror_mode": {
    "name": "ipython",
    "version": 3
   },
   "file_extension": ".py",
   "mimetype": "text/x-python",
   "name": "python",
   "nbconvert_exporter": "python",
   "pygments_lexer": "ipython3",
   "version": "3.12.6"
  }
 },
 "nbformat": 4,
 "nbformat_minor": 5
}
