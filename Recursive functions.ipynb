{
 "cells": [
  {
   "cell_type": "markdown",
   "id": "db3558f2-865d-432d-b052-9ec0e89175f1",
   "metadata": {},
   "source": [
    "# Recursive functions examples:"
   ]
  },
  {
   "cell_type": "markdown",
   "id": "dde98c1e-e578-4ba9-ba7e-88a05bddd7e5",
   "metadata": {},
   "source": [
    "## 1. Fibonacci Sequence"
   ]
  },
  {
   "cell_type": "code",
   "execution_count": 77,
   "id": "6e11d3ae-c966-4854-b36c-c95e0af70b58",
   "metadata": {},
   "outputs": [
    {
     "data": {
      "text/plain": [
       "13"
      ]
     },
     "execution_count": 77,
     "metadata": {},
     "output_type": "execute_result"
    }
   ],
   "source": [
    "def fibonacci(n):\n",
    "    if n <= 1:\n",
    "        return n\n",
    "    return fibonacci(n - 1) + fibonacci(n - 2)\n",
    "fibonacci(7)"
   ]
  },
  {
   "cell_type": "markdown",
   "id": "568d57d8-33f6-4d43-9c0f-2319d0706f3c",
   "metadata": {},
   "source": [
    "## 2. Factorial of a number"
   ]
  },
  {
   "cell_type": "code",
   "execution_count": 74,
   "id": "cf808d8c-3d2d-49df-8bfc-0dd82f28c96e",
   "metadata": {},
   "outputs": [
    {
     "data": {
      "text/plain": [
       "120"
      ]
     },
     "execution_count": 74,
     "metadata": {},
     "output_type": "execute_result"
    }
   ],
   "source": [
    "def factorial(n):\n",
    "    if n == 0:\n",
    "        return 1\n",
    "    return n * factorial(n - 1)\n",
    "factorial(5)"
   ]
  },
  {
   "cell_type": "markdown",
   "id": "712cfb24-1ffe-458d-babb-5f5c039ed5b8",
   "metadata": {},
   "source": [
    "## 3. Greatest Common Divisor (GCD)\n"
   ]
  },
  {
   "cell_type": "code",
   "execution_count": 72,
   "id": "772698bf-fb24-4680-b94c-848033093bfd",
   "metadata": {},
   "outputs": [
    {
     "data": {
      "text/plain": [
       "6"
      ]
     },
     "execution_count": 72,
     "metadata": {},
     "output_type": "execute_result"
    }
   ],
   "source": [
    "\n",
    "def gcd(a, b):\n",
    "    if b == 0:\n",
    "        return a\n",
    "    return gcd(b, a % b)\n",
    "\n",
    "gcd(6,18)"
   ]
  },
  {
   "cell_type": "markdown",
   "id": "1e42bbc0-7958-4fbd-803c-c20e6de7a994",
   "metadata": {},
   "source": [
    "## 4. Least Common Multiple (LCM)\n"
   ]
  },
  {
   "cell_type": "code",
   "execution_count": 69,
   "id": "7b2ea0e6-92b7-4c61-8ea1-1d959ff8ec3b",
   "metadata": {},
   "outputs": [
    {
     "data": {
      "text/plain": [
       "30"
      ]
     },
     "execution_count": 69,
     "metadata": {},
     "output_type": "execute_result"
    }
   ],
   "source": [
    "def lcm(a, b):\n",
    "    return abs(a * b) // gcd(a, b)\n",
    "lcm(3,10)"
   ]
  },
  {
   "cell_type": "markdown",
   "id": "751e859b-e82f-4b57-9404-9df52503033f",
   "metadata": {},
   "source": [
    "## 5. Power of a number\n"
   ]
  },
  {
   "cell_type": "code",
   "execution_count": 66,
   "id": "b6af09e8-e9f9-42e6-83fd-155f5e56f459",
   "metadata": {},
   "outputs": [
    {
     "data": {
      "text/plain": [
       "8"
      ]
     },
     "execution_count": 66,
     "metadata": {},
     "output_type": "execute_result"
    }
   ],
   "source": [
    "def power(base, exp):\n",
    "    if exp == 0:\n",
    "        return 1\n",
    "    return base * power(base, exp - 1)\n",
    "power(2,3)"
   ]
  },
  {
   "cell_type": "markdown",
   "id": "dfd6e85e-ff1c-481c-8b7e-f21a33a49a2e",
   "metadata": {},
   "source": [
    "## 6. Sum of digits of a number\n"
   ]
  },
  {
   "cell_type": "code",
   "execution_count": 63,
   "id": "d09cca41-b1d8-4bb6-98df-2aba0dea99c9",
   "metadata": {},
   "outputs": [
    {
     "data": {
      "text/plain": [
       "18"
      ]
     },
     "execution_count": 63,
     "metadata": {},
     "output_type": "execute_result"
    }
   ],
   "source": [
    "def sum_of_digits(n):\n",
    "    if n == 0:\n",
    "        return 0\n",
    "    return n % 10 + sum_of_digits(n // 10)\n",
    "sum_of_digits(5454)\n"
   ]
  },
  {
   "cell_type": "markdown",
   "id": "daf2e295-6bc9-451d-aa43-9a2f0481b16a",
   "metadata": {},
   "source": [
    "## 7. Reverse digits of a number\n"
   ]
  },
  {
   "cell_type": "code",
   "execution_count": 60,
   "id": "e5484252-0485-48a4-9dd4-7f369fac3d3d",
   "metadata": {},
   "outputs": [
    {
     "data": {
      "text/plain": [
       "8779"
      ]
     },
     "execution_count": 60,
     "metadata": {},
     "output_type": "execute_result"
    }
   ],
   "source": [
    "def reverse_number(n, rev=0):\n",
    "    if n == 0:\n",
    "        return rev\n",
    "    return reverse_number(n // 10, rev * 10 + n % 10)\n",
    "\n",
    "reverse_number(9778)"
   ]
  },
  {
   "cell_type": "markdown",
   "id": "296e4466-fe7a-4a92-9de2-ccd98b5013a7",
   "metadata": {},
   "source": [
    "## 8. Sum of first n natural numbers"
   ]
  },
  {
   "cell_type": "code",
   "execution_count": 58,
   "id": "d1680d7f-b7f0-4ef4-8a37-d4a31096b654",
   "metadata": {},
   "outputs": [
    {
     "data": {
      "text/plain": [
       "45"
      ]
     },
     "execution_count": 58,
     "metadata": {},
     "output_type": "execute_result"
    }
   ],
   "source": [
    "def sum_natural_numbers(n):\n",
    "    if n == 0:\n",
    "        return 0\n",
    "    return n + sum_natural_numbers(n - 1)\n",
    "sum_natural_numbers(9)"
   ]
  },
  {
   "cell_type": "markdown",
   "id": "a682fb01-3365-470b-bfc8-6667ad1c5e32",
   "metadata": {},
   "source": [
    "## 9. Check if a number is prime\n"
   ]
  },
  {
   "cell_type": "code",
   "execution_count": 56,
   "id": "af0a581e-2cf1-4357-9de1-a0a684667679",
   "metadata": {},
   "outputs": [
    {
     "data": {
      "text/plain": [
       "True"
      ]
     },
     "execution_count": 56,
     "metadata": {},
     "output_type": "execute_result"
    }
   ],
   "source": [
    "def is_prime(n, i=2):\n",
    "    if n <= 2:\n",
    "        return True if n == 2 else False\n",
    "    if n % i == 0:\n",
    "        return False\n",
    "    if i * i > n:\n",
    "        return True\n",
    "    return is_prime(n, i + 1)\n",
    "is_prime(89)"
   ]
  },
  {
   "cell_type": "markdown",
   "id": "30908894-d9d5-48f6-8ecc-0e74dcf790c6",
   "metadata": {},
   "source": [
    "## 10. Nth triangular number\n"
   ]
  },
  {
   "cell_type": "code",
   "execution_count": 54,
   "id": "3aa9261e-dd83-444a-9f1c-1299a27c3bcc",
   "metadata": {},
   "outputs": [
    {
     "data": {
      "text/plain": [
       "6"
      ]
     },
     "execution_count": 54,
     "metadata": {},
     "output_type": "execute_result"
    }
   ],
   "source": [
    "def triangular_number(n):\n",
    "    if n == 0:\n",
    "        return 0\n",
    "    return n + triangular_number(n - 1)\n",
    "triangular_number(3)"
   ]
  },
  {
   "cell_type": "markdown",
   "id": "1e58780c-0e84-413d-a84d-9ce2c9da5ee7",
   "metadata": {},
   "source": [
    "## 11. Sum of squares of first n natural numbers\n"
   ]
  },
  {
   "cell_type": "code",
   "execution_count": 50,
   "id": "6ce5a156-3c56-460e-bcf9-0487f2deb272",
   "metadata": {},
   "outputs": [
    {
     "data": {
      "text/plain": [
       "14"
      ]
     },
     "execution_count": 50,
     "metadata": {},
     "output_type": "execute_result"
    }
   ],
   "source": [
    "def sum_of_squares(n):\n",
    "    if n == 0:\n",
    "        return 0\n",
    "    return n**2 + sum_of_squares(n - 1)\n",
    "sum_of_squares(3)"
   ]
  },
  {
   "cell_type": "markdown",
   "id": "bbf13881-2f25-4c1c-a039-6896b4466a70",
   "metadata": {},
   "source": [
    "## 12. Count digits of a number\n"
   ]
  },
  {
   "cell_type": "code",
   "execution_count": 47,
   "id": "01a043a0-871a-4598-906a-0b201c15d4d8",
   "metadata": {},
   "outputs": [
    {
     "data": {
      "text/plain": [
       "3"
      ]
     },
     "execution_count": 47,
     "metadata": {},
     "output_type": "execute_result"
    }
   ],
   "source": [
    "def count_digits(n):\n",
    "    if n == 0:\n",
    "        return 0\n",
    "    return 1 + count_digits(n // 10)\n",
    "count_digits(409)\n"
   ]
  },
  {
   "cell_type": "markdown",
   "id": "cc5396c7-03c9-49cb-adf6-b885c5da2292",
   "metadata": {},
   "source": [
    "## 13. Decimal to binary conversion\n"
   ]
  },
  {
   "cell_type": "code",
   "execution_count": 44,
   "id": "8ca904ec-eab7-4b19-ac17-3d709f6093e3",
   "metadata": {},
   "outputs": [
    {
     "data": {
      "text/plain": [
       "'1001110'"
      ]
     },
     "execution_count": 44,
     "metadata": {},
     "output_type": "execute_result"
    }
   ],
   "source": [
    "\n",
    "def decimal_to_binary(n):\n",
    "    if n == 0:\n",
    "        return \"\"\n",
    "    return decimal_to_binary(n // 2) + str(n % 2)\n",
    "decimal_to_binary(78)\n"
   ]
  },
  {
   "cell_type": "markdown",
   "id": "631cda3a-49e3-4151-828d-12ce70c12db5",
   "metadata": {},
   "source": [
    "## 14. Sum of digits until a single digit\n"
   ]
  },
  {
   "cell_type": "code",
   "execution_count": 42,
   "id": "a5f6e95c-09c6-45ca-9c95-ba7e1b3c1ae6",
   "metadata": {},
   "outputs": [
    {
     "data": {
      "text/plain": [
       "3"
      ]
     },
     "execution_count": 42,
     "metadata": {},
     "output_type": "execute_result"
    }
   ],
   "source": [
    "def digital_root(n):\n",
    "    if n < 10:\n",
    "        return n\n",
    "    return digital_root(n % 10 + digital_root(n // 10))\n",
    "digital_root(345)"
   ]
  },
  {
   "cell_type": "markdown",
   "id": "ee0f7af2-96b6-43a6-b73f-ec2dd2bee332",
   "metadata": {},
   "source": [
    "## 15. Nth Catalan number"
   ]
  },
  {
   "cell_type": "code",
   "execution_count": 35,
   "id": "939587a7-46d1-4ca5-825f-05c7f3d73246",
   "metadata": {},
   "outputs": [
    {
     "data": {
      "text/plain": [
       "132"
      ]
     },
     "execution_count": 35,
     "metadata": {},
     "output_type": "execute_result"
    }
   ],
   "source": [
    "\n",
    "def catalan_number(n):\n",
    "    if n <= 1:\n",
    "        return 1\n",
    "    res = 0\n",
    "    for i in range(n):\n",
    "        res += catalan_number(i) * catalan_number(n - i - 1)\n",
    "    return res\n",
    "catalan_number(6)"
   ]
  },
  {
   "cell_type": "markdown",
   "id": "5726230f-f44c-412e-81f9-f2349f4e982a",
   "metadata": {},
   "source": [
    "## 16. Euclidean algorithm to find GCD\n"
   ]
  },
  {
   "cell_type": "code",
   "execution_count": 33,
   "id": "0b54f748-5675-452d-bdf4-7bedabd9c1a3",
   "metadata": {},
   "outputs": [
    {
     "data": {
      "text/plain": [
       "1"
      ]
     },
     "execution_count": 33,
     "metadata": {},
     "output_type": "execute_result"
    }
   ],
   "source": [
    "def euclidean_gcd(a, b):\n",
    "    if b == 0:\n",
    "        return a\n",
    "    return euclidean_gcd(b, a % b)\n",
    "euclidean_gcd(4,7)"
   ]
  },
  {
   "cell_type": "markdown",
   "id": "aa2707bd-ed23-44db-8ec6-4669b1057699",
   "metadata": {},
   "source": [
    "## 17. Check if a number is a palindrome\n"
   ]
  },
  {
   "cell_type": "code",
   "execution_count": 31,
   "id": "dde08e57-2bf2-47d5-b38e-c61df17af4a0",
   "metadata": {},
   "outputs": [
    {
     "data": {
      "text/plain": [
       "True"
      ]
     },
     "execution_count": 31,
     "metadata": {},
     "output_type": "execute_result"
    }
   ],
   "source": [
    "def reverse_number(n, rev=0):\n",
    "    if n == 0:\n",
    "        return rev\n",
    "    return reverse_number(n // 10, rev * 10 + n % 10)\n",
    "def is_palindrome(n):\n",
    "    return n == reverse_number(n)\n",
    "is_palindrome(121)"
   ]
  },
  {
   "cell_type": "markdown",
   "id": "d44282ed-7676-445f-aca6-b83e369b6028",
   "metadata": {},
   "source": [
    "## 18. Nth Harmonic number\n"
   ]
  },
  {
   "cell_type": "code",
   "execution_count": 28,
   "id": "ec79a7e0-be97-4f0c-881a-658111c86fcd",
   "metadata": {},
   "outputs": [
    {
     "data": {
      "text/plain": [
       "2.7178571428571425"
      ]
     },
     "execution_count": 28,
     "metadata": {},
     "output_type": "execute_result"
    }
   ],
   "source": [
    "def harmonic_number(n):\n",
    "    if n == 1:\n",
    "        return 1\n",
    "    return 1 / n + harmonic_number(n - 1)\n",
    "harmonic_number(8)"
   ]
  },
  {
   "cell_type": "markdown",
   "id": "9395c5d3-faa9-4402-b1b4-27e2038de567",
   "metadata": {},
   "source": [
    "## 20. Count number of ways to reach the nth stair (Climbing Stairs)"
   ]
  },
  {
   "cell_type": "code",
   "execution_count": 25,
   "id": "a48ce7ec-b4a3-49c5-b600-1b7f04fc1066",
   "metadata": {},
   "outputs": [
    {
     "data": {
      "text/plain": [
       "8"
      ]
     },
     "execution_count": 25,
     "metadata": {},
     "output_type": "execute_result"
    }
   ],
   "source": [
    "def count_ways(n):\n",
    "    if n <= 1:\n",
    "        return 1\n",
    "    return count_ways(n - 1) + count_ways(n - 2)\n",
    "count_ways(5)"
   ]
  },
  {
   "cell_type": "markdown",
   "id": "fec8e042-3434-443e-9e0f-462ec1a7a361",
   "metadata": {},
   "source": [
    "## 21. sum of array"
   ]
  },
  {
   "cell_type": "code",
   "execution_count": 21,
   "id": "2c95d318-350d-44fd-90a1-4d11da434420",
   "metadata": {},
   "outputs": [
    {
     "data": {
      "text/plain": [
       "393"
      ]
     },
     "execution_count": 21,
     "metadata": {},
     "output_type": "execute_result"
    }
   ],
   "source": [
    "\n",
    "def sum_array(arr, n):\n",
    "    if n == 0:\n",
    "        return 0\n",
    "    return arr[n-1] + sum_array(arr, n-1)\n",
    "arr=[40,70,78,90,76,39]\n",
    "sum_array(arr, 6)"
   ]
  },
  {
   "cell_type": "markdown",
   "id": "ceed9c6e-ec84-4d39-90f2-71ba2828ba2d",
   "metadata": {},
   "source": [
    "## 22. Check if an array is sorted"
   ]
  },
  {
   "cell_type": "code",
   "execution_count": 12,
   "id": "83010249-20b1-4231-aefb-170162d747a4",
   "metadata": {},
   "outputs": [
    {
     "data": {
      "text/plain": [
       "False"
      ]
     },
     "execution_count": 12,
     "metadata": {},
     "output_type": "execute_result"
    }
   ],
   "source": [
    "def is_sorted(arr, n):\n",
    "    if n == 1:\n",
    "        return True\n",
    "    return arr[n-1] >= arr[n-2] and is_sorted(arr, n-1)\n",
    "arr=[40,70,78,90,76,39]\n",
    "is_sorted(arr, 6)"
   ]
  },
  {
   "cell_type": "markdown",
   "id": "2ff8c8e7-de05-4a2f-a375-c56239d370ed",
   "metadata": {},
   "source": [
    "## 23. Binary search (recursive version)\n"
   ]
  },
  {
   "cell_type": "code",
   "execution_count": 8,
   "id": "ff030ea5-77e0-4ee9-966b-e26a9206c93f",
   "metadata": {},
   "outputs": [
    {
     "data": {
      "text/plain": [
       "3"
      ]
     },
     "execution_count": 8,
     "metadata": {},
     "output_type": "execute_result"
    }
   ],
   "source": [
    "def binary_search(arr, low, high, x):\n",
    "    if high >= low:\n",
    "        mid = (high + low) // 2\n",
    "        if arr[mid] == x:\n",
    "            return mid\n",
    "        elif arr[mid] > x:\n",
    "            return binary_search(arr, low, mid - 1, x)\n",
    "        else:\n",
    "            return binary_search(arr, mid + 1, high, x)\n",
    "    return -1\n",
    "binary_search(arr,0,6,90)\n",
    "\n"
   ]
  },
  {
   "cell_type": "markdown",
   "id": "6392fa9b-e3cc-4340-ab38-2630de1cd10a",
   "metadata": {},
   "source": [
    "## 24. Find the maximum element in an array\n"
   ]
  },
  {
   "cell_type": "code",
   "execution_count": 5,
   "id": "28661512-4bde-4293-b9f9-f58f005b42ee",
   "metadata": {},
   "outputs": [
    {
     "data": {
      "text/plain": [
       "78"
      ]
     },
     "execution_count": 5,
     "metadata": {},
     "output_type": "execute_result"
    }
   ],
   "source": [
    "def find_max(arr, n):\n",
    "    if n == 1:\n",
    "        return arr[0]\n",
    "    return max(arr[n-1], find_max(arr, n-1))\n",
    "arr=[50,30,2,78,9,2]\n",
    "find_max(arr,6)"
   ]
  },
  {
   "cell_type": "markdown",
   "id": "e31b2c6a-8318-4aea-9242-8b4bc79c3cfa",
   "metadata": {},
   "source": [
    "## 25. Generate all subsets of a set\n"
   ]
  },
  {
   "cell_type": "code",
   "execution_count": null,
   "id": "bbf2b30b-9f81-451f-a689-6b12316286ae",
   "metadata": {},
   "outputs": [],
   "source": [
    "def subsets(s, idx=0, current_set=None):\n",
    "    if current_set is None:\n",
    "        current_set = []\n",
    "    s = list(s)  # Convert set to list for indexing\n",
    "    if idx == len(s):\n",
    "        print(current_set)\n",
    "        return\n",
    "    subsets(s, idx + 1, current_set + [s[idx]])  # Include current element\n",
    "    subsets(s, idx + 1, current_set)             # Exclude current element\n",
    "\n",
    "# Your input set\n",
    "s = {40, 80, 90}\n",
    "subsets(s)\n"
   ]
  },
  {
   "cell_type": "markdown",
   "id": "9d643f5b-8182-42be-85b2-ca229463fdb2",
   "metadata": {},
   "source": [
    "## 26. Permutations of a string\n"
   ]
  },
  {
   "cell_type": "code",
   "execution_count": null,
   "id": "32f4b249-dd3f-4610-826b-79ea6d5c552b",
   "metadata": {},
   "outputs": [],
   "source": [
    "\n",
    "def permute(s, l, r):    \n",
    "    if l == r:\n",
    "        print(''.join(s))\n",
    "    else:\n",
    "        for i in range(l, r + 1):\n",
    "            s[l], s[i] = s[i], s[l]\n",
    "            permute(s, l + 1, r)\n",
    "            s[l], s[i] = s[i], s[l]  # backtrack\n",
    "s = list(\"MISSISSIPPI\")  # Convert string to list for mutable swapping\n",
    "permute(s, 0, len(s) - 1)"
   ]
  },
  {
   "cell_type": "markdown",
   "id": "b6d4d461-f253-48c4-94af-3cf91a6a98d9",
   "metadata": {},
   "source": [
    "## 27. Tower of Hanoi\n"
   ]
  },
  {
   "cell_type": "code",
   "execution_count": 57,
   "id": "990de4b7-41e8-4e56-87d9-5bd6341bda31",
   "metadata": {},
   "outputs": [
    {
     "name": "stdout",
     "output_type": "stream",
     "text": [
      "Move disk 1 from S to D\n",
      "Move disk 2 from S to T\n",
      "Move disk 1 from D to T\n",
      "Move disk 3 from S to D\n",
      "Move disk 1 from T to S\n",
      "Move disk 2 from T to D\n",
      "Move disk 1 from S to D\n"
     ]
    }
   ],
   "source": [
    "def tower_of_hanoi(n, source, target, auxiliary):\n",
    "    if n == 1:\n",
    "        print(f\"Move disk 1 from {source} to {target}\")\n",
    "        return\n",
    "    tower_of_hanoi(n-1, source, auxiliary, target)\n",
    "    print(f\"Move disk {n} from {source} to {target}\")\n",
    "    tower_of_hanoi(n-1, auxiliary, target, source)\n",
    "tower_of_hanoi(3,'S','D','T')"
   ]
  },
  {
   "cell_type": "markdown",
   "id": "7f4a4379-3aba-480e-a68b-3cf6e0d1e130",
   "metadata": {},
   "source": [
    "## 29. check palindrome string\n"
   ]
  },
  {
   "cell_type": "code",
   "execution_count": 54,
   "id": "c20098a0-c85a-4ec0-8b1d-15d1a2ca06c0",
   "metadata": {},
   "outputs": [
    {
     "name": "stdout",
     "output_type": "stream",
     "text": [
      "True\n",
      "False\n",
      "False\n"
     ]
    }
   ],
   "source": [
    "def is_palindrome_string(s):\n",
    "    if len(s) <= 1:\n",
    "        return True\n",
    "    if s[0] != s[-1]:\n",
    "        return False\n",
    "    return is_palindrome_string(s[1:-1])\n",
    "print(is_palindrome_string(\"MaM\"))\n",
    "print(is_palindrome_string(\"maM\"))\n",
    "print(is_palindrome_string(\"helo\"))"
   ]
  },
  {
   "cell_type": "markdown",
   "id": "12154924-a257-4815-adcf-0a07c36ad5a0",
   "metadata": {},
   "source": [
    "## 30. Check if a string is a subsequence of another string\n"
   ]
  },
  {
   "cell_type": "code",
   "execution_count": 37,
   "id": "94876773-89f3-4179-ae8e-eef9b1b72f53",
   "metadata": {},
   "outputs": [
    {
     "name": "stdout",
     "output_type": "stream",
     "text": [
      "True\n"
     ]
    }
   ],
   "source": [
    "def is_subsequence(s1, s2, m, n):\n",
    "    if m == 0:\n",
    "        return True\n",
    "    if n == 0:\n",
    "        return False\n",
    "    if s1[m-1] == s2[n-1]:\n",
    "        return is_subsequence(s1, s2, m-1, n-1)\n",
    "    return is_subsequence(s1, s2, m, n-1)\n",
    "s1=\"Hello\"\n",
    "s2=\"Hell\"\n",
    "print(is_subsequence(s1,s2,1,2))"
   ]
  },
  {
   "cell_type": "markdown",
   "id": "6efbc1d2-b4d7-4d4e-88ce-e035e449d0a2",
   "metadata": {},
   "source": [
    "## 31. Sum of digits of a number (tail recursion)\n"
   ]
  },
  {
   "cell_type": "code",
   "execution_count": 29,
   "id": "d580efe9-5d46-497c-8f9d-25aaa08acbe9",
   "metadata": {},
   "outputs": [
    {
     "name": "stdout",
     "output_type": "stream",
     "text": [
      "13\n"
     ]
    }
   ],
   "source": [
    "def sum_of_digits_tail_recursion(n, sum=0):\n",
    "    if n == 0:\n",
    "        return sum\n",
    "    return sum_of_digits_tail_recursion(n // 10, sum + (n % 10))\n",
    "print(sum_of_digits_tail_recursion(58))"
   ]
  },
  {
   "cell_type": "markdown",
   "id": "12b508c8-d42c-45e6-8cfd-0a51404f02af",
   "metadata": {},
   "source": [
    "## 32. Count occurrences of an element in an array\n"
   ]
  },
  {
   "cell_type": "code",
   "execution_count": 25,
   "id": "9e7b7904-a6bc-4655-bf1a-4e16fc7f2047",
   "metadata": {},
   "outputs": [
    {
     "name": "stdout",
     "output_type": "stream",
     "text": [
      "2\n"
     ]
    }
   ],
   "source": [
    "def count_occurrences(arr, n, x):\n",
    "    if n == 0:\n",
    "        return 0\n",
    "    count = 1 if arr[n-1] == x else 0\n",
    "    return count + count_occurrences(arr, n-1, x)\n",
    "arr=[50,89,6,78,6,7]\n",
    "print(count_occurrences(arr,5,6))"
   ]
  },
  {
   "cell_type": "markdown",
   "id": "c584f54c-5b82-4712-9bb8-eb94e66735f9",
   "metadata": {},
   "source": [
    "## 33. Find the minimum element in an array"
   ]
  },
  {
   "cell_type": "code",
   "execution_count": 23,
   "id": "da62b5dc-e878-4798-9420-ab3dbd397e1e",
   "metadata": {},
   "outputs": [
    {
     "name": "stdout",
     "output_type": "stream",
     "text": [
      "9\n"
     ]
    }
   ],
   "source": [
    "def find_min(arr, n):\n",
    "    if n == 1:\n",
    "        return arr[0]\n",
    "    return min(arr[n-1], find_min(arr, n-1))\n",
    "arr=[40,50,9,55]\n",
    "print(find_min(arr,3))\n"
   ]
  },
  {
   "cell_type": "markdown",
   "id": "e9084786-7197-499c-a14b-9d5a7d600453",
   "metadata": {},
   "source": [
    "## 34. Check if a number is even or odd\n"
   ]
  },
  {
   "cell_type": "code",
   "execution_count": 18,
   "id": "d25f4726-dac5-4e8d-ace1-deec29c6c9df",
   "metadata": {},
   "outputs": [
    {
     "name": "stdout",
     "output_type": "stream",
     "text": [
      "False\n"
     ]
    }
   ],
   "source": [
    "def is_even(n):\n",
    "    if n == 0:\n",
    "        return True\n",
    "    if n == 1:\n",
    "        return False\n",
    "    return is_even(n-2)\n",
    "print(is_even(5))"
   ]
  },
  {
   "cell_type": "markdown",
   "id": "f5d6f64b-3aa7-4b03-a262-49b7fcc308b4",
   "metadata": {},
   "source": [
    "## 35. Sum of geometric progression"
   ]
  },
  {
   "cell_type": "code",
   "execution_count": 16,
   "id": "af1f5453-0868-4246-be25-874f8b857e7d",
   "metadata": {},
   "outputs": [
    {
     "name": "stdout",
     "output_type": "stream",
     "text": [
      "4095\n"
     ]
    }
   ],
   "source": [
    "def geometric_sum(n, a=1, r=2):\n",
    "    if n == 0:\n",
    "        return a\n",
    "    return a * (r**n) + geometric_sum(n-1, a, r)\n",
    "\n",
    "print(geometric_sum(5,3,4))"
   ]
  },
  {
   "cell_type": "markdown",
   "id": "17001e8b-7060-42ff-bc4d-3e5dfc0a5afe",
   "metadata": {},
   "source": [
    "## 36. Decimal to hexadecimal conversion\n"
   ]
  },
  {
   "cell_type": "code",
   "execution_count": 14,
   "id": "b6000e48-f798-4874-b7fa-87560ef93409",
   "metadata": {},
   "outputs": [
    {
     "name": "stdout",
     "output_type": "stream",
     "text": [
      "3B\n"
     ]
    }
   ],
   "source": [
    "def decimal_to_hex(n):\n",
    "    if n == 0:\n",
    "        return \"\"\n",
    "    hex_chars = \"0123456789ABCDEF\"\n",
    "    return decimal_to_hex(n // 16) + hex_chars[n % 16]\n",
    "print(decimal_to_hex(59))"
   ]
  },
  {
   "cell_type": "markdown",
   "id": "e0b33e92-4bf8-4308-ba94-98b1a6e13e1f",
   "metadata": {},
   "source": [
    "## 37. Product of two numbers using recursion (without using *)\n"
   ]
  },
  {
   "cell_type": "code",
   "execution_count": 10,
   "id": "70eb3be9-73c8-400f-b3e7-67b625cfb2e6",
   "metadata": {},
   "outputs": [
    {
     "name": "stdout",
     "output_type": "stream",
     "text": [
      "30\n"
     ]
    }
   ],
   "source": [
    "def multiply(a, b):\n",
    "    if b == 0:\n",
    "        return 0\n",
    "    return a + multiply(a, b-1)\n",
    "print(multiply(5,6))"
   ]
  },
  {
   "cell_type": "markdown",
   "id": "5410359a-efa1-4c30-9580-99d5617238a0",
   "metadata": {},
   "source": [
    "## 38. Count ways to cover a distance with 1, 2, or 3 steps\n"
   ]
  },
  {
   "cell_type": "code",
   "execution_count": 7,
   "id": "adb72116-7616-4f75-9e9c-b659c82a36c0",
   "metadata": {},
   "outputs": [
    {
     "name": "stdout",
     "output_type": "stream",
     "text": [
      "13\n"
     ]
    }
   ],
   "source": [
    "def count_ways_to_cover_distance(n):\n",
    "    if n == 0:\n",
    "        return 1\n",
    "    if n < 0:\n",
    "        return 0\n",
    "    return (count_ways_to_cover_distance(n-1) + \n",
    "            count_ways_to_cover_distance(n-2) + \n",
    "            count_ways_to_cover_distance(n-3))\n",
    "print(count_ways_to_cover_distance(5))"
   ]
  },
  {
   "cell_type": "markdown",
   "id": "d6e50b77-9d71-4f85-a422-66b6c85c4367",
   "metadata": {},
   "source": [
    "## 39. Sum of cubes of first n natural numbers\n"
   ]
  },
  {
   "cell_type": "code",
   "execution_count": 2,
   "id": "453558d8-aa1c-417a-8fea-6b9e0ee11c80",
   "metadata": {},
   "outputs": [
    {
     "name": "stdout",
     "output_type": "stream",
     "text": [
      "225\n"
     ]
    }
   ],
   "source": [
    "def sum_of_cubes(n):\n",
    "    if n == 0:\n",
    "        return 0\n",
    "    return n**3 + sum_of_cubes(n-1)\n",
    "print(sum_of_cubes(5))"
   ]
  },
  {
   "cell_type": "markdown",
   "id": "78088329-b745-4fc6-b8d3-ce4d702b72a3",
   "metadata": {},
   "source": [
    "## 40. Compute nCr (combinations)"
   ]
  },
  {
   "cell_type": "code",
   "execution_count": 5,
   "id": "d8ef0d26-25ed-4094-aa67-73caf6d857a8",
   "metadata": {},
   "outputs": [
    {
     "name": "stdout",
     "output_type": "stream",
     "text": [
      "10\n"
     ]
    }
   ],
   "source": [
    "\n",
    "def nCr(n, r):\n",
    "    if r == 0 or r == n:\n",
    "        return 1\n",
    "    return nCr(n-1, r-1) + nCr(n-1, r)\n",
    "print(nCr(5,2))"
   ]
  }
 ],
 "metadata": {
  "kernelspec": {
   "display_name": "Python 3 (ipykernel)",
   "language": "python",
   "name": "python3"
  },
  "language_info": {
   "codemirror_mode": {
    "name": "ipython",
    "version": 3
   },
   "file_extension": ".py",
   "mimetype": "text/x-python",
   "name": "python",
   "nbconvert_exporter": "python",
   "pygments_lexer": "ipython3",
   "version": "3.12.6"
  },
  "widgets": {
   "application/vnd.jupyter.widget-state+json": {
    "state": {},
    "version_major": 2,
    "version_minor": 0
   }
  }
 },
 "nbformat": 4,
 "nbformat_minor": 5
}
