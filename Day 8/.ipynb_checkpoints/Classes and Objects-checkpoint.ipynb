{
 "cells": [
  {
   "cell_type": "markdown",
   "id": "cacc6b49-48aa-4946-98d7-2bcc1eadfdaf",
   "metadata": {},
   "source": [
    "## Classes and Objects\n",
    "- ____init_ ___ for constructor\n",
    "- self for access its own data"
   ]
  },
  {
   "cell_type": "markdown",
   "id": "a1466374-d1b5-4637-a813-45608030f36e",
   "metadata": {},
   "source": [
    "\n"
   ]
  },
  {
   "cell_type": "code",
   "execution_count": null,
   "id": "2c164fc4-1b47-430f-b17e-2336528a2803",
   "metadata": {},
   "outputs": [],
   "source": []
  },
  {
   "cell_type": "code",
   "execution_count": 23,
   "id": "1b3b259c-2708-41b7-91c3-ce53d8bc734a",
   "metadata": {},
   "outputs": [
    {
     "name": "stdout",
     "output_type": "stream",
     "text": [
      "Name: Ram\n",
      "Roll: 45\n"
     ]
    }
   ],
   "source": [
    "class Student:\n",
    "    def __int__(self):\n",
    "        self.name=\"Ramesh\"\n",
    "        self.roll=40\n",
    "    def __init__(self,name,roll):\n",
    "        self.name=name\n",
    "        self.roll=roll\n",
    "    # def __str__(self):\n",
    "    #    return(f\"{self.name}\\n{self.roll})\n",
    "\n",
    "std=Student(\"Ram\",45)\n",
    "# print(std)\n",
    "print(\"Name:\",std.name)\n",
    "print(\"Roll:\",std.roll)"
   ]
  },
  {
   "cell_type": "code",
   "execution_count": 29,
   "id": "64d6a42b-6e89-4c9d-91af-d672aad8b268",
   "metadata": {},
   "outputs": [
    {
     "name": "stdout",
     "output_type": "stream",
     "text": [
      "EID:2001\n",
      "Name:Ramesh\n",
      "Address:Kathmandu\n",
      "Salary:55000\n"
     ]
    }
   ],
   "source": [
    "class employee:\n",
    "    def __init__(self,eid,name,address,salary):\n",
    "        self.eid=eid\n",
    "        self.name=name\n",
    "        self.address=address\n",
    "        self.salary=salary\n",
    "    def display(self):\n",
    "        print(f\"EID:{self.eid}\")\n",
    "        print(f\"Name:{self.name}\")\n",
    "        print(f\"Address:{self.address}\")\n",
    "        print(f\"Salary:{self.salary}\")\n",
    "    \n",
    "emp=employee(2001,\"Ramesh\",\"Kathmandu\",55000)\n",
    "emp.display()\n",
    "        "
   ]
  },
  {
   "cell_type": "code",
   "execution_count": 28,
   "id": "1279af99-23be-4301-957b-da8c1e8ecadc",
   "metadata": {},
   "outputs": [
    {
     "name": "stdout",
     "output_type": "stream",
     "text": [
      "EID:2001\n",
      "Name:Ramesh\n",
      "Address:Kathmandu\n",
      "Salary:55000\n"
     ]
    }
   ],
   "source": [
    "class employee:\n",
    "    \n",
    "    def setdata(self,eid,name,address,salary):\n",
    "        self.eid=eid\n",
    "        self.name=name\n",
    "        self.address=address\n",
    "        self.salary=salary\n",
    "    def display(self):\n",
    "        print(f\"EID:{self.eid}\")\n",
    "        print(f\"Name:{self.name}\")\n",
    "        print(f\"Address:{self.address}\")\n",
    "        print(f\"Salary:{self.salary}\")\n",
    "    \n",
    "emp=employee()\n",
    "emp.setdata(2001,\"Ramesh\",\"Kathmandu\",55000)\n",
    "emp.display()"
   ]
  },
  {
   "cell_type": "code",
   "execution_count": 48,
   "id": "79c604c8-6142-4d93-a95d-8fd3056e6d18",
   "metadata": {},
   "outputs": [
    {
     "name": "stdout",
     "output_type": "stream",
     "text": [
      "EID:2001\n",
      "Name:Ramesh\n",
      "Address:Kathmandu\n",
      "Salary:55000\n"
     ]
    }
   ],
   "source": [
    "class employee:\n",
    "    \n",
    "    def __init__(self):\n",
    "        self.eid=None\n",
    "        self.name=None\n",
    "        self.address=None\n",
    "        self.salary=None\n",
    "    def setdata(self,eid,name,address,salary):\n",
    "        self.eid=eid\n",
    "        self.name=name\n",
    "        self.address=address\n",
    "        self.salary=salary\n",
    "    def display(self):\n",
    "        print(f\"EID:{self.eid}\")\n",
    "        print(f\"Name:{self.name}\")\n",
    "        print(f\"Address:{self.address}\")\n",
    "        print(f\"Salary:{self.salary}\")\n",
    "    \n",
    "emp=employee()\n",
    "emp.setdata(2001,\"Ramesh\",\"Kathmandu\",55000)\n",
    "emp.display()"
   ]
  },
  {
   "cell_type": "code",
   "execution_count": 55,
   "id": "b24652a6-fd70-41cd-8ff4-e3645fdf6376",
   "metadata": {},
   "outputs": [
    {
     "name": "stdout",
     "output_type": "stream",
     "text": [
      "EID:5003\n",
      "Name:Ram\n",
      "Address:Kathmandu\n",
      "Salary:55000\n"
     ]
    }
   ],
   "source": [
    "# # to change value\n",
    "emp.eid=5003\n",
    "emp.name=\"Ram\"\n",
    "emp.display()"
   ]
  },
  {
   "cell_type": "markdown",
   "id": "0bf82493-b743-4cc4-968c-5d700e85d160",
   "metadata": {},
   "source": [
    "## to delete object"
   ]
  },
  {
   "cell_type": "code",
   "execution_count": 54,
   "id": "5def17cd-484d-44ae-8d9f-230f5614a369",
   "metadata": {},
   "outputs": [
    {
     "ename": "AttributeError",
     "evalue": "'employee' object has no attribute 'eid'",
     "output_type": "error",
     "traceback": [
      "\u001b[1;31m---------------------------------------------------------------------------\u001b[0m",
      "\u001b[1;31mAttributeError\u001b[0m                            Traceback (most recent call last)",
      "Cell \u001b[1;32mIn[54], line 3\u001b[0m\n\u001b[0;32m      1\u001b[0m \u001b[38;5;66;03m# del emp.eid\u001b[39;00m\n\u001b[0;32m      2\u001b[0m \u001b[38;5;66;03m# print(emp.eid)\u001b[39;00m\n\u001b[1;32m----> 3\u001b[0m \u001b[43memp\u001b[49m\u001b[38;5;241;43m.\u001b[39;49m\u001b[43mdisplay\u001b[49m\u001b[43m(\u001b[49m\u001b[43m)\u001b[49m\n",
      "Cell \u001b[1;32mIn[48], line 14\u001b[0m, in \u001b[0;36memployee.display\u001b[1;34m(self)\u001b[0m\n\u001b[0;32m     13\u001b[0m \u001b[38;5;28;01mdef\u001b[39;00m \u001b[38;5;21mdisplay\u001b[39m(\u001b[38;5;28mself\u001b[39m):\n\u001b[1;32m---> 14\u001b[0m     \u001b[38;5;28mprint\u001b[39m(\u001b[38;5;124mf\u001b[39m\u001b[38;5;124m\"\u001b[39m\u001b[38;5;124mEID:\u001b[39m\u001b[38;5;132;01m{\u001b[39;00m\u001b[38;5;28;43mself\u001b[39;49m\u001b[38;5;241;43m.\u001b[39;49m\u001b[43meid\u001b[49m\u001b[38;5;132;01m}\u001b[39;00m\u001b[38;5;124m\"\u001b[39m)\n\u001b[0;32m     15\u001b[0m     \u001b[38;5;28mprint\u001b[39m(\u001b[38;5;124mf\u001b[39m\u001b[38;5;124m\"\u001b[39m\u001b[38;5;124mName:\u001b[39m\u001b[38;5;132;01m{\u001b[39;00m\u001b[38;5;28mself\u001b[39m\u001b[38;5;241m.\u001b[39mname\u001b[38;5;132;01m}\u001b[39;00m\u001b[38;5;124m\"\u001b[39m)\n\u001b[0;32m     16\u001b[0m     \u001b[38;5;28mprint\u001b[39m(\u001b[38;5;124mf\u001b[39m\u001b[38;5;124m\"\u001b[39m\u001b[38;5;124mAddress:\u001b[39m\u001b[38;5;132;01m{\u001b[39;00m\u001b[38;5;28mself\u001b[39m\u001b[38;5;241m.\u001b[39maddress\u001b[38;5;132;01m}\u001b[39;00m\u001b[38;5;124m\"\u001b[39m)\n",
      "\u001b[1;31mAttributeError\u001b[0m: 'employee' object has no attribute 'eid'"
     ]
    }
   ],
   "source": [
    "\n",
    "# del emp.eid\n",
    "# print(emp.eid)\n",
    "emp.display()\n"
   ]
  }
 ],
 "metadata": {
  "kernelspec": {
   "display_name": "Python 3 (ipykernel)",
   "language": "python",
   "name": "python3"
  },
  "language_info": {
   "codemirror_mode": {
    "name": "ipython",
    "version": 3
   },
   "file_extension": ".py",
   "mimetype": "text/x-python",
   "name": "python",
   "nbconvert_exporter": "python",
   "pygments_lexer": "ipython3",
   "version": "3.12.6"
  },
  "widgets": {
   "application/vnd.jupyter.widget-state+json": {
    "state": {},
    "version_major": 2,
    "version_minor": 0
   }
  }
 },
 "nbformat": 4,
 "nbformat_minor": 5
}
