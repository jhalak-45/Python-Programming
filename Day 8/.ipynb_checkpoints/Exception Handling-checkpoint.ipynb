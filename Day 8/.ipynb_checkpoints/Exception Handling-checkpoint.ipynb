{
 "cells": [
  {
   "cell_type": "markdown",
   "id": "d7d2f97b-0189-4b57-8aa9-b8eda5b21463",
   "metadata": {},
   "source": [
    "# Exception handling\n",
    "Exception handling in Python is a process of resolving errors that occur in a program. This involves catching exceptions, understanding what caused them, and then responding accordingly. Exceptions are errors that occur at runtime when the program is being executed.\n",
    "### - try\n",
    "### - except\n",
    "### - else\n",
    "### - finally"
   ]
  },
  {
   "cell_type": "markdown",
   "id": "a197cec8-d308-4079-af74-b03b9a8a397f",
   "metadata": {},
   "source": [
    "# Example of exception handling with try, except, else, and finally\n"
   ]
  },
  {
   "cell_type": "code",
   "execution_count": 3,
   "id": "f70f5a9e-ab12-4d2d-b895-9bfa9ae2d14b",
   "metadata": {},
   "outputs": [
    {
     "name": "stdout",
     "output_type": "stream",
     "text": [
      "Result: 5.0\n",
      "Execution completed.\n",
      "Error: Division by zero is not allowed.\n",
      "Execution completed.\n",
      "Error: Unsupported types. Please provide numbers.\n",
      "Execution completed.\n"
     ]
    }
   ],
   "source": [
    "\n",
    "def divide_numbers(x, y):\n",
    "    try:\n",
    "        # Try to perform the division\n",
    "        result = x / y\n",
    "    except ZeroDivisionError:\n",
    "        # Handle division by zero exception\n",
    "        print(\"Error: Division by zero is not allowed.\")\n",
    "    except TypeError:\n",
    "        # Handle type error exception\n",
    "        print(\"Error: Unsupported types. Please provide numbers.\")\n",
    "    else:\n",
    "        # Execute this block if no exceptions are raised\n",
    "        print(f\"Result: {result}\")\n",
    "    finally:\n",
    "        # This block always executes, regardless of exceptions\n",
    "        print(\"Execution completed.\")\n",
    "\n",
    "# Test cases\n",
    "divide_numbers(10, 2)  # Normal division\n",
    "divide_numbers(10, 0)  # Division by zero\n",
    "divide_numbers(10, 'a')  # Type error\n"
   ]
  },
  {
   "cell_type": "code",
   "execution_count": 22,
   "id": "badd944d-c284-4b96-a497-f28d5edb734b",
   "metadata": {},
   "outputs": [
    {
     "name": "stdout",
     "output_type": "stream",
     "text": [
      "Division Successful result= 5.0\n",
      "finally block executed\n"
     ]
    }
   ],
   "source": [
    "a=10\n",
    "b='a'\n",
    "b=2\n",
    "try:\n",
    "    result=a/b\n",
    "except ZeroDivisionError:\n",
    "    print(\"Error!, cannot divied by zero\") # it display when the number divide by zero\n",
    "except TypeError:\n",
    "    print(\"Error!, Type Error , both number must be numeric\") #this executes when data type error \n",
    "else:\n",
    "    print(\"Division Successful result=\",result) # this executes if no any error occured\n",
    "finally:\n",
    "    print(\"finally block executed\") # it executes alwayse when above conditions are matched or not matched"
   ]
  },
  {
   "cell_type": "code",
   "execution_count": 28,
   "id": "0cf61a44-b82d-4e0b-87bf-3aa972c0fb93",
   "metadata": {},
   "outputs": [
    {
     "name": "stdout",
     "output_type": "stream",
     "text": [
      "x= 3\n",
      "Success\n"
     ]
    }
   ],
   "source": [
    "try:\n",
    "    x=3\n",
    "except NameError:\n",
    "    print(\"Error , Not defined in scope\")\n",
    "else:\n",
    "    print(\"x=\",x)\n",
    "finally:\n",
    "    print(\"Success\")"
   ]
  },
  {
   "cell_type": "code",
   "execution_count": 57,
   "id": "5685c0da-04de-4972-a3d9-efb46af3d615",
   "metadata": {},
   "outputs": [
    {
     "name": "stdin",
     "output_type": "stream",
     "text": [
      "Enter  integer: 8\n"
     ]
    },
    {
     "name": "stdout",
     "output_type": "stream",
     "text": [
      "Your entered value integer\n",
      "operation success\n"
     ]
    }
   ],
   "source": [
    "y=input(\"Enter  integer:\")\n",
    "x=int(y)\n",
    "try:\n",
    "    type(x)==type(int)\n",
    "except ValueError:\n",
    "    print(\"Error , your entered number is not integer\") \n",
    "else:\n",
    "    print(\"Your entered value integer\")\n",
    "finally:\n",
    "    print(\"operation success\")\n",
    "    "
   ]
  },
  {
   "cell_type": "markdown",
   "id": "ab711253-ec76-4536-b71c-ebb4b260f748",
   "metadata": {},
   "source": [
    "#w3resource\n"
   ]
  },
  {
   "cell_type": "markdown",
   "id": "a46c28d5-ee76-4eaf-9808-bfa1da08b425",
   "metadata": {},
   "source": [
    "## ArithmeticError"
   ]
  },
  {
   "cell_type": "code",
   "execution_count": 56,
   "id": "18238bb2-eead-494a-bb5c-30d1ac9d11e2",
   "metadata": {},
   "outputs": [
    {
     "name": "stdout",
     "output_type": "stream",
     "text": [
      "ArithmeticError: division by zero\n"
     ]
    }
   ],
   "source": [
    "try:\n",
    "    result = 10 / 0\n",
    "except ArithmeticError as e:\n",
    "    print(f\"ArithmeticError: {e}\")\n"
   ]
  },
  {
   "cell_type": "code",
   "execution_count": null,
   "id": "2cf5542d-2aba-4aa7-b2ea-c94e0141c297",
   "metadata": {},
   "outputs": [],
   "source": []
  }
 ],
 "metadata": {
  "kernelspec": {
   "display_name": "Python 3 (ipykernel)",
   "language": "python",
   "name": "python3"
  },
  "language_info": {
   "codemirror_mode": {
    "name": "ipython",
    "version": 3
   },
   "file_extension": ".py",
   "mimetype": "text/x-python",
   "name": "python",
   "nbconvert_exporter": "python",
   "pygments_lexer": "ipython3",
   "version": "3.12.6"
  },
  "widgets": {
   "application/vnd.jupyter.widget-state+json": {
    "state": {},
    "version_major": 2,
    "version_minor": 0
   }
  }
 },
 "nbformat": 4,
 "nbformat_minor": 5
}
