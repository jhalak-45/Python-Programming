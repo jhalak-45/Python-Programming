{
 "cells": [
  {
   "cell_type": "markdown",
   "id": "73d6b60f-17bf-4bb8-a957-9848d6a3b81c",
   "metadata": {},
   "source": [
    "## File Handling in python\n",
    "- open()\n",
    "- close()\n",
    "- append()\n",
    "- write()\n",
    "- read()\n",
    "\n",
    "\"r\" - Read - Default value. Opens a file for reading, error if the file does not exist\n",
    "\n",
    "\"a\" - Append - Opens a file for appending, creates the file if it does not exist\n",
    "\n",
    "\"w\" - Write - Opens a file for writing, creates the file if it does not exist\n",
    "\n",
    "\"x\" - Create - Creates the specified file, returns an error if the file exists , .exe file,ddlile\n",
    "\n",
    "In addition you can specify if the file should be handled as binary or text mode\n",
    "\n",
    "\"t\" - Text - Default value. Text mode\n",
    "\n",
    "\"b\" - Binary - Binary mode (e.g. images)"
   ]
  },
  {
   "cell_type": "code",
   "execution_count": 23,
   "id": "1644f007-eb5a-44e5-bede-a67773477e3b",
   "metadata": {},
   "outputs": [],
   "source": [
    "# open()\n",
    "f=open(\"myfile.txt\",\"w\")\n",
    "\n"
   ]
  },
  {
   "cell_type": "code",
   "execution_count": 24,
   "id": "c055837d-64b3-4a90-87b8-ed49eb390ec8",
   "metadata": {},
   "outputs": [],
   "source": [
    "## write()\n",
    "f.write(\"Hello, welcome to here\")\n",
    "f.close()"
   ]
  },
  {
   "cell_type": "code",
   "execution_count": 25,
   "id": "31a615f0-fdfb-4169-a56a-238bceb6bffe",
   "metadata": {},
   "outputs": [
    {
     "name": "stdout",
     "output_type": "stream",
     "text": [
      "Hello, welcome to here\n"
     ]
    }
   ],
   "source": [
    "f=open(\"myfile.txt\",\"r\")\n",
    "print(f.read())\n",
    "f.close()"
   ]
  },
  {
   "cell_type": "code",
   "execution_count": 26,
   "id": "e4d68c80-36cb-41f2-b4fc-f4a6dbb238fc",
   "metadata": {},
   "outputs": [],
   "source": [
    "f=open(\"myfile.txt\",\"a\")\n",
    "f.write(\"Namaste\")\n",
    "f.close()\n",
    "\n"
   ]
  },
  {
   "cell_type": "code",
   "execution_count": 27,
   "id": "6ce54a28-422b-424b-b51a-fa4e3e3bd02c",
   "metadata": {},
   "outputs": [
    {
     "name": "stdout",
     "output_type": "stream",
     "text": [
      "Hello, welcome to hereNamaste\n"
     ]
    }
   ],
   "source": [
    "f=open(\"myfile.txt\",\"r\")\n",
    "print(f.read())\n",
    "f.close()"
   ]
  },
  {
   "cell_type": "code",
   "execution_count": 92,
   "id": "e0a4d91b-5ae1-4760-8a7f-f479df60bfcd",
   "metadata": {},
   "outputs": [],
   "source": [
    "file=open(\"myself.txt\",\"w\")\n",
    "file.write('''\n",
    "My name is Jhalak Dhami.\n",
    "I am a Student.\n",
    "I Live in Bajhang.\n",
    "''')\n",
    "file.close()"
   ]
  },
  {
   "cell_type": "code",
   "execution_count": 93,
   "id": "3d964458-cc18-4ac8-91f9-d9b53798509b",
   "metadata": {},
   "outputs": [
    {
     "name": "stdout",
     "output_type": "stream",
     "text": [
      "\n",
      "My name is Jhalak Dhami.\n",
      "I am a Student.\n",
      "I Live in Bajhang.\n",
      "\n"
     ]
    }
   ],
   "source": [
    "file=open(\"myself.txt\",\"r\")\n",
    "print(file.read())\n",
    "file.close()"
   ]
  },
  {
   "cell_type": "code",
   "execution_count": 94,
   "id": "6ab8df32-22bd-4ab6-88eb-33b78bdbaa6a",
   "metadata": {},
   "outputs": [],
   "source": [
    "file=open(\"myself.txt\",\"a\")\n",
    "file.write(\"I am xyz \\n\")\n",
    "file.close()"
   ]
  },
  {
   "cell_type": "code",
   "execution_count": 95,
   "id": "4f0bbfc2-bd90-4b81-a163-85a412e05917",
   "metadata": {
    "scrolled": true
   },
   "outputs": [
    {
     "name": "stdout",
     "output_type": "stream",
     "text": [
      "\n",
      "My name is Jhalak Dhami.\n",
      "I am a Student.\n",
      "I Live in Bajhang.\n",
      "I am xyz \n",
      "\n"
     ]
    }
   ],
   "source": [
    "file=open(\"myself.txt\",\"r\")\n",
    "data=file.read()\n",
    "# print(file.read())\n",
    "print(data)\n",
    "file.close()\n",
    "\n"
   ]
  },
  {
   "cell_type": "code",
   "execution_count": 90,
   "id": "8646123d-4699-4e39-9d60-91d582348d6f",
   "metadata": {},
   "outputs": [],
   "source": [
    "import os\n",
    "os.remove(\"myself.txt\")\n"
   ]
  }
 ],
 "metadata": {
  "kernelspec": {
   "display_name": "Python 3 (ipykernel)",
   "language": "python",
   "name": "python3"
  },
  "language_info": {
   "codemirror_mode": {
    "name": "ipython",
    "version": 3
   },
   "file_extension": ".py",
   "mimetype": "text/x-python",
   "name": "python",
   "nbconvert_exporter": "python",
   "pygments_lexer": "ipython3",
   "version": "3.12.6"
  },
  "widgets": {
   "application/vnd.jupyter.widget-state+json": {
    "state": {},
    "version_major": 2,
    "version_minor": 0
   }
  }
 },
 "nbformat": 4,
 "nbformat_minor": 5
}
