{
 "cells": [
  {
   "cell_type": "markdown",
   "id": "a7376b9f-6cca-4ba7-92b7-413b92de7b62",
   "metadata": {},
   "source": [
    "## Input /Output"
   ]
  },
  {
   "cell_type": "markdown",
   "id": "3b1025b9-85dc-47c2-bb4a-b1d6d50a75bc",
   "metadata": {},
   "source": [
    "### Input and output functions"
   ]
  },
  {
   "cell_type": "code",
   "execution_count": 5,
   "id": "b880eb69-b29e-4ddf-b38c-45716695a26a",
   "metadata": {},
   "outputs": [
    {
     "name": "stdin",
     "output_type": "stream",
     "text": [
      "Enter message: Hello Nepal\n"
     ]
    },
    {
     "name": "stdout",
     "output_type": "stream",
     "text": [
      "Your message is:  Hello Nepal\n"
     ]
    }
   ],
   "source": [
    "msg=input(\"Enter message:\")\n",
    "print(\"Your message is: \",msg)"
   ]
  },
  {
   "cell_type": "markdown",
   "id": "374e7816-2d5f-48e5-8768-a86e0d240487",
   "metadata": {},
   "source": [
    "### for  integer"
   ]
  },
  {
   "cell_type": "code",
   "execution_count": 8,
   "id": "ddcbca7b-335d-4858-ae89-6ce38329e7d1",
   "metadata": {},
   "outputs": [
    {
     "name": "stdin",
     "output_type": "stream",
     "text": [
      "Enter number:  6\n"
     ]
    },
    {
     "name": "stdout",
     "output_type": "stream",
     "text": [
      "Your entered number is:6\n"
     ]
    }
   ],
   "source": [
    "num=int(input(\"Enter number: \"))\n",
    "print(f\"Your entered number is:{num}\") "
   ]
  },
  {
   "cell_type": "code",
   "execution_count": 14,
   "id": "f6743034-701e-40b1-b2ca-91d431283c3f",
   "metadata": {},
   "outputs": [
    {
     "name": "stdin",
     "output_type": "stream",
     "text": [
      "Enter name: Ram Bahadur Dhami\n"
     ]
    },
    {
     "name": "stdout",
     "output_type": "stream",
     "text": [
      "your entered name is:  Ram Bahadur Dhami\n"
     ]
    }
   ],
   "source": [
    "name=input(\"Enter name:\")\n",
    "print(\"your entered name is: \",name)"
   ]
  },
  {
   "cell_type": "code",
   "execution_count": 19,
   "id": "02ab61db-6a53-4f29-b0c2-d980fa660e56",
   "metadata": {},
   "outputs": [
    {
     "name": "stdin",
     "output_type": "stream",
     "text": [
      "Enter address:  Bajhang\n"
     ]
    },
    {
     "name": "stdout",
     "output_type": "stream",
     "text": [
      "Your address:  Bajhang\n"
     ]
    }
   ],
   "source": [
    "address=input(\"Enter address: \")\n",
    "print(\"Your address: \",address)"
   ]
  },
  {
   "cell_type": "markdown",
   "id": "eb45583f-2ea9-4d7c-9667-738379ef3db7",
   "metadata": {},
   "source": [
    "### Print Multiline message"
   ]
  },
  {
   "cell_type": "code",
   "execution_count": 20,
   "id": "f7f66fbf-3eeb-42c9-9eaf-c055af8658e6",
   "metadata": {},
   "outputs": [
    {
     "name": "stdout",
     "output_type": "stream",
     "text": [
      "\n",
      "Twinkle, twinkle, little star,\n",
      "How I wonder what you are!\n",
      "Up above the world so high,\n",
      "Like a diamond in the sky.\n",
      "\n",
      "When the blazing sun is gone,\n",
      "When he nothing shines upon,\n",
      "Then you show your little light,\n",
      "Twinkle, twinkle, all the night.\n",
      "\n",
      "Then the trav'ller in the dark,\n",
      "Thanks you for your tiny spark,\n",
      "He could not see which way to go,\n",
      "If you did not twinkle so.\n",
      "\n",
      "In the dark blue sky you keep,\n",
      "And often thro' my curtains peep,\n",
      "For you never shut your eye,\n",
      "Till the sun is in the sky.\n",
      "\n",
      "'Tis your bright and tiny spark,\n",
      "Lights the trav'ller in the dark:\n",
      "Tho' I know not what you are,\n",
      "Twinkle, twinkle, little star.\n",
      "\n"
     ]
    }
   ],
   "source": [
    "print(\"\"\"\n",
    "Twinkle, twinkle, little star,\n",
    "How I wonder what you are!\n",
    "Up above the world so high,\n",
    "Like a diamond in the sky.\n",
    "\n",
    "When the blazing sun is gone,\n",
    "When he nothing shines upon,\n",
    "Then you show your little light,\n",
    "Twinkle, twinkle, all the night.\n",
    "\n",
    "Then the trav'ller in the dark,\n",
    "Thanks you for your tiny spark,\n",
    "He could not see which way to go,\n",
    "If you did not twinkle so.\n",
    "\n",
    "In the dark blue sky you keep,\n",
    "And often thro' my curtains peep,\n",
    "For you never shut your eye,\n",
    "Till the sun is in the sky.\n",
    "\n",
    "'Tis your bright and tiny spark,\n",
    "Lights the trav'ller in the dark:\n",
    "Tho' I know not what you are,\n",
    "Twinkle, twinkle, little star.\n",
    "\"\"\")"
   ]
  },
  {
   "cell_type": "markdown",
   "id": "d8d89f81-99e7-4579-93f7-db78946ac696",
   "metadata": {},
   "source": [
    "## split() function"
   ]
  },
  {
   "cell_type": "markdown",
   "id": "db684c8f-18c5-4dda-a7fb-363b5772faf7",
   "metadata": {},
   "source": [
    "a,b=input(\"Enter two integers: \").split()\n",
    "print(f\"a={a} and b= {b} \")\n",
    "type(a)"
   ]
  },
  {
   "cell_type": "code",
   "execution_count": 38,
   "id": "4c7a28da-f86e-4b1e-b10a-74bcaf713df6",
   "metadata": {},
   "outputs": [
    {
     "name": "stdin",
     "output_type": "stream",
     "text": [
      "Enter your name:  Ram\n"
     ]
    },
    {
     "name": "stdout",
     "output_type": "stream",
     "text": [
      "welcome, Ram\n"
     ]
    }
   ],
   "source": [
    "name = input(\"Enter your name: \")\n",
    "print(f\"welcome, {name}\")"
   ]
  },
  {
   "cell_type": "markdown",
   "id": "90db4700-6942-4aa4-b713-6521891c598f",
   "metadata": {},
   "source": [
    "###  Using map(int,input()).split())"
   ]
  },
  {
   "cell_type": "code",
   "execution_count": 45,
   "id": "737d77d5-bdc2-400b-836c-9612ca9c7e6f",
   "metadata": {},
   "outputs": [
    {
     "name": "stdin",
     "output_type": "stream",
     "text": [
      "Enter values of a,b and c 5  5 5\n"
     ]
    },
    {
     "name": "stdout",
     "output_type": "stream",
     "text": [
      "sum = 15\n"
     ]
    }
   ],
   "source": [
    "a,b,c= map(int,input(\"Enter values of a,b and c\").split())\n",
    "sum=a+b+c\n",
    "print(f\"sum = {sum}\")\n",
    "\n"
   ]
  },
  {
   "cell_type": "markdown",
   "id": "af73a509-f4fb-45ae-b86d-d3a285c111db",
   "metadata": {},
   "source": [
    "## s= ut+(at^2)/2\n"
   ]
  },
  {
   "cell_type": "code",
   "execution_count": 57,
   "id": "6a8df0ef-0795-484e-bc06-ca67a9b6ce83",
   "metadata": {},
   "outputs": [
    {
     "name": "stdin",
     "output_type": "stream",
     "text": [
      "Enter Velocity:  4\n",
      "Enter time : 4\n"
     ]
    },
    {
     "name": "stdout",
     "output_type": "stream",
     "text": [
      "displacement =  24.0\n"
     ]
    }
   ],
   "source": [
    "initialVelocity=int(input(\"Enter Velocity: \"))\n",
    "time=int(input(\"Enter time :\"))\n",
    "acceleration=initialVelocity/time\n",
    "\n",
    "displacement=initialVelocity*time+(acceleration*(time**2))/2\n",
    "\n",
    "print(\"displacement = \" ,displacement)\n",
    "\n"
   ]
  },
  {
   "cell_type": "code",
   "execution_count": null,
   "id": "144fa6ec-0120-42f9-8138-bd6ea2122dae",
   "metadata": {},
   "outputs": [],
   "source": []
  }
 ],
 "metadata": {
  "kernelspec": {
   "display_name": "Python 3 (ipykernel)",
   "language": "python",
   "name": "python3"
  },
  "language_info": {
   "codemirror_mode": {
    "name": "ipython",
    "version": 3
   },
   "file_extension": ".py",
   "mimetype": "text/x-python",
   "name": "python",
   "nbconvert_exporter": "python",
   "pygments_lexer": "ipython3",
   "version": "3.12.6"
  }
 },
 "nbformat": 4,
 "nbformat_minor": 5
}
