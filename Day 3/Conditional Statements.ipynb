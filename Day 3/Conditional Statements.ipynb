{
 "cells": [
  {
   "cell_type": "markdown",
   "id": "decb429e-5c4a-4c78-8408-3c1fe39897f0",
   "metadata": {},
   "source": [
    "## Conditional Statements\n",
    "- if statement\n",
    "- if else statement\n",
    "- if elif statement"
   ]
  },
  {
   "cell_type": "markdown",
   "id": "eb81715b-f969-4100-89b0-401e90925a6d",
   "metadata": {},
   "source": [
    "# 1. if statement "
   ]
  },
  {
   "cell_type": "code",
   "execution_count": 8,
   "id": "6edcb6f0-9926-42d3-a1a1-d7ac28ca3dfe",
   "metadata": {},
   "outputs": [
    {
     "name": "stdout",
     "output_type": "stream",
     "text": [
      "5 is greater than 4\n",
      "out of scope\n"
     ]
    }
   ],
   "source": [
    "a=5\n",
    "b=4\n",
    "\n",
    "if(a>b):\n",
    "    print(f\"{a} is greater than {b}\")\n",
    "print(\"out of scope\")"
   ]
  },
  {
   "cell_type": "code",
   "execution_count": 7,
   "id": "a6a77da8-ad8b-4d82-ab80-c7aa836976cc",
   "metadata": {},
   "outputs": [
    {
     "name": "stdout",
     "output_type": "stream",
     "text": [
      "4 is less than 5\n",
      "out of scope\n"
     ]
    }
   ],
   "source": [
    "if(b<a):\n",
    "    print(f\"{b} is less than {a}\")\n",
    "print(\"out of scope\")"
   ]
  },
  {
   "cell_type": "code",
   "execution_count": 6,
   "id": "6dcf38ea-d676-4c6b-8c43-e1103069b074",
   "metadata": {},
   "outputs": [
    {
     "name": "stdout",
     "output_type": "stream",
     "text": [
      "5 is not equal to 4\n",
      "out of scope\n"
     ]
    }
   ],
   "source": [
    "if(a!=b) :\n",
    "    print(f\"{a} is not equal to {b}\")\n",
    "print(\"out of scope\")"
   ]
  },
  {
   "cell_type": "markdown",
   "id": "81929b54-9dca-45f0-aff5-ad2970119f84",
   "metadata": {},
   "source": [
    "# 2. if else statement "
   ]
  },
  {
   "cell_type": "code",
   "execution_count": 13,
   "id": "4668b68f-8f53-4f5f-960b-9d4444a3047e",
   "metadata": {},
   "outputs": [
    {
     "name": "stdin",
     "output_type": "stream",
     "text": [
      "Enter your age:  45\n"
     ]
    },
    {
     "name": "stdout",
     "output_type": "stream",
     "text": [
      "you are eligible for vote !! \n"
     ]
    }
   ],
   "source": [
    "age=int(input(\"Enter your age: \"))\n",
    "if(age>=18):\n",
    "    print(\"you are eligible for vote !! \") \n",
    "else:\n",
    "    print(\"your are not eligible !\")\n"
   ]
  },
  {
   "cell_type": "markdown",
   "id": "350b1bff-1772-429e-babf-4fdd679e9ca8",
   "metadata": {},
   "source": [
    "# 3. if elif statement "
   ]
  },
  {
   "cell_type": "code",
   "execution_count": 44,
   "id": "bab7c64c-0bca-44a8-851f-da641205e539",
   "metadata": {},
   "outputs": [
    {
     "name": "stdin",
     "output_type": "stream",
     "text": [
      "Enter your obtained marks:  89\n"
     ]
    },
    {
     "name": "stdout",
     "output_type": "stream",
     "text": [
      "Your grade is: A\n"
     ]
    }
   ],
   "source": [
    "marks=int(input(\"Enter your obtained marks: \"))\n",
    "if(marks>90 and marks<=100):\n",
    "    print(\"Your grade is: A+\" )\n",
    "elif marks>80:\n",
    "    print(\"Your grade is: A\" )\n",
    "elif marks>70:\n",
    "    print(\"Your grade is: B+\" )\n",
    "elif marks>60:\n",
    "    print(\"Your grade is: B\" )\n",
    "elif marks>50:\n",
    "    print(\"Your grade is: C+\" )\n",
    "elif marks>40:\n",
    "    print(\"Your grade is: C\" )\n",
    "elif marks>30:\n",
    "    print(\"Your grade is: D+\" )\n",
    "elif marks>20:\n",
    "    print(\"Your grade is: D\" )\n",
    "elif marks>0:\n",
    "    print(\"Your grade is: E\" )\n",
    "else:\n",
    "    print(\"Enter valid marks..\")\n",
    "    "
   ]
  },
  {
   "cell_type": "code",
   "execution_count": 35,
   "id": "f760f3d7-964f-486b-8cd0-1ae96d5c17e4",
   "metadata": {},
   "outputs": [
    {
     "name": "stdin",
     "output_type": "stream",
     "text": [
      "Enter age:  18\n"
     ]
    },
    {
     "name": "stdout",
     "output_type": "stream",
     "text": [
      "your are teenager\n"
     ]
    }
   ],
   "source": [
    "age = int(input(\"Enter age: \"))\n",
    "if age <10:\n",
    "    print(\"your are child\")\n",
    "elif age<20:\n",
    "       print(\"your are teenager\")\n",
    "elif age<30:\n",
    "       print(\"your are young\")\n",
    "elif age<40:\n",
    "       print(\"your are adult\")\n",
    "else:\n",
    "    print(\"your are old\")\n",
    "    \n",
    "    \n",
    "    "
   ]
  },
  {
   "cell_type": "markdown",
   "id": "ad70c3c7-fc9d-4878-a2fb-437af5526d0b",
   "metadata": {},
   "source": [
    "## Nested if else statement "
   ]
  },
  {
   "cell_type": "code",
   "execution_count": 53,
   "id": "c9913079-9f17-49a7-b31e-82c72a9d8a8c",
   "metadata": {},
   "outputs": [
    {
     "name": "stdin",
     "output_type": "stream",
     "text": [
      "Enter age:  4\n"
     ]
    },
    {
     "name": "stdout",
     "output_type": "stream",
     "text": [
      "Drink Milk\n"
     ]
    }
   ],
   "source": [
    "age=int(input(\"Enter age: \"))\n",
    "if age<18:\n",
    "    if age<10:\n",
    "        print(\"Drink Milk\")\n",
    "    else:\n",
    "        print(\"Eat rice\")\n",
    "else:\n",
    "    if age<50:\n",
    "        print(\"Eat Roti\")\n",
    "    else:\n",
    "        print(\"Drink chiya\")\n",
    "    "
   ]
  },
  {
   "cell_type": "markdown",
   "id": "0b954e01-fa7c-4c55-b281-0f5f407309d3",
   "metadata": {},
   "source": [
    "# Expression Evaluation \n"
   ]
  },
  {
   "cell_type": "code",
   "execution_count": 69,
   "id": "88876d02-7496-49f0-ac0f-ed74ca9f6c71",
   "metadata": {},
   "outputs": [
    {
     "name": "stdin",
     "output_type": "stream",
     "text": [
      "Enter expression [ eg: 5 + 6 ] :  5 + 5\n"
     ]
    },
    {
     "name": "stdout",
     "output_type": "stream",
     "text": [
      "the sum is:  10\n"
     ]
    }
   ],
   "source": [
    "a,op,b=input(\"Enter expression [ eg: 5 + 6 ] : \").split()\n",
    "a=int(a)\n",
    "b=int(b)\n",
    "\n",
    "if op==\"+\":\n",
    "    print(\"the sum is: \",a+b)\n",
    "elif op==\"-\":\n",
    "    print(\"the difference is: \",a-b)\n",
    "elif op==\"*\":\n",
    "    print(\"the product is: \",a*b)\n",
    "elif op==\"/\":\n",
    "    if(b==0):\n",
    "        print(\"divisible by zero , value of b is \",b)\n",
    "    else:\n",
    "        print(\"the division is: \",a/b)\n",
    "elif op==\"%\":\n",
    "    print(\"the reminder is: \",a%b)\n",
    "else:\n",
    "    print(\"please enter valid expression \")\n",
    "    "
   ]
  },
  {
   "cell_type": "code",
   "execution_count": null,
   "id": "c38c4af3-f64a-4e31-a5b6-113d35312b2d",
   "metadata": {},
   "outputs": [],
   "source": []
  },
  {
   "cell_type": "code",
   "execution_count": null,
   "id": "9e3c14e3-d3fe-4983-9d46-095f6ff02635",
   "metadata": {},
   "outputs": [],
   "source": []
  }
 ],
 "metadata": {
  "kernelspec": {
   "display_name": "Python 3 (ipykernel)",
   "language": "python",
   "name": "python3"
  },
  "language_info": {
   "codemirror_mode": {
    "name": "ipython",
    "version": 3
   },
   "file_extension": ".py",
   "mimetype": "text/x-python",
   "name": "python",
   "nbconvert_exporter": "python",
   "pygments_lexer": "ipython3",
   "version": "3.12.6"
  }
 },
 "nbformat": 4,
 "nbformat_minor": 5
}
