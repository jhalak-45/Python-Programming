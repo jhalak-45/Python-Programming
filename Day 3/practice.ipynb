{
 "cells": [
  {
   "cell_type": "markdown",
   "id": "770b80a7-99ca-494f-81ea-94a8c70ac19c",
   "metadata": {},
   "source": [
    "## 1. Write a Python program that takes an integer as input and determines whether it's even or odd."
   ]
  },
  {
   "cell_type": "code",
   "execution_count": 1,
   "id": "fa34a9c2-d222-4e85-862e-2bdc5d32db29",
   "metadata": {},
   "outputs": [
    {
     "name": "stdin",
     "output_type": "stream",
     "text": [
      "Enter an integer:  8\n"
     ]
    },
    {
     "name": "stdout",
     "output_type": "stream",
     "text": [
      "8 is even.\n"
     ]
    }
   ],
   "source": [
    "num = int(input(\"Enter an integer: \"))\n",
    "\n",
    "if num % 2 == 0:\n",
    "    print(f\"{num} is even.\")\n",
    "else:\n",
    "    print(f\"{num} is odd.\")\n"
   ]
  },
  {
   "cell_type": "markdown",
   "id": "d172a5d6-65b2-41d9-be10-51456c926d22",
   "metadata": {},
   "source": [
    "## 2. Create a Python program that accepts a student's score as input and  assigns a grade based on the following scale:\n",
    "    A (90-100)\n",
    "    B (80-89)\n",
    "    C (70-79)\n",
    "    D (60-69)\n",
    "    F (0-59)"
   ]
  },
  {
   "cell_type": "code",
   "execution_count": 8,
   "id": "67d9d86f-1e2d-4e58-8f5a-8fe2a4f567ec",
   "metadata": {},
   "outputs": [
    {
     "name": "stdin",
     "output_type": "stream",
     "text": [
      "Enter the student's score:  89\n"
     ]
    },
    {
     "name": "stdout",
     "output_type": "stream",
     "text": [
      "Grade: B\n"
     ]
    }
   ],
   "source": [
    "score = int(input(\"Enter the student's score: \"))\n",
    "\n",
    "if 90 <=  score <= 100: # or if 90 <= score and score <= 100:\n",
    "    print(\"Grade: A\")\n",
    "elif 80 <= score < 90:\n",
    "    print(\"Grade: B\")\n",
    "elif 70 <= score < 80:\n",
    "    print(\"Grade: C\")\n",
    "elif 60 <= score < 70:\n",
    "    print(\"Grade: D\")\n",
    "elif 0 <= score < 60:\n",
    "    print(\"Grade: F\")\n",
    "else:\n",
    "    print(\"Invalid score.\")\n"
   ]
  },
  {
   "cell_type": "markdown",
   "id": "661dd3c2-5c6a-45ba-8bbb-e4b9c4102d58",
   "metadata": {},
   "source": [
    "## 3. Develop a Python program to check if a given year is a leap year."
   ]
  },
  {
   "cell_type": "code",
   "execution_count": 4,
   "id": "7dbb74df-2232-46b6-b75c-347f76f4bcde",
   "metadata": {},
   "outputs": [
    {
     "name": "stdin",
     "output_type": "stream",
     "text": [
      "Enter a year:  1996\n"
     ]
    },
    {
     "name": "stdout",
     "output_type": "stream",
     "text": [
      "1996 is a leap year.\n"
     ]
    }
   ],
   "source": [
    "year = int(input(\"Enter a year: \"))\n",
    "\n",
    "if (year % 4 == 0 and year % 100 != 0) or (year % 400 == 0):\n",
    "    print(f\"{year} is a leap year.\")\n",
    "else:\n",
    "    print(f\"{year} is not a leap year.\")\n"
   ]
  },
  {
   "cell_type": "markdown",
   "id": "d09687ac-e8c9-4006-9f92-0df0da2d1171",
   "metadata": {},
   "source": [
    "## 4. Write a Python program that finds the largest among three input numbers."
   ]
  },
  {
   "cell_type": "code",
   "execution_count": 5,
   "id": "977fef66-963f-4d52-8e3c-20f8b97a99fc",
   "metadata": {},
   "outputs": [
    {
     "name": "stdin",
     "output_type": "stream",
     "text": [
      "Enter the first number:  17\n",
      "Enter the second number:  12\n",
      "Enter the third number:  12\n"
     ]
    },
    {
     "name": "stdout",
     "output_type": "stream",
     "text": [
      "The largest number is 17.0.\n"
     ]
    }
   ],
   "source": [
    "num1 = float(input(\"Enter the first number: \"))\n",
    "num2 = float(input(\"Enter the second number: \"))\n",
    "num3 = float(input(\"Enter the third number: \"))\n",
    "\n",
    "if num1 >= num2 and num1 >= num3:\n",
    "    print(f\"The largest number is {num1}.\")\n",
    "elif num2 >= num1 and num2 >= num3:\n",
    "    print(f\"The largest number is {num2}.\")\n",
    "else:\n",
    "    print(f\"The largest number is {num3}.\")\n"
   ]
  },
  {
   "cell_type": "markdown",
   "id": "4abf6b9e-584d-4c99-868a-5b71161cacd8",
   "metadata": {},
   "source": [
    "## 5. Create a Python program to solve a quadratic equation of the form ax² + bx + c = 0."
   ]
  },
  {
   "cell_type": "code",
   "execution_count": 7,
   "id": "b7215b30-1cfd-4de0-be9f-ecc707e80693",
   "metadata": {},
   "outputs": [
    {
     "name": "stdin",
     "output_type": "stream",
     "text": [
      "Enter the coefficient a:  1\n",
      "Enter the coefficient b:  2\n",
      "Enter the coefficient c:  1\n"
     ]
    },
    {
     "name": "stdout",
     "output_type": "stream",
     "text": [
      "The root is -1.0.\n"
     ]
    }
   ],
   "source": [
    "import math\n",
    "\n",
    "a = float(input(\"Enter the coefficient a: \"))\n",
    "b = float(input(\"Enter the coefficient b: \"))\n",
    "c = float(input(\"Enter the coefficient c: \"))\n",
    "\n",
    "discriminant = b**2 - 4*a*c\n",
    "\n",
    "if discriminant > 0:\n",
    "    root1 = (-b + math.sqrt(discriminant)) / (2 * a)\n",
    "    root2 = (-b - math.sqrt(discriminant)) / (2 * a)\n",
    "    print(f\"The roots are {root1} and {root2}.\")\n",
    "elif discriminant == 0:\n",
    "    root = -b / (2 * a)\n",
    "    print(f\"The root is {root}.\")\n",
    "else:\n",
    "    print(\"There are imaginary roots.\")\n"
   ]
  }
 ],
 "metadata": {
  "kernelspec": {
   "display_name": "Python 3 (ipykernel)",
   "language": "python",
   "name": "python3"
  },
  "language_info": {
   "codemirror_mode": {
    "name": "ipython",
    "version": 3
   },
   "file_extension": ".py",
   "mimetype": "text/x-python",
   "name": "python",
   "nbconvert_exporter": "python",
   "pygments_lexer": "ipython3",
   "version": "3.12.6"
  }
 },
 "nbformat": 4,
 "nbformat_minor": 5
}
