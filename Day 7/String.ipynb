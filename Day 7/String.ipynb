{
 "cells": [
  {
   "cell_type": "markdown",
   "id": "aed21bfc-2115-4332-827a-450d7558bdab",
   "metadata": {},
   "source": [
    "## String in python"
   ]
  },
  {
   "cell_type": "code",
   "execution_count": 2,
   "id": "b2e73e06-b9ce-4114-bb54-ab145fce9a19",
   "metadata": {},
   "outputs": [
    {
     "name": "stdout",
     "output_type": "stream",
     "text": [
      "Everest Engineering College\n"
     ]
    }
   ],
   "source": [
    "string=\"Everest Engineering College\"\n",
    "print(string)"
   ]
  },
  {
   "cell_type": "code",
   "execution_count": 3,
   "id": "e64493ea-921e-4c9f-826a-10c5bd987feb",
   "metadata": {},
   "outputs": [
    {
     "data": {
      "text/plain": [
       "str"
      ]
     },
     "execution_count": 3,
     "metadata": {},
     "output_type": "execute_result"
    }
   ],
   "source": [
    "type(string)"
   ]
  },
  {
   "cell_type": "code",
   "execution_count": 4,
   "id": "bb420a3a-5f68-45bb-8118-66b173e5a3b3",
   "metadata": {},
   "outputs": [
    {
     "name": "stdout",
     "output_type": "stream",
     "text": [
      "E\n"
     ]
    }
   ],
   "source": [
    "print(string[0])"
   ]
  },
  {
   "cell_type": "code",
   "execution_count": 5,
   "id": "835df42a-d1bf-4f65-910f-f66ffb00e57d",
   "metadata": {},
   "outputs": [
    {
     "name": "stdout",
     "output_type": "stream",
     "text": [
      "e\n"
     ]
    }
   ],
   "source": [
    "print(string[-1])"
   ]
  },
  {
   "cell_type": "code",
   "execution_count": 6,
   "id": "7eabea0d-94c5-4dcc-9473-20afd4294f39",
   "metadata": {},
   "outputs": [
    {
     "name": "stdout",
     "output_type": "stream",
     "text": [
      "erest \n"
     ]
    }
   ],
   "source": [
    "print(string[2:8])"
   ]
  },
  {
   "cell_type": "code",
   "execution_count": 10,
   "id": "df2d31c8-f353-4c47-8247-581841aebc89",
   "metadata": {},
   "outputs": [
    {
     "name": "stdout",
     "output_type": "stream",
     "text": [
      "Everest \n"
     ]
    }
   ],
   "source": [
    "print(string[:8])"
   ]
  },
  {
   "cell_type": "code",
   "execution_count": 14,
   "id": "112e23ff-a597-46e0-bc3e-5ad01827de27",
   "metadata": {},
   "outputs": [
    {
     "name": "stdout",
     "output_type": "stream",
     "text": [
      "['Everest', 'Engineering', 'College']\n"
     ]
    }
   ],
   "source": [
    "words=string.split()\n",
    "print(words)"
   ]
  },
  {
   "cell_type": "code",
   "execution_count": 30,
   "id": "5e202cc7-0727-43a3-a56b-e89607a7e496",
   "metadata": {},
   "outputs": [
    {
     "name": "stdout",
     "output_type": "stream",
     "text": [
      "('Everest', 'Engineering', 'College')\n"
     ]
    }
   ],
   "source": [
    "str1=tuple(words)\n",
    "print(str1)\n",
    "del(string)"
   ]
  },
  {
   "cell_type": "code",
   "execution_count": 39,
   "id": "7532b98a-e026-4841-b4e0-cd9a29c2fffd",
   "metadata": {},
   "outputs": [
    {
     "name": "stdout",
     "output_type": "stream",
     "text": [
      "Everest Engineering College\n"
     ]
    }
   ],
   "source": [
    "\n",
    "str1=' '.join(words)\n",
    "print(str1)"
   ]
  },
  {
   "cell_type": "code",
   "execution_count": 43,
   "id": "734d7378-6873-409b-a1d2-46712a934251",
   "metadata": {},
   "outputs": [
    {
     "data": {
      "text/plain": [
       "'EVEREST ENGINEERING COLLEGE'"
      ]
     },
     "execution_count": 43,
     "metadata": {},
     "output_type": "execute_result"
    }
   ],
   "source": [
    "str1.upper()\n"
   ]
  },
  {
   "cell_type": "code",
   "execution_count": 44,
   "id": "56b7a413-6571-43ee-988c-cb7b6f90065c",
   "metadata": {},
   "outputs": [
    {
     "data": {
      "text/plain": [
       "'everest engineering college'"
      ]
     },
     "execution_count": 44,
     "metadata": {},
     "output_type": "execute_result"
    }
   ],
   "source": [
    "str1.lower()"
   ]
  },
  {
   "cell_type": "code",
   "execution_count": 53,
   "id": "21ddf695-32a7-487d-b920-2b3c9750dc1f",
   "metadata": {},
   "outputs": [
    {
     "data": {
      "text/plain": [
       "'Everest engineering college'"
      ]
     },
     "execution_count": 53,
     "metadata": {},
     "output_type": "execute_result"
    }
   ],
   "source": [
    "str1.capitalize()"
   ]
  },
  {
   "cell_type": "code",
   "execution_count": 58,
   "id": "583db8e7-016b-4a85-9abe-c166bfdf01cd",
   "metadata": {},
   "outputs": [
    {
     "name": "stdout",
     "output_type": "stream",
     "text": [
      "E\n",
      "v\n",
      "e\n",
      "r\n",
      "e\n",
      "s\n",
      "t\n",
      " \n",
      "E\n",
      "n\n",
      "g\n",
      "i\n",
      "n\n",
      "e\n",
      "e\n",
      "r\n",
      "i\n",
      "n\n",
      "g\n",
      " \n",
      "C\n",
      "o\n",
      "l\n",
      "l\n",
      "e\n",
      "g\n",
      "e\n"
     ]
    }
   ],
   "source": [
    "for s in str1:\n",
    "    print(s)"
   ]
  },
  {
   "cell_type": "code",
   "execution_count": 70,
   "id": "98f8f3d9-4855-45cb-84da-dfdfff7640f7",
   "metadata": {},
   "outputs": [
    {
     "name": "stdout",
     "output_type": "stream",
     "text": [
      "Hello Hello Hello Hello \n"
     ]
    }
   ],
   "source": [
    "str2=\"Hello \"\n",
    "str3=str2*4\n",
    "print(str3)"
   ]
  },
  {
   "cell_type": "code",
   "execution_count": 79,
   "id": "91068247-5cc8-4602-9279-b6cca8b8a4e7",
   "metadata": {},
   "outputs": [
    {
     "name": "stdout",
     "output_type": "stream",
     "text": [
      "say,Hello \n",
      "say,Hello  \n"
     ]
    }
   ],
   "source": [
    "print(f\"say,{str2}\")\n",
    "print(\"say,{} \".format(str2))"
   ]
  },
  {
   "cell_type": "code",
   "execution_count": 75,
   "id": "11650117-cbcf-4661-a64a-b65b8e75f869",
   "metadata": {},
   "outputs": [
    {
     "name": "stdout",
     "output_type": "stream",
     "text": [
      "\n",
      "ajhfasdfa\n",
      "asfdasfsa\n",
      "asfdasf\n",
      "asfasd\n",
      "fsa\n",
      "df\n",
      "\n"
     ]
    }
   ],
   "source": [
    "multiline='''\n",
    "ajhfasdfa\n",
    "asfdasfsa\n",
    "asfdasf\n",
    "asfasd\n",
    "fsa\n",
    "df\n",
    "'''\n",
    "print(multiline)"
   ]
  },
  {
   "cell_type": "code",
   "execution_count": 96,
   "id": "6dc25628-ed2d-4730-ad5a-eb9093ee9423",
   "metadata": {},
   "outputs": [
    {
     "name": "stdout",
     "output_type": "stream",
     "text": [
      "25\n",
      "36\n",
      "49\n",
      "64\n",
      "81\n"
     ]
    }
   ],
   "source": [
    "list1=[5,6,7,8,9]\n",
    "for l in list1:\n",
    "    print(l**2) "
   ]
  },
  {
   "cell_type": "code",
   "execution_count": 110,
   "id": "a451fa1b-7042-4840-bfe8-40639c24efb3",
   "metadata": {},
   "outputs": [],
   "source": [
    "list2=[]\n",
    "# for i in range(len(list1)):\n",
    "#     list2.insert(i,list1[i]**2)\n",
    "# print(list2)"
   ]
  },
  {
   "cell_type": "code",
   "execution_count": 126,
   "id": "073e4b5c-13b6-495a-b8b2-038897693435",
   "metadata": {},
   "outputs": [
    {
     "name": "stdout",
     "output_type": "stream",
     "text": [
      "Mango\n",
      "Apple\n",
      "Banana\n",
      "Apple\n"
     ]
    }
   ],
   "source": [
    "fruits=[\"Mango\",\"Apple\",\"Banana\",\"Apple\"]\n",
    "for f in fruits:\n",
    "    print(f)"
   ]
  },
  {
   "cell_type": "code",
   "execution_count": 181,
   "id": "b37b6033-ae35-494c-b46d-30363792e841",
   "metadata": {},
   "outputs": [],
   "source": [
    "list1=[]\n",
    "\n",
    "for f in range(len(fruits)):\n",
    "    if fruits[f] not in list1:\n",
    "        list1.append(fruits[f])"
   ]
  },
  {
   "cell_type": "code",
   "execution_count": 182,
   "id": "cc644a97-d795-4adb-8579-7547b7b61e60",
   "metadata": {},
   "outputs": [
    {
     "name": "stdout",
     "output_type": "stream",
     "text": [
      "['Mango', 'Apple', 'Banana']\n"
     ]
    }
   ],
   "source": [
    "print(list1)"
   ]
  }
 ],
 "metadata": {
  "kernelspec": {
   "display_name": "Python 3 (ipykernel)",
   "language": "python",
   "name": "python3"
  },
  "language_info": {
   "codemirror_mode": {
    "name": "ipython",
    "version": 3
   },
   "file_extension": ".py",
   "mimetype": "text/x-python",
   "name": "python",
   "nbconvert_exporter": "python",
   "pygments_lexer": "ipython3",
   "version": "3.12.6"
  },
  "widgets": {
   "application/vnd.jupyter.widget-state+json": {
    "state": {},
    "version_major": 2,
    "version_minor": 0
   }
  }
 },
 "nbformat": 4,
 "nbformat_minor": 5
}
